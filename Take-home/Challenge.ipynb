{
 "cells": [
  {
   "cell_type": "markdown",
   "metadata": {},
   "source": [
    "## Part 1 ‑ Exploratory data analysis\n",
    "The attached logins.json file contains (simulated) timestamps of user logins in a particular\n",
    "geographic location. Aggregate these login counts based on 15minute\n",
    "time intervals, and visualize and describe the resulting time series of login counts in ways that best characterize the underlying patterns of the demand. Please report/illustrate important features of the demand, such as daily cycles. If there are data quality issues, please report them."
   ]
  },
  {
   "cell_type": "code",
   "execution_count": 534,
   "metadata": {},
   "outputs": [],
   "source": [
    "# import libraries in this cell.\n",
    "import json\n",
    "import pandas as pd\n",
    "from pandas.io.json import json_normalize\n",
    "import numpy as np\n",
    "import matplotlib.pyplot as plt\n",
    "import seaborn as sns\n",
    "import datetime as dt\n",
    "import calendar"
   ]
  },
  {
   "cell_type": "code",
   "execution_count": 931,
   "metadata": {},
   "outputs": [],
   "source": [
    "# igonre warning settings\n",
    "import warnings\n",
    "warnings.filterwarnings('ignore')"
   ]
  },
  {
   "cell_type": "code",
   "execution_count": 2,
   "metadata": {},
   "outputs": [
    {
     "data": {
      "text/html": [
       "<div>\n",
       "<style>\n",
       "    .dataframe thead tr:only-child th {\n",
       "        text-align: right;\n",
       "    }\n",
       "\n",
       "    .dataframe thead th {\n",
       "        text-align: left;\n",
       "    }\n",
       "\n",
       "    .dataframe tbody tr th {\n",
       "        vertical-align: top;\n",
       "    }\n",
       "</style>\n",
       "<table border=\"1\" class=\"dataframe\">\n",
       "  <thead>\n",
       "    <tr style=\"text-align: right;\">\n",
       "      <th></th>\n",
       "      <th>login_time</th>\n",
       "    </tr>\n",
       "  </thead>\n",
       "  <tbody>\n",
       "    <tr>\n",
       "      <th>0</th>\n",
       "      <td>1970-01-01 20:13:18</td>\n",
       "    </tr>\n",
       "    <tr>\n",
       "      <th>1</th>\n",
       "      <td>1970-01-01 20:16:10</td>\n",
       "    </tr>\n",
       "    <tr>\n",
       "      <th>2</th>\n",
       "      <td>1970-01-01 20:16:37</td>\n",
       "    </tr>\n",
       "    <tr>\n",
       "      <th>3</th>\n",
       "      <td>1970-01-01 20:16:36</td>\n",
       "    </tr>\n",
       "    <tr>\n",
       "      <th>4</th>\n",
       "      <td>1970-01-01 20:26:21</td>\n",
       "    </tr>\n",
       "  </tbody>\n",
       "</table>\n",
       "</div>"
      ],
      "text/plain": [
       "           login_time\n",
       "0 1970-01-01 20:13:18\n",
       "1 1970-01-01 20:16:10\n",
       "2 1970-01-01 20:16:37\n",
       "3 1970-01-01 20:16:36\n",
       "4 1970-01-01 20:26:21"
      ]
     },
     "execution_count": 2,
     "metadata": {},
     "output_type": "execute_result"
    }
   ],
   "source": [
    "# read logins.jason file into a dataframe: logins\n",
    "logins = pd.read_json(\"logins.json\", orient='columns')\n",
    "\n",
    "# print few records from the df\n",
    "logins.head()"
   ]
  },
  {
   "cell_type": "code",
   "execution_count": 3,
   "metadata": {},
   "outputs": [
    {
     "name": "stdout",
     "output_type": "stream",
     "text": [
      "<class 'pandas.core.frame.DataFrame'>\n",
      "Int64Index: 93142 entries, 0 to 93141\n",
      "Data columns (total 1 columns):\n",
      "login_time    93142 non-null datetime64[ns]\n",
      "dtypes: datetime64[ns](1)\n",
      "memory usage: 1.4 MB\n"
     ]
    }
   ],
   "source": [
    "# get the basic info about entire dataset\n",
    "logins.info()"
   ]
  },
  {
   "cell_type": "markdown",
   "metadata": {},
   "source": [
    "There isn't any null or **NaN** values in the dataset. Data type of the column is already datetime. So we are good to process further. <br>\n",
    "We will have to resample the dataset in 15min time interval and count the number of logins in that time interval and then proceed with the visualization and analysis."
   ]
  },
  {
   "cell_type": "code",
   "execution_count": 4,
   "metadata": {},
   "outputs": [],
   "source": [
    "# set column login_time as index\n",
    "logins = logins.set_index(\"login_time\")"
   ]
  },
  {
   "cell_type": "code",
   "execution_count": 5,
   "metadata": {},
   "outputs": [],
   "source": [
    "#Create a new column to count the number of logins occurances: count set its value to 1 for each row\n",
    "logins['count'] = 1"
   ]
  },
  {
   "cell_type": "code",
   "execution_count": 6,
   "metadata": {},
   "outputs": [
    {
     "data": {
      "text/html": [
       "<div>\n",
       "<style>\n",
       "    .dataframe thead tr:only-child th {\n",
       "        text-align: right;\n",
       "    }\n",
       "\n",
       "    .dataframe thead th {\n",
       "        text-align: left;\n",
       "    }\n",
       "\n",
       "    .dataframe tbody tr th {\n",
       "        vertical-align: top;\n",
       "    }\n",
       "</style>\n",
       "<table border=\"1\" class=\"dataframe\">\n",
       "  <thead>\n",
       "    <tr style=\"text-align: right;\">\n",
       "      <th></th>\n",
       "      <th>count</th>\n",
       "    </tr>\n",
       "    <tr>\n",
       "      <th>login_time</th>\n",
       "      <th></th>\n",
       "    </tr>\n",
       "  </thead>\n",
       "  <tbody>\n",
       "    <tr>\n",
       "      <th>1970-01-01 20:00:00</th>\n",
       "      <td>2.0</td>\n",
       "    </tr>\n",
       "    <tr>\n",
       "      <th>1970-01-01 20:15:00</th>\n",
       "      <td>6.0</td>\n",
       "    </tr>\n",
       "    <tr>\n",
       "      <th>1970-01-01 20:30:00</th>\n",
       "      <td>9.0</td>\n",
       "    </tr>\n",
       "    <tr>\n",
       "      <th>1970-01-01 20:45:00</th>\n",
       "      <td>7.0</td>\n",
       "    </tr>\n",
       "    <tr>\n",
       "      <th>1970-01-01 21:00:00</th>\n",
       "      <td>1.0</td>\n",
       "    </tr>\n",
       "  </tbody>\n",
       "</table>\n",
       "</div>"
      ],
      "text/plain": [
       "                     count\n",
       "login_time                \n",
       "1970-01-01 20:00:00    2.0\n",
       "1970-01-01 20:15:00    6.0\n",
       "1970-01-01 20:30:00    9.0\n",
       "1970-01-01 20:45:00    7.0\n",
       "1970-01-01 21:00:00    1.0"
      ]
     },
     "execution_count": 6,
     "metadata": {},
     "output_type": "execute_result"
    }
   ],
   "source": [
    "# resmaple the entire dataset with 15min time interval\n",
    "logins = logins.resample('15T').sum()\n",
    "\n",
    "# print first few rows to check the data\n",
    "logins.head(5)"
   ]
  },
  {
   "cell_type": "code",
   "execution_count": 7,
   "metadata": {},
   "outputs": [
    {
     "data": {
      "text/plain": [
       "(9788, 1)"
      ]
     },
     "execution_count": 7,
     "metadata": {},
     "output_type": "execute_result"
    }
   ],
   "source": [
    "logins.shape"
   ]
  },
  {
   "cell_type": "markdown",
   "metadata": {},
   "source": [
    "Now the number of rows has been redued to 9788 from 93142. Let's plot this entire dataset and look for pattern."
   ]
  },
  {
   "cell_type": "code",
   "execution_count": 17,
   "metadata": {},
   "outputs": [
    {
     "data": {
      "image/png": "[encoded data removed]",
      "text/plain": [
       "<matplotlib.figure.Figure at 0x1a1bef8128>"
      ]
     },
     "metadata": {},
     "output_type": "display_data"
    }
   ],
   "source": [
    "# plot the entire dataset\n",
    "plt.figure(figsize=(15,6))\n",
    "plt.xticks(fontsize='large')\n",
    "plt.yticks(fontsize='large')\n",
    "plt.xlabel(\"Dates\", fontsize='large')\n",
    "plt.ylabel(\"Frequency\", fontsize='large')\n",
    "plt.plot(logins)\n",
    "plt.show()"
   ]
  },
  {
   "cell_type": "markdown",
   "metadata": {},
   "source": [
    "**Intital Findings:** It looks like we have 4 months data avaialable. And there are patterns for sure. In next couple of section we will try to describe the underlying pattern of demands."
   ]
  },
  {
   "cell_type": "markdown",
   "metadata": {},
   "source": [
    "Before prociding further let's first define a function **\"plot_graph\"** to be used for ploting **bar** or **line** graph for this part of the project."
   ]
  },
  {
   "cell_type": "code",
   "execution_count": 504,
   "metadata": {},
   "outputs": [],
   "source": [
    "# Function to be used for plotting bar and line: plot_graph\n",
    "def plot_graph(df, kind, x_label, title):\n",
    "    ''' This function will be used for plotting line and bar graph'''\n",
    "    fontsize=\"large\"\n",
    "    y_label=\"Count/Frequency\"\n",
    "    figsize=(15, 6)\n",
    "    if kind=='bar':\n",
    "        color = 'Accent'\n",
    "        rotation = 360\n",
    "        df.plot(kind=kind, figsize=figsize, fontsize=fontsize, colormap=color, rot=rotation)\n",
    "        plt.xlabel(x_label, fontsize=fontsize)\n",
    "        plt.ylabel(y_label, fontsize=fontsize)\n",
    "        plt.title(title, fontsize=fontsize)\n",
    "        plt.show()\n",
    "    if kind==\"line\":\n",
    "        df.plot(kind=kind, figsize=figsize, fontsize=fontsize)\n",
    "        plt.xlabel(x_label, fontsize=fontsize)\n",
    "        plt.ylabel(y_label, fontsize=fontsize)\n",
    "        plt.title(title, fontsize=fontsize)\n",
    "        plt.show()\n",
    "    if kind not in ('line','bar'):\n",
    "        #print(\"Something is wrong!\")\n",
    "        print(\"Something is wrong!\\nMake sure to provide 'dataframe', 'kind' as bar or line,label for x axis and title for the plot.\")\n",
    "    return\n"
   ]
  },
  {
   "cell_type": "code",
   "execution_count": 20,
   "metadata": {},
   "outputs": [],
   "source": [
    "# create a new dataframe for further analysis: extended_logins and \n",
    "# reindex so that we can extract different parts of datetime. For example year, month, days of week.\n",
    "extended_logins = logins.reset_index()"
   ]
  },
  {
   "cell_type": "code",
   "execution_count": 21,
   "metadata": {},
   "outputs": [
    {
     "data": {
      "text/html": [
       "<div>\n",
       "<style>\n",
       "    .dataframe thead tr:only-child th {\n",
       "        text-align: right;\n",
       "    }\n",
       "\n",
       "    .dataframe thead th {\n",
       "        text-align: left;\n",
       "    }\n",
       "\n",
       "    .dataframe tbody tr th {\n",
       "        vertical-align: top;\n",
       "    }\n",
       "</style>\n",
       "<table border=\"1\" class=\"dataframe\">\n",
       "  <thead>\n",
       "    <tr style=\"text-align: right;\">\n",
       "      <th></th>\n",
       "      <th>login_time</th>\n",
       "      <th>count</th>\n",
       "    </tr>\n",
       "  </thead>\n",
       "  <tbody>\n",
       "    <tr>\n",
       "      <th>0</th>\n",
       "      <td>1970-01-01 20:00:00</td>\n",
       "      <td>2.0</td>\n",
       "    </tr>\n",
       "    <tr>\n",
       "      <th>1</th>\n",
       "      <td>1970-01-01 20:15:00</td>\n",
       "      <td>6.0</td>\n",
       "    </tr>\n",
       "    <tr>\n",
       "      <th>2</th>\n",
       "      <td>1970-01-01 20:30:00</td>\n",
       "      <td>9.0</td>\n",
       "    </tr>\n",
       "    <tr>\n",
       "      <th>3</th>\n",
       "      <td>1970-01-01 20:45:00</td>\n",
       "      <td>7.0</td>\n",
       "    </tr>\n",
       "    <tr>\n",
       "      <th>4</th>\n",
       "      <td>1970-01-01 21:00:00</td>\n",
       "      <td>1.0</td>\n",
       "    </tr>\n",
       "  </tbody>\n",
       "</table>\n",
       "</div>"
      ],
      "text/plain": [
       "           login_time  count\n",
       "0 1970-01-01 20:00:00    2.0\n",
       "1 1970-01-01 20:15:00    6.0\n",
       "2 1970-01-01 20:30:00    9.0\n",
       "3 1970-01-01 20:45:00    7.0\n",
       "4 1970-01-01 21:00:00    1.0"
      ]
     },
     "execution_count": 21,
     "metadata": {},
     "output_type": "execute_result"
    }
   ],
   "source": [
    "extended_logins.head()"
   ]
  },
  {
   "cell_type": "code",
   "execution_count": 30,
   "metadata": {},
   "outputs": [],
   "source": [
    "# extract the month from the login_time column and store it in 'month' column.\n",
    "extended_logins['month'] = extended_logins['login_time'].apply(lambda x: x.month)\n",
    "\n",
    "# extract the weekday from the login_time column and store it in 'weekday' column.\n",
    "extended_logins['weekday'] = extended_logins['login_time'].apply(lambda x: x.weekday_name)\n",
    "\n",
    "# extract the day of the month from the login_time column and store it in 'month_day' column.\n",
    "extended_logins['month_day'] = extended_logins['login_time'].apply(lambda x: x.day)\n",
    "\n",
    "# extract the date from the login_time column and store it in 'date' column.\n",
    "extended_logins['date'] = extended_logins['login_time'].apply(lambda x: x.date())\n",
    "\n",
    "# extract the time from the login_time column and store it in 'time' column.\n",
    "extended_logins['time'] = extended_logins['login_time'].apply(lambda x: x.time())"
   ]
  },
  {
   "cell_type": "code",
   "execution_count": 81,
   "metadata": {},
   "outputs": [],
   "source": [
    "extended_logins['weekday'] = extended_logins['login_time'].apply(lambda x: x.weekday_name)"
   ]
  },
  {
   "cell_type": "code",
   "execution_count": 82,
   "metadata": {},
   "outputs": [
    {
     "data": {
      "text/html": [
       "<div>\n",
       "<style>\n",
       "    .dataframe thead tr:only-child th {\n",
       "        text-align: right;\n",
       "    }\n",
       "\n",
       "    .dataframe thead th {\n",
       "        text-align: left;\n",
       "    }\n",
       "\n",
       "    .dataframe tbody tr th {\n",
       "        vertical-align: top;\n",
       "    }\n",
       "</style>\n",
       "<table border=\"1\" class=\"dataframe\">\n",
       "  <thead>\n",
       "    <tr style=\"text-align: right;\">\n",
       "      <th></th>\n",
       "      <th>login_time</th>\n",
       "      <th>count</th>\n",
       "      <th>month</th>\n",
       "      <th>weekday</th>\n",
       "      <th>month_day</th>\n",
       "      <th>date</th>\n",
       "      <th>time</th>\n",
       "    </tr>\n",
       "  </thead>\n",
       "  <tbody>\n",
       "    <tr>\n",
       "      <th>0</th>\n",
       "      <td>1970-01-01 20:00:00</td>\n",
       "      <td>2.0</td>\n",
       "      <td>Jan</td>\n",
       "      <td>Thursday</td>\n",
       "      <td>1</td>\n",
       "      <td>1970-01-01</td>\n",
       "      <td>20:00:00</td>\n",
       "    </tr>\n",
       "    <tr>\n",
       "      <th>1</th>\n",
       "      <td>1970-01-01 20:15:00</td>\n",
       "      <td>6.0</td>\n",
       "      <td>Jan</td>\n",
       "      <td>Thursday</td>\n",
       "      <td>1</td>\n",
       "      <td>1970-01-01</td>\n",
       "      <td>20:15:00</td>\n",
       "    </tr>\n",
       "    <tr>\n",
       "      <th>2</th>\n",
       "      <td>1970-01-01 20:30:00</td>\n",
       "      <td>9.0</td>\n",
       "      <td>Jan</td>\n",
       "      <td>Thursday</td>\n",
       "      <td>1</td>\n",
       "      <td>1970-01-01</td>\n",
       "      <td>20:30:00</td>\n",
       "    </tr>\n",
       "    <tr>\n",
       "      <th>3</th>\n",
       "      <td>1970-01-01 20:45:00</td>\n",
       "      <td>7.0</td>\n",
       "      <td>Jan</td>\n",
       "      <td>Thursday</td>\n",
       "      <td>1</td>\n",
       "      <td>1970-01-01</td>\n",
       "      <td>20:45:00</td>\n",
       "    </tr>\n",
       "    <tr>\n",
       "      <th>4</th>\n",
       "      <td>1970-01-01 21:00:00</td>\n",
       "      <td>1.0</td>\n",
       "      <td>Jan</td>\n",
       "      <td>Thursday</td>\n",
       "      <td>1</td>\n",
       "      <td>1970-01-01</td>\n",
       "      <td>21:00:00</td>\n",
       "    </tr>\n",
       "  </tbody>\n",
       "</table>\n",
       "</div>"
      ],
      "text/plain": [
       "           login_time  count month   weekday  month_day        date      time\n",
       "0 1970-01-01 20:00:00    2.0   Jan  Thursday          1  1970-01-01  20:00:00\n",
       "1 1970-01-01 20:15:00    6.0   Jan  Thursday          1  1970-01-01  20:15:00\n",
       "2 1970-01-01 20:30:00    9.0   Jan  Thursday          1  1970-01-01  20:30:00\n",
       "3 1970-01-01 20:45:00    7.0   Jan  Thursday          1  1970-01-01  20:45:00\n",
       "4 1970-01-01 21:00:00    1.0   Jan  Thursday          1  1970-01-01  21:00:00"
      ]
     },
     "execution_count": 82,
     "metadata": {},
     "output_type": "execute_result"
    }
   ],
   "source": [
    "# print few rows from new dataframe to make sure we have the data we need\n",
    "extended_logins.head()"
   ]
  },
  {
   "cell_type": "code",
   "execution_count": 41,
   "metadata": {},
   "outputs": [
    {
     "name": "stdout",
     "output_type": "stream",
     "text": [
      "<class 'pandas.core.frame.DataFrame'>\n",
      "RangeIndex: 9788 entries, 0 to 9787\n",
      "Data columns (total 7 columns):\n",
      "login_time    9788 non-null datetime64[ns]\n",
      "count         9381 non-null float64\n",
      "month         9788 non-null int64\n",
      "weekday       9788 non-null object\n",
      "month_day     9788 non-null int64\n",
      "date          9788 non-null object\n",
      "time          9788 non-null object\n",
      "dtypes: datetime64[ns](1), float64(1), int64(2), object(3)\n",
      "memory usage: 535.4+ KB\n"
     ]
    }
   ],
   "source": [
    "extended_logins.info()"
   ]
  },
  {
   "cell_type": "code",
   "execution_count": 46,
   "metadata": {},
   "outputs": [],
   "source": [
    "# convert all the month number to equivalent month name.# convert \n",
    "extended_logins['month'] = extended_logins['month'].apply(lambda x: calendar.month_abbr[x])"
   ]
  },
  {
   "cell_type": "code",
   "execution_count": 50,
   "metadata": {},
   "outputs": [],
   "source": [
    "# monthly order: month\n",
    "month = [\"Jan\", \"Feb\", \"Mar\", \"Apr\", \"May\", \"Jun\", \n",
    "          \"Jul\", \"Aug\", \"Sep\", \"Oct\", \"Nov\", \"Dec\"]\n",
    "extended_logins['month'] = pd.Categorical(extended_logins['month'], categories=month, ordered=True)"
   ]
  },
  {
   "cell_type": "code",
   "execution_count": 51,
   "metadata": {},
   "outputs": [
    {
     "data": {
      "text/html": [
       "<div>\n",
       "<style>\n",
       "    .dataframe thead tr:only-child th {\n",
       "        text-align: right;\n",
       "    }\n",
       "\n",
       "    .dataframe thead th {\n",
       "        text-align: left;\n",
       "    }\n",
       "\n",
       "    .dataframe tbody tr th {\n",
       "        vertical-align: top;\n",
       "    }\n",
       "</style>\n",
       "<table border=\"1\" class=\"dataframe\">\n",
       "  <thead>\n",
       "    <tr style=\"text-align: right;\">\n",
       "      <th></th>\n",
       "      <th>login_time</th>\n",
       "      <th>count</th>\n",
       "      <th>month</th>\n",
       "      <th>weekday</th>\n",
       "      <th>month_day</th>\n",
       "      <th>date</th>\n",
       "      <th>time</th>\n",
       "    </tr>\n",
       "  </thead>\n",
       "  <tbody>\n",
       "    <tr>\n",
       "      <th>0</th>\n",
       "      <td>1970-01-01 20:00:00</td>\n",
       "      <td>2.0</td>\n",
       "      <td>Jan</td>\n",
       "      <td>Thursday</td>\n",
       "      <td>1</td>\n",
       "      <td>1970-01-01</td>\n",
       "      <td>20:00:00</td>\n",
       "    </tr>\n",
       "    <tr>\n",
       "      <th>1</th>\n",
       "      <td>1970-01-01 20:15:00</td>\n",
       "      <td>6.0</td>\n",
       "      <td>Jan</td>\n",
       "      <td>Thursday</td>\n",
       "      <td>1</td>\n",
       "      <td>1970-01-01</td>\n",
       "      <td>20:15:00</td>\n",
       "    </tr>\n",
       "  </tbody>\n",
       "</table>\n",
       "</div>"
      ],
      "text/plain": [
       "           login_time  count month   weekday  month_day        date      time\n",
       "0 1970-01-01 20:00:00    2.0   Jan  Thursday          1  1970-01-01  20:00:00\n",
       "1 1970-01-01 20:15:00    6.0   Jan  Thursday          1  1970-01-01  20:15:00"
      ]
     },
     "execution_count": 51,
     "metadata": {},
     "output_type": "execute_result"
    }
   ],
   "source": [
    "# print 2 rows from the dataset\n",
    "extended_logins.head(2)"
   ]
  },
  {
   "cell_type": "code",
   "execution_count": 52,
   "metadata": {},
   "outputs": [],
   "source": [
    "# group by months to check the most active month: monthly_logins\n",
    "monthly_logins = extended_logins.groupby('month')['count'].sum()"
   ]
  },
  {
   "cell_type": "code",
   "execution_count": 58,
   "metadata": {},
   "outputs": [],
   "source": [
    "# since the months are ordered and will produce extra rows for remaining rows which are not in the \n",
    "# dataframe so will drop all the rows which has NaN values.\n",
    "monthly_logins.dropna(inplace=True)"
   ]
  },
  {
   "cell_type": "code",
   "execution_count": 59,
   "metadata": {},
   "outputs": [
    {
     "data": {
      "text/plain": [
       "month\n",
       "Jan    21239.0\n",
       "Feb    24673.0\n",
       "Mar    33723.0\n",
       "Apr    13507.0\n",
       "Name: count, dtype: float64"
      ]
     },
     "execution_count": 59,
     "metadata": {},
     "output_type": "execute_result"
    }
   ],
   "source": [
    "# print the dataframe\n",
    "monthly_logins.head(10)"
   ]
  },
  {
   "cell_type": "code",
   "execution_count": 487,
   "metadata": {},
   "outputs": [
    {
     "data": {
      "image/png": "[encoded data removed]",
      "text/plain": [
       "<matplotlib.figure.Figure at 0x1a1b8e2668>"
      ]
     },
     "metadata": {},
     "output_type": "display_data"
    }
   ],
   "source": [
    "# plot of the above pandas series\n",
    "plot_graph(monthly_logins, 'bar', 'Months', \"No of Logins - Monthly\")"
   ]
  },
  {
   "cell_type": "markdown",
   "metadata": {},
   "source": [
    "Most of the demands occure in the month of March. April has the significantly low amount of counts this is due to the fact that the data avaialble for month of April is only till 15th.<br> \n",
    "Let's check the demands on each day of the week. And then we can check the same for each month."
   ]
  },
  {
   "cell_type": "code",
   "execution_count": 84,
   "metadata": {},
   "outputs": [],
   "source": [
    "# weekday order: weekday\n",
    "#weekday = ['Mon','Tue','Wed','Thu','Fri','Sat', 'Sun']\n",
    "weekday = ['Thursday', 'Friday', 'Saturday', 'Sunday', 'Monday', 'Tuesday','Wednesday']\n",
    "extended_logins['weekday'] = pd.Categorical(extended_logins['weekday'], \n",
    "                                            categories=weekday, ordered=True)"
   ]
  },
  {
   "cell_type": "code",
   "execution_count": 85,
   "metadata": {},
   "outputs": [],
   "source": [
    "# group by weekday and the corresponding count: weekday_logins\n",
    "weekday_logins = extended_logins.groupby('weekday')['count'].sum()"
   ]
  },
  {
   "cell_type": "code",
   "execution_count": 87,
   "metadata": {},
   "outputs": [
    {
     "data": {
      "text/plain": [
       "weekday\n",
       "Thursday     11960.0\n",
       "Friday       15208.0\n",
       "Saturday     19377.0\n",
       "Sunday       18167.0\n",
       "Monday        8823.0\n",
       "Tuesday       9268.0\n",
       "Wednesday    10339.0\n",
       "Name: count, dtype: float64"
      ]
     },
     "execution_count": 87,
     "metadata": {},
     "output_type": "execute_result"
    }
   ],
   "source": [
    "# print the weekday demand numbers\n",
    "weekday_logins.head(7)"
   ]
  },
  {
   "cell_type": "code",
   "execution_count": 488,
   "metadata": {},
   "outputs": [
    {
     "data": {
      "image/png": "[encoded data removed]",
      "text/plain": [
       "<matplotlib.figure.Figure at 0x112cbe160>"
      ]
     },
     "metadata": {},
     "output_type": "display_data"
    }
   ],
   "source": [
    "# plot of the above dataframe\n",
    "plot_graph(weekday_logins, 'bar','Days of Week', 'No of logins Days of the week wise')"
   ]
  },
  {
   "cell_type": "markdown",
   "metadata": {},
   "source": [
    "As we can see that on weekends the demands are highest, specially on **Saturday**. Monday, Tuesday and Wednesday the demands are relatively lower than the other 4 days of the week.<br> Now Let's see if this pattern is followed for each of the 4 months."
   ]
  },
  {
   "cell_type": "code",
   "execution_count": 451,
   "metadata": {},
   "outputs": [],
   "source": [
    "# group by month and day of the week for each month: month_week_logins\n",
    "month_week_logins = extended_logins.groupby([\"month\",\"weekday\"])['count'].agg('sum')"
   ]
  },
  {
   "cell_type": "code",
   "execution_count": 452,
   "metadata": {},
   "outputs": [],
   "source": [
    "# unstack the dataframe for better presentation\n",
    "month_week_logins = month_week_logins.unstack(level=1)"
   ]
  },
  {
   "cell_type": "code",
   "execution_count": 453,
   "metadata": {},
   "outputs": [
    {
     "data": {
      "text/html": [
       "<div>\n",
       "<style>\n",
       "    .dataframe thead tr:only-child th {\n",
       "        text-align: right;\n",
       "    }\n",
       "\n",
       "    .dataframe thead th {\n",
       "        text-align: left;\n",
       "    }\n",
       "\n",
       "    .dataframe tbody tr th {\n",
       "        vertical-align: top;\n",
       "    }\n",
       "</style>\n",
       "<table border=\"1\" class=\"dataframe\">\n",
       "  <thead>\n",
       "    <tr style=\"text-align: right;\">\n",
       "      <th>weekday</th>\n",
       "      <th>Thursday</th>\n",
       "      <th>Friday</th>\n",
       "      <th>Saturday</th>\n",
       "      <th>Sunday</th>\n",
       "      <th>Monday</th>\n",
       "      <th>Tuesday</th>\n",
       "      <th>Wednesday</th>\n",
       "    </tr>\n",
       "    <tr>\n",
       "      <th>month</th>\n",
       "      <th></th>\n",
       "      <th></th>\n",
       "      <th></th>\n",
       "      <th></th>\n",
       "      <th></th>\n",
       "      <th></th>\n",
       "      <th></th>\n",
       "    </tr>\n",
       "  </thead>\n",
       "  <tbody>\n",
       "    <tr>\n",
       "      <th>Jan</th>\n",
       "      <td>2640.0</td>\n",
       "      <td>3907.0</td>\n",
       "      <td>4642.0</td>\n",
       "      <td>3625.0</td>\n",
       "      <td>1926.0</td>\n",
       "      <td>2124.0</td>\n",
       "      <td>2375.0</td>\n",
       "    </tr>\n",
       "    <tr>\n",
       "      <th>Feb</th>\n",
       "      <td>3317.0</td>\n",
       "      <td>4092.0</td>\n",
       "      <td>5149.0</td>\n",
       "      <td>4704.0</td>\n",
       "      <td>2355.0</td>\n",
       "      <td>2386.0</td>\n",
       "      <td>2670.0</td>\n",
       "    </tr>\n",
       "    <tr>\n",
       "      <th>Mar</th>\n",
       "      <td>4058.0</td>\n",
       "      <td>4696.0</td>\n",
       "      <td>6345.0</td>\n",
       "      <td>7267.0</td>\n",
       "      <td>3532.0</td>\n",
       "      <td>4168.0</td>\n",
       "      <td>3657.0</td>\n",
       "    </tr>\n",
       "    <tr>\n",
       "      <th>Apr</th>\n",
       "      <td>1945.0</td>\n",
       "      <td>2513.0</td>\n",
       "      <td>3241.0</td>\n",
       "      <td>2571.0</td>\n",
       "      <td>1010.0</td>\n",
       "      <td>590.0</td>\n",
       "      <td>1637.0</td>\n",
       "    </tr>\n",
       "  </tbody>\n",
       "</table>\n",
       "</div>"
      ],
      "text/plain": [
       "weekday  Thursday  Friday  Saturday  Sunday  Monday  Tuesday  Wednesday\n",
       "month                                                                  \n",
       "Jan        2640.0  3907.0    4642.0  3625.0  1926.0   2124.0     2375.0\n",
       "Feb        3317.0  4092.0    5149.0  4704.0  2355.0   2386.0     2670.0\n",
       "Mar        4058.0  4696.0    6345.0  7267.0  3532.0   4168.0     3657.0\n",
       "Apr        1945.0  2513.0    3241.0  2571.0  1010.0    590.0     1637.0"
      ]
     },
     "execution_count": 453,
     "metadata": {},
     "output_type": "execute_result"
    }
   ],
   "source": [
    "# print few records of the dataframe\n",
    "month_week_logins.head()"
   ]
  },
  {
   "cell_type": "code",
   "execution_count": 486,
   "metadata": {},
   "outputs": [
    {
     "data": {
      "image/png": "[encoded data removed]",
      "text/plain": [
       "<matplotlib.figure.Figure at 0x1a1663e2b0>"
      ]
     },
     "metadata": {},
     "output_type": "display_data"
    }
   ],
   "source": [
    "# plot of the above dataframe\n",
    "plot_graph(month_week_logins, 'bar', \"Months\", \"No of logins each month - Days of the weeks\")"
   ]
  },
  {
   "cell_type": "markdown",
   "metadata": {},
   "source": [
    "As we can see that the demands on **Saturday** has the highest number for all the month except **March**. Interestingly in month of **March** the demands on **Sunday** has the highest numbers. In the month of **April** the demands are lowest on **Tuesday** which is different from other months where the demands are lowest on **Monday**."
   ]
  },
  {
   "cell_type": "code",
   "execution_count": 282,
   "metadata": {},
   "outputs": [],
   "source": [
    "# group by each days of the month and month\n",
    "day_month_logins = extended_logins.groupby(['month','month_day'])['count'].agg('sum')"
   ]
  },
  {
   "cell_type": "code",
   "execution_count": 283,
   "metadata": {},
   "outputs": [],
   "source": [
    "# unstack to have a better presentation\n",
    "day_month_logins = day_month_logins.unstack(level=0)"
   ]
  },
  {
   "cell_type": "code",
   "execution_count": 284,
   "metadata": {},
   "outputs": [
    {
     "data": {
      "text/html": [
       "<div>\n",
       "<style>\n",
       "    .dataframe thead tr:only-child th {\n",
       "        text-align: right;\n",
       "    }\n",
       "\n",
       "    .dataframe thead th {\n",
       "        text-align: left;\n",
       "    }\n",
       "\n",
       "    .dataframe tbody tr th {\n",
       "        vertical-align: top;\n",
       "    }\n",
       "</style>\n",
       "<table border=\"1\" class=\"dataframe\">\n",
       "  <thead>\n",
       "    <tr style=\"text-align: right;\">\n",
       "      <th>month</th>\n",
       "      <th>Jan</th>\n",
       "      <th>Feb</th>\n",
       "      <th>Mar</th>\n",
       "      <th>Apr</th>\n",
       "    </tr>\n",
       "    <tr>\n",
       "      <th>month_day</th>\n",
       "      <th></th>\n",
       "      <th></th>\n",
       "      <th></th>\n",
       "      <th></th>\n",
       "    </tr>\n",
       "  </thead>\n",
       "  <tbody>\n",
       "    <tr>\n",
       "      <th>1</th>\n",
       "      <td>112.0</td>\n",
       "      <td>870.0</td>\n",
       "      <td>1273.0</td>\n",
       "      <td>939.0</td>\n",
       "    </tr>\n",
       "    <tr>\n",
       "      <th>2</th>\n",
       "      <td>681.0</td>\n",
       "      <td>599.0</td>\n",
       "      <td>637.0</td>\n",
       "      <td>1127.0</td>\n",
       "    </tr>\n",
       "    <tr>\n",
       "      <th>3</th>\n",
       "      <td>793.0</td>\n",
       "      <td>464.0</td>\n",
       "      <td>714.0</td>\n",
       "      <td>1504.0</td>\n",
       "    </tr>\n",
       "    <tr>\n",
       "      <th>4</th>\n",
       "      <td>788.0</td>\n",
       "      <td>467.0</td>\n",
       "      <td>893.0</td>\n",
       "      <td>1889.0</td>\n",
       "    </tr>\n",
       "    <tr>\n",
       "      <th>5</th>\n",
       "      <td>459.0</td>\n",
       "      <td>688.0</td>\n",
       "      <td>914.0</td>\n",
       "      <td>1162.0</td>\n",
       "    </tr>\n",
       "  </tbody>\n",
       "</table>\n",
       "</div>"
      ],
      "text/plain": [
       "month        Jan    Feb     Mar     Apr\n",
       "month_day                              \n",
       "1          112.0  870.0  1273.0   939.0\n",
       "2          681.0  599.0   637.0  1127.0\n",
       "3          793.0  464.0   714.0  1504.0\n",
       "4          788.0  467.0   893.0  1889.0\n",
       "5          459.0  688.0   914.0  1162.0"
      ]
     },
     "execution_count": 284,
     "metadata": {},
     "output_type": "execute_result"
    }
   ],
   "source": [
    "# print first few records\n",
    "day_month_logins.head()"
   ]
  },
  {
   "cell_type": "code",
   "execution_count": 485,
   "metadata": {},
   "outputs": [
    {
     "data": {
      "image/png": "[encoded data removed]",
      "text/plain": [
       "<matplotlib.figure.Figure at 0x1a1b01a358>"
      ]
     },
     "metadata": {},
     "output_type": "display_data"
    }
   ],
   "source": [
    "# plot all the 4 month's data as per each day\n",
    "plot_graph(day_month_logins, 'line', \"Day of the month\", \"No of logins each day of each month\")"
   ]
  },
  {
   "cell_type": "markdown",
   "metadata": {},
   "source": [
    "We can see that the there is no pattern to conclusively determine if the demands were high in the begening or at the end of the month. The high peaks in all the month are the weekends when the demands are really high."
   ]
  },
  {
   "cell_type": "markdown",
   "metadata": {},
   "source": [
    "Below is the analysis of part of the day when the demands are highest and lowest. I am going to divide the entire day into 4 periods/part. This division of the day is totaly based of individual's choice.<br>\n",
    "\n",
    "**I will divide the 24hrs into 4 different period of the day:**<br>\n",
    "Create a range of the day, i.e. decide hours for morning, afternoon, evening and night. I have dicided the below\n",
    "\n",
    "05:00 - 11:59 Morning<br>\n",
    "12:00 - 15:59 Afternoon<br>\n",
    "16:00 - 19:59 Evening<br>\n",
    "20:00 - 04:59 Night(nights are long)<br>"
   ]
  },
  {
   "cell_type": "code",
   "execution_count": 519,
   "metadata": {},
   "outputs": [],
   "source": [
    "# Create a new column \"period_of_day\" which will store the categorical value of \n",
    "#the period of day as specified above.\n",
    "period = []\n",
    "for i, row in extended_logins.iterrows():\n",
    "    if (row[0].hour >= 5) and (row[0].hour < 12):\n",
    "        period.append('Morning')\n",
    "        \n",
    "    if (row[0].hour >=12) and (row[0].hour < 16):\n",
    "        period.append('Afternoon')\n",
    "       \n",
    "    if (row[0].hour >=16) and (row[0].hour < 20):\n",
    "        period.append('Evening')\n",
    "        \n",
    "    if (row[0].hour >=20) & (row[0].hour < 24):\n",
    "        period.append('Night')\n",
    "        \n",
    "    if (row[0].hour ==0) or (row[0].hour < 5):\n",
    "        period.append('Night')\n",
    "    \n",
    "extended_logins['period_of_day'] = pd.DataFrame(period)"
   ]
  },
  {
   "cell_type": "code",
   "execution_count": 520,
   "metadata": {},
   "outputs": [
    {
     "data": {
      "text/html": [
       "<div>\n",
       "<style>\n",
       "    .dataframe thead tr:only-child th {\n",
       "        text-align: right;\n",
       "    }\n",
       "\n",
       "    .dataframe thead th {\n",
       "        text-align: left;\n",
       "    }\n",
       "\n",
       "    .dataframe tbody tr th {\n",
       "        vertical-align: top;\n",
       "    }\n",
       "</style>\n",
       "<table border=\"1\" class=\"dataframe\">\n",
       "  <thead>\n",
       "    <tr style=\"text-align: right;\">\n",
       "      <th></th>\n",
       "      <th>login_time</th>\n",
       "      <th>count</th>\n",
       "      <th>month</th>\n",
       "      <th>weekday</th>\n",
       "      <th>month_day</th>\n",
       "      <th>date</th>\n",
       "      <th>time</th>\n",
       "      <th>period_of_day</th>\n",
       "    </tr>\n",
       "  </thead>\n",
       "  <tbody>\n",
       "    <tr>\n",
       "      <th>9783</th>\n",
       "      <td>1970-04-13 17:45:00</td>\n",
       "      <td>5.0</td>\n",
       "      <td>Apr</td>\n",
       "      <td>Monday</td>\n",
       "      <td>13</td>\n",
       "      <td>1970-04-13</td>\n",
       "      <td>17:45:00</td>\n",
       "      <td>Evening</td>\n",
       "    </tr>\n",
       "    <tr>\n",
       "      <th>9784</th>\n",
       "      <td>1970-04-13 18:00:00</td>\n",
       "      <td>5.0</td>\n",
       "      <td>Apr</td>\n",
       "      <td>Monday</td>\n",
       "      <td>13</td>\n",
       "      <td>1970-04-13</td>\n",
       "      <td>18:00:00</td>\n",
       "      <td>Evening</td>\n",
       "    </tr>\n",
       "    <tr>\n",
       "      <th>9785</th>\n",
       "      <td>1970-04-13 18:15:00</td>\n",
       "      <td>2.0</td>\n",
       "      <td>Apr</td>\n",
       "      <td>Monday</td>\n",
       "      <td>13</td>\n",
       "      <td>1970-04-13</td>\n",
       "      <td>18:15:00</td>\n",
       "      <td>Evening</td>\n",
       "    </tr>\n",
       "    <tr>\n",
       "      <th>9786</th>\n",
       "      <td>1970-04-13 18:30:00</td>\n",
       "      <td>7.0</td>\n",
       "      <td>Apr</td>\n",
       "      <td>Monday</td>\n",
       "      <td>13</td>\n",
       "      <td>1970-04-13</td>\n",
       "      <td>18:30:00</td>\n",
       "      <td>Evening</td>\n",
       "    </tr>\n",
       "    <tr>\n",
       "      <th>9787</th>\n",
       "      <td>1970-04-13 18:45:00</td>\n",
       "      <td>6.0</td>\n",
       "      <td>Apr</td>\n",
       "      <td>Monday</td>\n",
       "      <td>13</td>\n",
       "      <td>1970-04-13</td>\n",
       "      <td>18:45:00</td>\n",
       "      <td>Evening</td>\n",
       "    </tr>\n",
       "  </tbody>\n",
       "</table>\n",
       "</div>"
      ],
      "text/plain": [
       "              login_time  count month weekday  month_day        date  \\\n",
       "9783 1970-04-13 17:45:00    5.0   Apr  Monday         13  1970-04-13   \n",
       "9784 1970-04-13 18:00:00    5.0   Apr  Monday         13  1970-04-13   \n",
       "9785 1970-04-13 18:15:00    2.0   Apr  Monday         13  1970-04-13   \n",
       "9786 1970-04-13 18:30:00    7.0   Apr  Monday         13  1970-04-13   \n",
       "9787 1970-04-13 18:45:00    6.0   Apr  Monday         13  1970-04-13   \n",
       "\n",
       "          time period_of_day  \n",
       "9783  17:45:00       Evening  \n",
       "9784  18:00:00       Evening  \n",
       "9785  18:15:00       Evening  \n",
       "9786  18:30:00       Evening  \n",
       "9787  18:45:00       Evening  "
      ]
     },
     "execution_count": 520,
     "metadata": {},
     "output_type": "execute_result"
    }
   ],
   "source": [
    "# print few recirds to make sure that everything is fine\n",
    "extended_logins.tail()"
   ]
  },
  {
   "cell_type": "code",
   "execution_count": 522,
   "metadata": {},
   "outputs": [],
   "source": [
    "# group by period of the day with number of logins as count: logins_period\n",
    "logins_period = extended_logins.groupby('period_of_day')['count'].agg('sum')"
   ]
  },
  {
   "cell_type": "code",
   "execution_count": 523,
   "metadata": {},
   "outputs": [
    {
     "data": {
      "text/plain": [
       "period_of_day\n",
       "Afternoon    15039.0\n",
       "Evening      11631.0\n",
       "Morning      16106.0\n",
       "Night        50366.0\n",
       "Name: count, dtype: float64"
      ]
     },
     "execution_count": 523,
     "metadata": {},
     "output_type": "execute_result"
    }
   ],
   "source": [
    "# print the resultant dataframe/series\n",
    "logins_period.head()"
   ]
  },
  {
   "cell_type": "code",
   "execution_count": 524,
   "metadata": {},
   "outputs": [
    {
     "data": {
      "image/png": "[encoded data removed]",
      "text/plain": [
       "<matplotlib.figure.Figure at 0x1a1aa37b00>"
      ]
     },
     "metadata": {},
     "output_type": "display_data"
    }
   ],
   "source": [
    "# plot the bar graph \n",
    "plot_graph(logins_period, 'bar', \"Period of the Day\", \" No of logins period of the day wise\")"
   ]
  },
  {
   "cell_type": "markdown",
   "metadata": {},
   "source": [
    "As we can see the demands are really high in the **Nights**. **Evenings** has the lowest demands. Now let's try to find it out if the demands are highest in nights only on weekends or this everyday situation."
   ]
  },
  {
   "cell_type": "code",
   "execution_count": 525,
   "metadata": {},
   "outputs": [
    {
     "data": {
      "text/plain": [
       "weekday   period_of_day\n",
       "Thursday  Afternoon        1976.0\n",
       "          Evening          1217.0\n",
       "          Morning          2305.0\n",
       "          Night            6462.0\n",
       "Friday    Afternoon        2371.0\n",
       "Name: count, dtype: float64"
      ]
     },
     "execution_count": 525,
     "metadata": {},
     "output_type": "execute_result"
    }
   ],
   "source": [
    "# create dataframe groupby weekday and period of the day: logins_week_period\n",
    "logins_week_period = extended_logins.groupby(['weekday', 'period_of_day'])['count'].agg('sum')\n",
    "logins_week_period.head()"
   ]
  },
  {
   "cell_type": "code",
   "execution_count": 526,
   "metadata": {},
   "outputs": [
    {
     "data": {
      "text/html": [
       "<div>\n",
       "<style>\n",
       "    .dataframe thead tr:only-child th {\n",
       "        text-align: right;\n",
       "    }\n",
       "\n",
       "    .dataframe thead th {\n",
       "        text-align: left;\n",
       "    }\n",
       "\n",
       "    .dataframe tbody tr th {\n",
       "        vertical-align: top;\n",
       "    }\n",
       "</style>\n",
       "<table border=\"1\" class=\"dataframe\">\n",
       "  <thead>\n",
       "    <tr style=\"text-align: right;\">\n",
       "      <th>period_of_day</th>\n",
       "      <th>Afternoon</th>\n",
       "      <th>Evening</th>\n",
       "      <th>Morning</th>\n",
       "      <th>Night</th>\n",
       "    </tr>\n",
       "    <tr>\n",
       "      <th>weekday</th>\n",
       "      <th></th>\n",
       "      <th></th>\n",
       "      <th></th>\n",
       "      <th></th>\n",
       "    </tr>\n",
       "  </thead>\n",
       "  <tbody>\n",
       "    <tr>\n",
       "      <th>Thursday</th>\n",
       "      <td>1976.0</td>\n",
       "      <td>1217.0</td>\n",
       "      <td>2305.0</td>\n",
       "      <td>6462.0</td>\n",
       "    </tr>\n",
       "    <tr>\n",
       "      <th>Friday</th>\n",
       "      <td>2371.0</td>\n",
       "      <td>2087.0</td>\n",
       "      <td>2366.0</td>\n",
       "      <td>8384.0</td>\n",
       "    </tr>\n",
       "    <tr>\n",
       "      <th>Saturday</th>\n",
       "      <td>2735.0</td>\n",
       "      <td>2681.0</td>\n",
       "      <td>2500.0</td>\n",
       "      <td>11461.0</td>\n",
       "    </tr>\n",
       "    <tr>\n",
       "      <th>Sunday</th>\n",
       "      <td>2814.0</td>\n",
       "      <td>2625.0</td>\n",
       "      <td>2511.0</td>\n",
       "      <td>10217.0</td>\n",
       "    </tr>\n",
       "    <tr>\n",
       "      <th>Monday</th>\n",
       "      <td>1778.0</td>\n",
       "      <td>1016.0</td>\n",
       "      <td>2206.0</td>\n",
       "      <td>3823.0</td>\n",
       "    </tr>\n",
       "  </tbody>\n",
       "</table>\n",
       "</div>"
      ],
      "text/plain": [
       "period_of_day  Afternoon  Evening  Morning    Night\n",
       "weekday                                            \n",
       "Thursday          1976.0   1217.0   2305.0   6462.0\n",
       "Friday            2371.0   2087.0   2366.0   8384.0\n",
       "Saturday          2735.0   2681.0   2500.0  11461.0\n",
       "Sunday            2814.0   2625.0   2511.0  10217.0\n",
       "Monday            1778.0   1016.0   2206.0   3823.0"
      ]
     },
     "execution_count": 526,
     "metadata": {},
     "output_type": "execute_result"
    }
   ],
   "source": [
    "# unstack the dataframe for better presentation\n",
    "logins_week_period=logins_week_period.unstack(level=1)\n",
    "logins_week_period.head()"
   ]
  },
  {
   "cell_type": "code",
   "execution_count": 527,
   "metadata": {},
   "outputs": [
    {
     "data": {
      "image/png": "[encoded data removed]",
      "text/plain": [
       "<matplotlib.figure.Figure at 0x1a165fa1d0>"
      ]
     },
     "metadata": {},
     "output_type": "display_data"
    }
   ],
   "source": [
    "# polt the bar graph\n",
    "plot_graph(logins_week_period, 'bar', 'Days of week',\n",
    "           'No of logins each day of week - Period of day wise')"
   ]
  },
  {
   "cell_type": "markdown",
   "metadata": {},
   "source": [
    "The nights are busy on each day of the week. **Monday, Tuesday, Wednesday and Thursday** have the same pattern, while **Friday, Saturday and Sunday** is bit different in terms of other period of day except **Nights**. "
   ]
  },
  {
   "cell_type": "markdown",
   "metadata": {},
   "source": [
    "## Part 2 - Experiment and metrics design ##\n",
    "The neighboring cities of Gotham and Metropolis have complementary circadian rhythms: on\n",
    "weekdays, Ultimate Gotham is most active at night, and Ultimate Metropolis is most active\n",
    "during the day. On weekends, there is reasonable activity in both cities.<br>\n",
    "However, a toll bridge, with a two way toll, between the two cities causes driver partners to tend\n",
    "to be exclusive to each city. The Ultimate managers of city operations for the two cities have proposed an experiment to encourage driver partners to be available in both cities, by reimbursing all toll costs.\n",
    "  1. What would you choose as the key measure of success of this experiment in encouraging driver partners to serve both cities, and why would you choose this metric? <br>\n",
    "  2. Describe a practical experiment you would design to compare the effectiveness of the proposed change in relation to the key measure of success. Please provide details on:<br>\n",
    "      a. how you will implement the experiment<br>\n",
    "      b. what statistical test(s) you will conduct to verify the significance of the observation<br>\n",
    "      c. how you would interpret the results and provide recommendations to the city operations team along with any caveats.<br>"
   ]
  },
  {
   "cell_type": "markdown",
   "metadata": {},
   "source": [
    "**Solution 1**: I think number of times the partner drivers are crossing the toll bridge on the weekdays would be a good metrics for the measuring the success of this experiment. We can find this numbers as the driver partners will file for reimbursement. Collecting this data is easy and should not require a major change is the system. Once the data is in the system, it is easy to compare the number of times the driver partners used to cross the toll bridge prior to this experiment and after the implementation of the experiment.\n",
    "\n",
    "**Solution 2:** As mentioned above that we need to collect the data on the number of times the driver partners request for reimbursement. We will count the number of times the drives is taking the trip to the other city on weekdays. Since Ultimate Gotham is most active night time, the drivers from Metropolis should request more number of reimbursement compared to drivers from Gotham and vice versa during day time on weekdays. So we can define the two hypothesis as below:<br>\n",
    " $H_0$: There is no increase in the number of times partner drivers accepting trip to other city for which they have to cross the toll bridge.\n",
    " $H_1$: There is increase in the number of times partner drivers accepting trip to other city for which they have to cross the toll bridge.\n",
    "\n",
    "Calculation of Z-score would be the best statical measure of the success as we can esily obtain large sample data(>30) and the standard deviation will be known under normal operation.\n",
    "\n",
    "The result can be interpreted as confidence interval of 95%, which means that we can conclude with 95% confidence that *there is increase in the number of times partner drivers accepted the trip to other city when they have to cross the toll bridge.* \n",
    "\n",
    "One major caveats with this experiment could be the profit in the beginning. Since the Ultimate is paying for the toll cost, hence the profit may go down. But at the same time the number of activity will be increased more rides means more money.\n",
    "\n",
    "Providing some incentive for the drivers, after completion of some target may encourage drivers to remain active for longer and for doing that they may want to cross the city during which that city is more active. "
   ]
  },
  {
   "cell_type": "markdown",
   "metadata": {},
   "source": [
    "## Part 3 ‑ Predictive modeling ##\n",
    "Ultimate is interested in predicting rider retention. To help explore this question, we have\n",
    "provided a sample dataset of a cohort of users who signed up for an Ultimate account in January 2014. The data was pulled several months later; we consider a user retained if they were “active” (i.e. took a trip) in the preceding 30 days.\n",
    "\n",
    "We would like you to use this data set to help understand what factors are the best predictors\n",
    "for retention, and offer suggestions to operationalize those insights to help Ultimate.\n",
    "\n",
    "The data is in the attached file ultimate_data_challenge.json. See below for a detailed description of the dataset. Please include any code you wrote for the analysis and delete the dataset when you have finished with the challenge.\n",
    " 1. Perform any cleaning, exploratory analysis, and/or visualizations to use the provided data for this analysis (a few sentences/plots describing your approach will suffice). What fraction of the observed users were retained?\n",
    " 2. Build a predictive model to help Ultimate determine whether or not a user will be active in their 6th month on the system. Discuss why you chose your approach, what alternatives you onsidered, and any concerns you have. How valid is your model? Include any key indicators of model performance. \n",
    " 3. Briefly discuss how Ultimate might leverage the insights gained from the model to improve its longterm rider retention (again, a few sentences will suffice).\n",
    "\n",
    "Data description<br>\n",
    "    ● city: city this user signed up in<br>\n",
    "    ● phone: primary device for this user<br>\n",
    "    ● signup_date: date of account registration; in the form ‘YYYY MM DD’<br>\n",
    "    ● last_trip_date: the last time this user completed a trip; in the form ‘YYYY MM DD’<br>\n",
    "    ● avg_dist: the average distance in miles per trip taken in the first 30 days after signup<br>\n",
    "  ● avg_rating_by_driver: the rider’s average rating over all of their trips<br>\n",
    "  ● avg_rating_of_driver: the rider’s average rating of their drivers over all of their trips<br>\n",
    "  ● surge_pct: the percent of trips taken with surge multiplier > 1<br>\n",
    "  ● avg_surge: The average surge multiplier over all of this user’s trips<br>\n",
    "  ● trips_in_first_30_days: the number of trips this user took in the first 30 days after signing up<br>\n",
    "  ● ultimate_black_user: TRUE if the user took an Ultimate Black in their first 30 days; FALSE otherwise<br>\n",
    "  ● weekday_pct: the percent of the user’s trips occurring during a weekday<br>"
   ]
  },
  {
   "cell_type": "markdown",
   "metadata": {},
   "source": [
    "This analysis and modeling will have 3 parts, **EDA(Exploratory Data Analysis**, **Predictive Modeling** and **Insight and improvement** from the analysis and model.<br>\n",
    "### EDA ###\n",
    "Let's start by loading data into a dataframe."
   ]
  },
  {
   "cell_type": "code",
   "execution_count": 535,
   "metadata": {},
   "outputs": [
    {
     "data": {
      "text/html": [
       "<div>\n",
       "<style>\n",
       "    .dataframe thead tr:only-child th {\n",
       "        text-align: right;\n",
       "    }\n",
       "\n",
       "    .dataframe thead th {\n",
       "        text-align: left;\n",
       "    }\n",
       "\n",
       "    .dataframe tbody tr th {\n",
       "        vertical-align: top;\n",
       "    }\n",
       "</style>\n",
       "<table border=\"1\" class=\"dataframe\">\n",
       "  <thead>\n",
       "    <tr style=\"text-align: right;\">\n",
       "      <th></th>\n",
       "      <th>avg_dist</th>\n",
       "      <th>avg_rating_by_driver</th>\n",
       "      <th>avg_rating_of_driver</th>\n",
       "      <th>avg_surge</th>\n",
       "      <th>city</th>\n",
       "      <th>last_trip_date</th>\n",
       "      <th>phone</th>\n",
       "      <th>signup_date</th>\n",
       "      <th>surge_pct</th>\n",
       "      <th>trips_in_first_30_days</th>\n",
       "      <th>ultimate_black_user</th>\n",
       "      <th>weekday_pct</th>\n",
       "    </tr>\n",
       "  </thead>\n",
       "  <tbody>\n",
       "    <tr>\n",
       "      <th>0</th>\n",
       "      <td>3.67</td>\n",
       "      <td>5.0</td>\n",
       "      <td>4.7</td>\n",
       "      <td>1.10</td>\n",
       "      <td>King's Landing</td>\n",
       "      <td>2014-06-17</td>\n",
       "      <td>iPhone</td>\n",
       "      <td>2014-01-25</td>\n",
       "      <td>15.4</td>\n",
       "      <td>4</td>\n",
       "      <td>True</td>\n",
       "      <td>46.2</td>\n",
       "    </tr>\n",
       "    <tr>\n",
       "      <th>1</th>\n",
       "      <td>8.26</td>\n",
       "      <td>5.0</td>\n",
       "      <td>5.0</td>\n",
       "      <td>1.00</td>\n",
       "      <td>Astapor</td>\n",
       "      <td>2014-05-05</td>\n",
       "      <td>Android</td>\n",
       "      <td>2014-01-29</td>\n",
       "      <td>0.0</td>\n",
       "      <td>0</td>\n",
       "      <td>False</td>\n",
       "      <td>50.0</td>\n",
       "    </tr>\n",
       "    <tr>\n",
       "      <th>2</th>\n",
       "      <td>0.77</td>\n",
       "      <td>5.0</td>\n",
       "      <td>4.3</td>\n",
       "      <td>1.00</td>\n",
       "      <td>Astapor</td>\n",
       "      <td>2014-01-07</td>\n",
       "      <td>iPhone</td>\n",
       "      <td>2014-01-06</td>\n",
       "      <td>0.0</td>\n",
       "      <td>3</td>\n",
       "      <td>False</td>\n",
       "      <td>100.0</td>\n",
       "    </tr>\n",
       "    <tr>\n",
       "      <th>3</th>\n",
       "      <td>2.36</td>\n",
       "      <td>4.9</td>\n",
       "      <td>4.6</td>\n",
       "      <td>1.14</td>\n",
       "      <td>King's Landing</td>\n",
       "      <td>2014-06-29</td>\n",
       "      <td>iPhone</td>\n",
       "      <td>2014-01-10</td>\n",
       "      <td>20.0</td>\n",
       "      <td>9</td>\n",
       "      <td>True</td>\n",
       "      <td>80.0</td>\n",
       "    </tr>\n",
       "    <tr>\n",
       "      <th>4</th>\n",
       "      <td>3.13</td>\n",
       "      <td>4.9</td>\n",
       "      <td>4.4</td>\n",
       "      <td>1.19</td>\n",
       "      <td>Winterfell</td>\n",
       "      <td>2014-03-15</td>\n",
       "      <td>Android</td>\n",
       "      <td>2014-01-27</td>\n",
       "      <td>11.8</td>\n",
       "      <td>14</td>\n",
       "      <td>False</td>\n",
       "      <td>82.4</td>\n",
       "    </tr>\n",
       "  </tbody>\n",
       "</table>\n",
       "</div>"
      ],
      "text/plain": [
       "   avg_dist  avg_rating_by_driver  avg_rating_of_driver  avg_surge  \\\n",
       "0      3.67                   5.0                   4.7       1.10   \n",
       "1      8.26                   5.0                   5.0       1.00   \n",
       "2      0.77                   5.0                   4.3       1.00   \n",
       "3      2.36                   4.9                   4.6       1.14   \n",
       "4      3.13                   4.9                   4.4       1.19   \n",
       "\n",
       "             city last_trip_date    phone signup_date  surge_pct  \\\n",
       "0  King's Landing     2014-06-17   iPhone  2014-01-25       15.4   \n",
       "1         Astapor     2014-05-05  Android  2014-01-29        0.0   \n",
       "2         Astapor     2014-01-07   iPhone  2014-01-06        0.0   \n",
       "3  King's Landing     2014-06-29   iPhone  2014-01-10       20.0   \n",
       "4      Winterfell     2014-03-15  Android  2014-01-27       11.8   \n",
       "\n",
       "   trips_in_first_30_days  ultimate_black_user  weekday_pct  \n",
       "0                       4                 True         46.2  \n",
       "1                       0                False         50.0  \n",
       "2                       3                False        100.0  \n",
       "3                       9                 True         80.0  \n",
       "4                      14                False         82.4  "
      ]
     },
     "execution_count": 535,
     "metadata": {},
     "output_type": "execute_result"
    }
   ],
   "source": [
    "# read file into dataframe: ultimate_df\n",
    "with open(\"ultimate_data_challenge.json\") as f:\n",
    "    data = json.load(f)\n",
    "ultimate_df = pd.DataFrame(data)\n",
    "\n",
    "# intital look and feel of the dataset\n",
    "ultimate_df.head()"
   ]
  },
  {
   "cell_type": "code",
   "execution_count": 536,
   "metadata": {},
   "outputs": [
    {
     "name": "stdout",
     "output_type": "stream",
     "text": [
      "<class 'pandas.core.frame.DataFrame'>\n",
      "RangeIndex: 50000 entries, 0 to 49999\n",
      "Data columns (total 12 columns):\n",
      "avg_dist                  50000 non-null float64\n",
      "avg_rating_by_driver      49799 non-null float64\n",
      "avg_rating_of_driver      41878 non-null float64\n",
      "avg_surge                 50000 non-null float64\n",
      "city                      50000 non-null object\n",
      "last_trip_date            50000 non-null object\n",
      "phone                     49604 non-null object\n",
      "signup_date               50000 non-null object\n",
      "surge_pct                 50000 non-null float64\n",
      "trips_in_first_30_days    50000 non-null int64\n",
      "ultimate_black_user       50000 non-null bool\n",
      "weekday_pct               50000 non-null float64\n",
      "dtypes: bool(1), float64(6), int64(1), object(4)\n",
      "memory usage: 4.2+ MB\n"
     ]
    }
   ],
   "source": [
    "# look at the some meta data and for null values.\n",
    "ultimate_df.info()"
   ]
  },
  {
   "cell_type": "markdown",
   "metadata": {},
   "source": [
    "There are missing values in the columns **avg_rating_by_driver**, **avg_rating_of_driver** and **phone** columns. Let's take care of these columns first."
   ]
  },
  {
   "cell_type": "code",
   "execution_count": 566,
   "metadata": {},
   "outputs": [
    {
     "name": "stdout",
     "output_type": "stream",
     "text": [
      "Total number of missing values in avg_rating_by_driver = 201\n",
      "Total number of missing values in avg_rating_of_driver = 8122\n",
      "Total number of missing values in phone = 396\n"
     ]
    }
   ],
   "source": [
    "columns = list(ultimate_df.columns)\n",
    "for col in columns:\n",
    "    if (len(ultimate_df[ultimate_df[col].isnull()] > 0)):\n",
    "        print(\"Total number of missing values in {} = {}\".format(col, \n",
    "                                                    len(ultimate_df[ultimate_df[col].isnull()])))"
   ]
  },
  {
   "cell_type": "markdown",
   "metadata": {},
   "source": [
    "So we have three options here to deal with the missing values.\n",
    " 1) we can delete the row with nan values. But we may will loose other important observations.\n",
    " 2) We can fill the nan values with some meaningful values like mean, median, mode etc.\n",
    " 3) we can fill with the values just before this value or value just after this values.\n",
    "Now the first two columns avg_rating_by_driver and avg_rating_of_driver are numerical values and the column itself says that its average ratings, hence we can insert mean of these columns in the respective missing values.<br>\n",
    "For the 3rd column **phone**, total number of missing values is less than 1%, we can simply delete these values but I don't want to miss other important values associated with the these rows. Hence I am gonna create one more category as **unknown** and will see if there is any affect on the kind of device is being used to book the ride."
   ]
  },
  {
   "cell_type": "code",
   "execution_count": 581,
   "metadata": {},
   "outputs": [],
   "source": [
    "# filling missing values.\n",
    "ultimate_df['avg_rating_by_driver'].fillna(round(ultimate_df['avg_rating_by_driver'].mean(),1),\n",
    "                                           inplace=True)\n",
    "ultimate_df['avg_rating_of_driver'].fillna(round(ultimate_df['avg_rating_of_driver'].mean(),1),\n",
    "                                           inplace=True)\n",
    "ultimate_df['phone'].fillna('Unknown', inplace=True)"
   ]
  },
  {
   "cell_type": "code",
   "execution_count": 582,
   "metadata": {},
   "outputs": [
    {
     "name": "stdout",
     "output_type": "stream",
     "text": [
      "<class 'pandas.core.frame.DataFrame'>\n",
      "RangeIndex: 50000 entries, 0 to 49999\n",
      "Data columns (total 12 columns):\n",
      "avg_dist                  50000 non-null float64\n",
      "avg_rating_by_driver      50000 non-null float64\n",
      "avg_rating_of_driver      50000 non-null float64\n",
      "avg_surge                 50000 non-null float64\n",
      "city                      50000 non-null object\n",
      "last_trip_date            50000 non-null object\n",
      "phone                     50000 non-null object\n",
      "signup_date               50000 non-null object\n",
      "surge_pct                 50000 non-null float64\n",
      "trips_in_first_30_days    50000 non-null int64\n",
      "ultimate_black_user       50000 non-null bool\n",
      "weekday_pct               50000 non-null float64\n",
      "dtypes: bool(1), float64(6), int64(1), object(4)\n",
      "memory usage: 4.2+ MB\n"
     ]
    }
   ],
   "source": [
    "# check the info again\n",
    "ultimate_df.info()"
   ]
  },
  {
   "cell_type": "markdown",
   "metadata": {},
   "source": [
    "No more **NaN** or **missing values** in the dataset. However the datatype of columns **signup_date and last_trip_date** are object. We may want to change these to datetime type which will make it simple to work with date type of data. So let's change the dtype of these two columns."
   ]
  },
  {
   "cell_type": "code",
   "execution_count": 583,
   "metadata": {},
   "outputs": [],
   "source": [
    "# change dtype of date columns to datetime.\n",
    "ultimate_df['signup_date'] = pd.to_datetime(ultimate_df['signup_date'])\n",
    "ultimate_df['last_trip_date'] = pd.to_datetime(ultimate_df['last_trip_date'])"
   ]
  },
  {
   "cell_type": "code",
   "execution_count": 584,
   "metadata": {},
   "outputs": [
    {
     "name": "stdout",
     "output_type": "stream",
     "text": [
      "<class 'pandas.core.frame.DataFrame'>\n",
      "RangeIndex: 50000 entries, 0 to 49999\n",
      "Data columns (total 12 columns):\n",
      "avg_dist                  50000 non-null float64\n",
      "avg_rating_by_driver      50000 non-null float64\n",
      "avg_rating_of_driver      50000 non-null float64\n",
      "avg_surge                 50000 non-null float64\n",
      "city                      50000 non-null object\n",
      "last_trip_date            50000 non-null datetime64[ns]\n",
      "phone                     50000 non-null object\n",
      "signup_date               50000 non-null datetime64[ns]\n",
      "surge_pct                 50000 non-null float64\n",
      "trips_in_first_30_days    50000 non-null int64\n",
      "ultimate_black_user       50000 non-null bool\n",
      "weekday_pct               50000 non-null float64\n",
      "dtypes: bool(1), datetime64[ns](2), float64(6), int64(1), object(2)\n",
      "memory usage: 4.2+ MB\n"
     ]
    }
   ],
   "source": [
    "# prin the info to make sure that everything is fine.\n",
    "ultimate_df.info()"
   ]
  },
  {
   "cell_type": "markdown",
   "metadata": {},
   "source": [
    "This concludes our **Data cleaning** part. Now the dataset is in desired format and we will start **EDA**.<br>\n",
    "First we have to find out retained users. If the user is retained will indicate is with **1** else **0**"
   ]
  },
  {
   "cell_type": "code",
   "execution_count": 596,
   "metadata": {},
   "outputs": [],
   "source": [
    "# the latest day on which the data was pulled up: latest_day\n",
    "latest_day = ultimate_df.last_trip_date.max()\n",
    "\n",
    "# list of 30 days from the latest day: days\n",
    "days = [latest_day - dt.timedelta(days=x) for x in range(0, 30)]\n",
    "\n",
    "# add column 'retained' in the dataframe, if the last_trip_date is in the days list the user will\n",
    "# be retained and value of the column will be 1 else 0.\n",
    "ultimate_df['retained'] = ultimate_df['last_trip_date'].map(lambda x: int(x in days))"
   ]
  },
  {
   "cell_type": "code",
   "execution_count": 597,
   "metadata": {},
   "outputs": [
    {
     "data": {
      "text/html": [
       "<div>\n",
       "<style>\n",
       "    .dataframe thead tr:only-child th {\n",
       "        text-align: right;\n",
       "    }\n",
       "\n",
       "    .dataframe thead th {\n",
       "        text-align: left;\n",
       "    }\n",
       "\n",
       "    .dataframe tbody tr th {\n",
       "        vertical-align: top;\n",
       "    }\n",
       "</style>\n",
       "<table border=\"1\" class=\"dataframe\">\n",
       "  <thead>\n",
       "    <tr style=\"text-align: right;\">\n",
       "      <th></th>\n",
       "      <th>avg_dist</th>\n",
       "      <th>avg_rating_by_driver</th>\n",
       "      <th>avg_rating_of_driver</th>\n",
       "      <th>avg_surge</th>\n",
       "      <th>city</th>\n",
       "      <th>last_trip_date</th>\n",
       "      <th>phone</th>\n",
       "      <th>signup_date</th>\n",
       "      <th>surge_pct</th>\n",
       "      <th>trips_in_first_30_days</th>\n",
       "      <th>ultimate_black_user</th>\n",
       "      <th>weekday_pct</th>\n",
       "      <th>retained</th>\n",
       "    </tr>\n",
       "  </thead>\n",
       "  <tbody>\n",
       "    <tr>\n",
       "      <th>0</th>\n",
       "      <td>3.67</td>\n",
       "      <td>5.0</td>\n",
       "      <td>4.7</td>\n",
       "      <td>1.10</td>\n",
       "      <td>King's Landing</td>\n",
       "      <td>2014-06-17</td>\n",
       "      <td>iPhone</td>\n",
       "      <td>2014-01-25</td>\n",
       "      <td>15.4</td>\n",
       "      <td>4</td>\n",
       "      <td>True</td>\n",
       "      <td>46.2</td>\n",
       "      <td>1</td>\n",
       "    </tr>\n",
       "    <tr>\n",
       "      <th>1</th>\n",
       "      <td>8.26</td>\n",
       "      <td>5.0</td>\n",
       "      <td>5.0</td>\n",
       "      <td>1.00</td>\n",
       "      <td>Astapor</td>\n",
       "      <td>2014-05-05</td>\n",
       "      <td>Android</td>\n",
       "      <td>2014-01-29</td>\n",
       "      <td>0.0</td>\n",
       "      <td>0</td>\n",
       "      <td>False</td>\n",
       "      <td>50.0</td>\n",
       "      <td>0</td>\n",
       "    </tr>\n",
       "    <tr>\n",
       "      <th>2</th>\n",
       "      <td>0.77</td>\n",
       "      <td>5.0</td>\n",
       "      <td>4.3</td>\n",
       "      <td>1.00</td>\n",
       "      <td>Astapor</td>\n",
       "      <td>2014-01-07</td>\n",
       "      <td>iPhone</td>\n",
       "      <td>2014-01-06</td>\n",
       "      <td>0.0</td>\n",
       "      <td>3</td>\n",
       "      <td>False</td>\n",
       "      <td>100.0</td>\n",
       "      <td>0</td>\n",
       "    </tr>\n",
       "    <tr>\n",
       "      <th>3</th>\n",
       "      <td>2.36</td>\n",
       "      <td>4.9</td>\n",
       "      <td>4.6</td>\n",
       "      <td>1.14</td>\n",
       "      <td>King's Landing</td>\n",
       "      <td>2014-06-29</td>\n",
       "      <td>iPhone</td>\n",
       "      <td>2014-01-10</td>\n",
       "      <td>20.0</td>\n",
       "      <td>9</td>\n",
       "      <td>True</td>\n",
       "      <td>80.0</td>\n",
       "      <td>1</td>\n",
       "    </tr>\n",
       "    <tr>\n",
       "      <th>4</th>\n",
       "      <td>3.13</td>\n",
       "      <td>4.9</td>\n",
       "      <td>4.4</td>\n",
       "      <td>1.19</td>\n",
       "      <td>Winterfell</td>\n",
       "      <td>2014-03-15</td>\n",
       "      <td>Android</td>\n",
       "      <td>2014-01-27</td>\n",
       "      <td>11.8</td>\n",
       "      <td>14</td>\n",
       "      <td>False</td>\n",
       "      <td>82.4</td>\n",
       "      <td>0</td>\n",
       "    </tr>\n",
       "  </tbody>\n",
       "</table>\n",
       "</div>"
      ],
      "text/plain": [
       "   avg_dist  avg_rating_by_driver  avg_rating_of_driver  avg_surge  \\\n",
       "0      3.67                   5.0                   4.7       1.10   \n",
       "1      8.26                   5.0                   5.0       1.00   \n",
       "2      0.77                   5.0                   4.3       1.00   \n",
       "3      2.36                   4.9                   4.6       1.14   \n",
       "4      3.13                   4.9                   4.4       1.19   \n",
       "\n",
       "             city last_trip_date    phone signup_date  surge_pct  \\\n",
       "0  King's Landing     2014-06-17   iPhone  2014-01-25       15.4   \n",
       "1         Astapor     2014-05-05  Android  2014-01-29        0.0   \n",
       "2         Astapor     2014-01-07   iPhone  2014-01-06        0.0   \n",
       "3  King's Landing     2014-06-29   iPhone  2014-01-10       20.0   \n",
       "4      Winterfell     2014-03-15  Android  2014-01-27       11.8   \n",
       "\n",
       "   trips_in_first_30_days  ultimate_black_user  weekday_pct  retained  \n",
       "0                       4                 True         46.2         1  \n",
       "1                       0                False         50.0         0  \n",
       "2                       3                False        100.0         0  \n",
       "3                       9                 True         80.0         1  \n",
       "4                      14                False         82.4         0  "
      ]
     },
     "execution_count": 597,
     "metadata": {},
     "output_type": "execute_result"
    }
   ],
   "source": [
    "# make sure that the retained column is added\n",
    "ultimate_df.head()"
   ]
  },
  {
   "cell_type": "code",
   "execution_count": 602,
   "metadata": {},
   "outputs": [
    {
     "name": "stdout",
     "output_type": "stream",
     "text": [
      "36.62% users were retained.\n"
     ]
    }
   ],
   "source": [
    "# calculation of percentage of retained users.\n",
    "retained = 100*(ultimate_df.retained.sum()/ultimate_df.retained.count())\n",
    "print(\"{}% users were retained.\".format(round(retained, 2)))"
   ]
  },
  {
   "cell_type": "markdown",
   "metadata": {},
   "source": [
    "It seems only **36.62%** of users were retaied in last 6 months. Lets try to dig little deeper and find out some insight of the dataset.<br>\n",
    "We will start with the city. "
   ]
  },
  {
   "cell_type": "code",
   "execution_count": 638,
   "metadata": {},
   "outputs": [
    {
     "data": {
      "text/html": [
       "<div>\n",
       "<style>\n",
       "    .dataframe thead tr:only-child th {\n",
       "        text-align: right;\n",
       "    }\n",
       "\n",
       "    .dataframe thead th {\n",
       "        text-align: left;\n",
       "    }\n",
       "\n",
       "    .dataframe tbody tr th {\n",
       "        vertical-align: top;\n",
       "    }\n",
       "</style>\n",
       "<table border=\"1\" class=\"dataframe\">\n",
       "  <thead>\n",
       "    <tr style=\"text-align: right;\">\n",
       "      <th></th>\n",
       "      <th>avg_dist</th>\n",
       "      <th>avg_rating_by_driver</th>\n",
       "      <th>avg_rating_of_driver</th>\n",
       "      <th>avg_surge</th>\n",
       "      <th>city</th>\n",
       "      <th>last_trip_date</th>\n",
       "      <th>phone</th>\n",
       "      <th>signup_date</th>\n",
       "      <th>surge_pct</th>\n",
       "      <th>trips_in_first_30_days</th>\n",
       "      <th>ultimate_black_user</th>\n",
       "      <th>weekday_pct</th>\n",
       "      <th>retained</th>\n",
       "    </tr>\n",
       "  </thead>\n",
       "  <tbody>\n",
       "    <tr>\n",
       "      <th>0</th>\n",
       "      <td>3.67</td>\n",
       "      <td>5.0</td>\n",
       "      <td>4.7</td>\n",
       "      <td>1.1</td>\n",
       "      <td>King's Landing</td>\n",
       "      <td>2014-06-17</td>\n",
       "      <td>iPhone</td>\n",
       "      <td>2014-01-25</td>\n",
       "      <td>15.4</td>\n",
       "      <td>4</td>\n",
       "      <td>True</td>\n",
       "      <td>46.2</td>\n",
       "      <td>1</td>\n",
       "    </tr>\n",
       "    <tr>\n",
       "      <th>1</th>\n",
       "      <td>8.26</td>\n",
       "      <td>5.0</td>\n",
       "      <td>5.0</td>\n",
       "      <td>1.0</td>\n",
       "      <td>Astapor</td>\n",
       "      <td>2014-05-05</td>\n",
       "      <td>Android</td>\n",
       "      <td>2014-01-29</td>\n",
       "      <td>0.0</td>\n",
       "      <td>0</td>\n",
       "      <td>False</td>\n",
       "      <td>50.0</td>\n",
       "      <td>0</td>\n",
       "    </tr>\n",
       "  </tbody>\n",
       "</table>\n",
       "</div>"
      ],
      "text/plain": [
       "   avg_dist  avg_rating_by_driver  avg_rating_of_driver  avg_surge  \\\n",
       "0      3.67                   5.0                   4.7        1.1   \n",
       "1      8.26                   5.0                   5.0        1.0   \n",
       "\n",
       "             city last_trip_date    phone signup_date  surge_pct  \\\n",
       "0  King's Landing     2014-06-17   iPhone  2014-01-25       15.4   \n",
       "1         Astapor     2014-05-05  Android  2014-01-29        0.0   \n",
       "\n",
       "   trips_in_first_30_days  ultimate_black_user  weekday_pct  retained  \n",
       "0                       4                 True         46.2         1  \n",
       "1                       0                False         50.0         0  "
      ]
     },
     "execution_count": 638,
     "metadata": {},
     "output_type": "execute_result"
    }
   ],
   "source": [
    "ultimate_df.head(2)"
   ]
  },
  {
   "cell_type": "code",
   "execution_count": 709,
   "metadata": {},
   "outputs": [
    {
     "data": {
      "text/plain": [
       "array([\"King's Landing\", 'Astapor', 'Winterfell'], dtype=object)"
      ]
     },
     "execution_count": 709,
     "metadata": {},
     "output_type": "execute_result"
    }
   ],
   "source": [
    "ultimate_df.city.unique()"
   ]
  },
  {
   "cell_type": "markdown",
   "metadata": {},
   "source": [
    "There are 3 cities for which the data is collected in this dataset. Let's find out which city has the more number of users and more number of retained users."
   ]
  },
  {
   "cell_type": "code",
   "execution_count": 710,
   "metadata": {},
   "outputs": [],
   "source": [
    "# group by city and count the total number of users and users who used the service in last 30 days.\n",
    "# these users are stored in column retained.: city_count, city_sum\n",
    "city_count = (ultimate_df.groupby('city')['retained'].agg('count')).to_frame().reset_index()\n",
    "city_sum = (ultimate_df.groupby('city')['retained'].agg('sum')).to_frame().reset_index()"
   ]
  },
  {
   "cell_type": "code",
   "execution_count": 711,
   "metadata": {},
   "outputs": [],
   "source": [
    "# rename the column to more relevant name\n",
    "city_count.rename(columns={'retained':'Users'}, inplace=True)\n",
    "city_sum.rename(columns={'retained':'Retained'}, inplace=True)"
   ]
  },
  {
   "cell_type": "code",
   "execution_count": 735,
   "metadata": {},
   "outputs": [
    {
     "data": {
      "text/html": [
       "<div>\n",
       "<style>\n",
       "    .dataframe thead tr:only-child th {\n",
       "        text-align: right;\n",
       "    }\n",
       "\n",
       "    .dataframe thead th {\n",
       "        text-align: left;\n",
       "    }\n",
       "\n",
       "    .dataframe tbody tr th {\n",
       "        vertical-align: top;\n",
       "    }\n",
       "</style>\n",
       "<table border=\"1\" class=\"dataframe\">\n",
       "  <thead>\n",
       "    <tr style=\"text-align: right;\">\n",
       "      <th></th>\n",
       "      <th>Users</th>\n",
       "      <th>Retained</th>\n",
       "      <th>retained_pct</th>\n",
       "    </tr>\n",
       "    <tr>\n",
       "      <th>city</th>\n",
       "      <th></th>\n",
       "      <th></th>\n",
       "      <th></th>\n",
       "    </tr>\n",
       "  </thead>\n",
       "  <tbody>\n",
       "    <tr>\n",
       "      <th>Astapor</th>\n",
       "      <td>16534</td>\n",
       "      <td>4022</td>\n",
       "      <td>24.0</td>\n",
       "    </tr>\n",
       "    <tr>\n",
       "      <th>King's Landing</th>\n",
       "      <td>10130</td>\n",
       "      <td>6307</td>\n",
       "      <td>62.0</td>\n",
       "    </tr>\n",
       "    <tr>\n",
       "      <th>Winterfell</th>\n",
       "      <td>23336</td>\n",
       "      <td>7981</td>\n",
       "      <td>34.0</td>\n",
       "    </tr>\n",
       "  </tbody>\n",
       "</table>\n",
       "</div>"
      ],
      "text/plain": [
       "                Users  Retained  retained_pct\n",
       "city                                         \n",
       "Astapor         16534      4022          24.0\n",
       "King's Landing  10130      6307          62.0\n",
       "Winterfell      23336      7981          34.0"
      ]
     },
     "execution_count": 735,
     "metadata": {},
     "output_type": "execute_result"
    }
   ],
   "source": [
    "# merger the two dataframe created above: city\n",
    "city = pd.merge(city_count, city_sum, on='city')\n",
    "city.head(3)"
   ]
  },
  {
   "cell_type": "code",
   "execution_count": 780,
   "metadata": {},
   "outputs": [],
   "source": [
    "# add a column 'retained_pct' as the percentage of users and retained users.\n",
    "city['retained_pct'] = 100*(city['Retained']/city['Users'])\n",
    "city['retained_pct'] = city['retained_pct'].apply(lambda x: round(x,2))"
   ]
  },
  {
   "cell_type": "code",
   "execution_count": 783,
   "metadata": {},
   "outputs": [
    {
     "data": {
      "text/html": [
       "<div>\n",
       "<style>\n",
       "    .dataframe thead tr:only-child th {\n",
       "        text-align: right;\n",
       "    }\n",
       "\n",
       "    .dataframe thead th {\n",
       "        text-align: left;\n",
       "    }\n",
       "\n",
       "    .dataframe tbody tr th {\n",
       "        vertical-align: top;\n",
       "    }\n",
       "</style>\n",
       "<table border=\"1\" class=\"dataframe\">\n",
       "  <thead>\n",
       "    <tr style=\"text-align: right;\">\n",
       "      <th></th>\n",
       "      <th>Users</th>\n",
       "      <th>Retained</th>\n",
       "      <th>retained_pct</th>\n",
       "    </tr>\n",
       "    <tr>\n",
       "      <th>city</th>\n",
       "      <th></th>\n",
       "      <th></th>\n",
       "      <th></th>\n",
       "    </tr>\n",
       "  </thead>\n",
       "  <tbody>\n",
       "    <tr>\n",
       "      <th>Astapor</th>\n",
       "      <td>16534</td>\n",
       "      <td>4022</td>\n",
       "      <td>24.33</td>\n",
       "    </tr>\n",
       "    <tr>\n",
       "      <th>King's Landing</th>\n",
       "      <td>10130</td>\n",
       "      <td>6307</td>\n",
       "      <td>62.26</td>\n",
       "    </tr>\n",
       "    <tr>\n",
       "      <th>Winterfell</th>\n",
       "      <td>23336</td>\n",
       "      <td>7981</td>\n",
       "      <td>34.20</td>\n",
       "    </tr>\n",
       "  </tbody>\n",
       "</table>\n",
       "</div>"
      ],
      "text/plain": [
       "                Users  Retained  retained_pct\n",
       "city                                         \n",
       "Astapor         16534      4022         24.33\n",
       "King's Landing  10130      6307         62.26\n",
       "Winterfell      23336      7981         34.20"
      ]
     },
     "execution_count": 783,
     "metadata": {},
     "output_type": "execute_result"
    }
   ],
   "source": [
    "# set city as the index for better visualization.\n",
    "city = city.set_index('city')\n",
    "city.head()"
   ]
  },
  {
   "cell_type": "code",
   "execution_count": 784,
   "metadata": {},
   "outputs": [
    {
     "data": {
      "image/png": "[encoded data removed]",
      "text/plain": [
       "<matplotlib.figure.Figure at 0x1a25361160>"
      ]
     },
     "metadata": {},
     "output_type": "display_data"
    }
   ],
   "source": [
    "# plot all the 3 cities with the percentage of retained users.\n",
    "ax = city[['Users','Retained']].plot.bar(\n",
    "                             legend=False, figsize=(15,6), fontsize=16, rot=360)\n",
    "labels = []\n",
    "for j in city.columns:\n",
    "    if j=='retained_pct':\n",
    "        for i in city.index:\n",
    "            label = city.loc[i][j]\n",
    "            #label = format(label, '.0f')\n",
    "            labels.append(label)\n",
    "        \n",
    "# adding % symbol at the end of the each number for better visualization        \n",
    "labels = [str(l) + '%' for l in labels]\n",
    "patches = ax.patches\n",
    "\n",
    "for label, rect in zip(labels, patches):\n",
    "    width = rect.get_width()\n",
    "    if width > 0:\n",
    "        x = rect.get_x()\n",
    "        y = rect.get_y()\n",
    "        height = rect.get_height()\n",
    "        ax.text(x + width, y + height/5, label, ha='center', va='center',\n",
    "               fontsize=16, fontweight=\"bold\", color=\"white\")\n",
    "plt.title(\"Retention by city\", fontsize=18 )\n",
    "plt.xlabel(\"City\", fontsize=18)\n",
    "plt.ylabel(\"Number of users\", fontsize=18)\n",
    "plt.legend(fontsize=18)\n",
    "plt.show()"
   ]
  },
  {
   "cell_type": "markdown",
   "metadata": {},
   "source": [
    "As we can see, with  **62%** of retained users **King's Landing** city has the highest retention of the users and city of **Astapor** has the lowest retained user with just **24%**. City of **Winterfell** has the highest number of Ultimate users but has very low retained users percentage of **34%**. "
   ]
  },
  {
   "cell_type": "markdown",
   "metadata": {},
   "source": [
    "Now we will try to figure out how numch devices(Android or iPhone) affects the retention."
   ]
  },
  {
   "cell_type": "code",
   "execution_count": 739,
   "metadata": {},
   "outputs": [],
   "source": [
    "# group by primary phone of the users, count total and retained users: phone_count, phone_sum\n",
    "phone_count = ultimate_df.groupby(\"phone\")['retained'].agg('count').to_frame().reset_index()\n",
    "phone_sum = ultimate_df.groupby('phone')['retained'].agg('sum').to_frame().reset_index()"
   ]
  },
  {
   "cell_type": "code",
   "execution_count": 740,
   "metadata": {},
   "outputs": [],
   "source": [
    "# rename the column to more relevant name\n",
    "phone_count.rename(columns={'retained':'Users'}, inplace=True)\n",
    "phone_sum.rename(columns={'retained':'Retained'}, inplace=True)"
   ]
  },
  {
   "cell_type": "code",
   "execution_count": 744,
   "metadata": {},
   "outputs": [
    {
     "data": {
      "text/html": [
       "<div>\n",
       "<style>\n",
       "    .dataframe thead tr:only-child th {\n",
       "        text-align: right;\n",
       "    }\n",
       "\n",
       "    .dataframe thead th {\n",
       "        text-align: left;\n",
       "    }\n",
       "\n",
       "    .dataframe tbody tr th {\n",
       "        vertical-align: top;\n",
       "    }\n",
       "</style>\n",
       "<table border=\"1\" class=\"dataframe\">\n",
       "  <thead>\n",
       "    <tr style=\"text-align: right;\">\n",
       "      <th></th>\n",
       "      <th>phone</th>\n",
       "      <th>Users</th>\n",
       "      <th>Retained</th>\n",
       "    </tr>\n",
       "  </thead>\n",
       "  <tbody>\n",
       "    <tr>\n",
       "      <th>0</th>\n",
       "      <td>Android</td>\n",
       "      <td>15022</td>\n",
       "      <td>2942</td>\n",
       "    </tr>\n",
       "    <tr>\n",
       "      <th>1</th>\n",
       "      <td>Unknown</td>\n",
       "      <td>396</td>\n",
       "      <td>130</td>\n",
       "    </tr>\n",
       "    <tr>\n",
       "      <th>2</th>\n",
       "      <td>iPhone</td>\n",
       "      <td>34582</td>\n",
       "      <td>15238</td>\n",
       "    </tr>\n",
       "  </tbody>\n",
       "</table>\n",
       "</div>"
      ],
      "text/plain": [
       "     phone  Users  Retained\n",
       "0  Android  15022      2942\n",
       "1  Unknown    396       130\n",
       "2   iPhone  34582     15238"
      ]
     },
     "execution_count": 744,
     "metadata": {},
     "output_type": "execute_result"
    }
   ],
   "source": [
    "# merger the two dataframe created above: phone\n",
    "phone = pd.merge(phone_count, phone_sum, on='phone')\n",
    "phone.head()"
   ]
  },
  {
   "cell_type": "code",
   "execution_count": 785,
   "metadata": {},
   "outputs": [
    {
     "data": {
      "text/html": [
       "<div>\n",
       "<style>\n",
       "    .dataframe thead tr:only-child th {\n",
       "        text-align: right;\n",
       "    }\n",
       "\n",
       "    .dataframe thead th {\n",
       "        text-align: left;\n",
       "    }\n",
       "\n",
       "    .dataframe tbody tr th {\n",
       "        vertical-align: top;\n",
       "    }\n",
       "</style>\n",
       "<table border=\"1\" class=\"dataframe\">\n",
       "  <thead>\n",
       "    <tr style=\"text-align: right;\">\n",
       "      <th></th>\n",
       "      <th>Users</th>\n",
       "      <th>Retained</th>\n",
       "      <th>retained_pct</th>\n",
       "    </tr>\n",
       "    <tr>\n",
       "      <th>phone</th>\n",
       "      <th></th>\n",
       "      <th></th>\n",
       "      <th></th>\n",
       "    </tr>\n",
       "  </thead>\n",
       "  <tbody>\n",
       "    <tr>\n",
       "      <th>Android</th>\n",
       "      <td>15022</td>\n",
       "      <td>2942</td>\n",
       "      <td>19.58</td>\n",
       "    </tr>\n",
       "    <tr>\n",
       "      <th>Unknown</th>\n",
       "      <td>396</td>\n",
       "      <td>130</td>\n",
       "      <td>32.83</td>\n",
       "    </tr>\n",
       "  </tbody>\n",
       "</table>\n",
       "</div>"
      ],
      "text/plain": [
       "         Users  Retained  retained_pct\n",
       "phone                                 \n",
       "Android  15022      2942         19.58\n",
       "Unknown    396       130         32.83"
      ]
     },
     "execution_count": 785,
     "metadata": {},
     "output_type": "execute_result"
    }
   ],
   "source": [
    "# add a column 'retained_pct' as the percentage of users and retained users.\n",
    "phone['retained_pct'] = 100*(phone['Retained']/phone['Users'])\n",
    "phone['retained_pct'] = phone['retained_pct'].apply(lambda x: round(x,2))\n",
    "phone.head(2) # make sure we have all the data"
   ]
  },
  {
   "cell_type": "code",
   "execution_count": 747,
   "metadata": {},
   "outputs": [
    {
     "data": {
      "text/html": [
       "<div>\n",
       "<style>\n",
       "    .dataframe thead tr:only-child th {\n",
       "        text-align: right;\n",
       "    }\n",
       "\n",
       "    .dataframe thead th {\n",
       "        text-align: left;\n",
       "    }\n",
       "\n",
       "    .dataframe tbody tr th {\n",
       "        vertical-align: top;\n",
       "    }\n",
       "</style>\n",
       "<table border=\"1\" class=\"dataframe\">\n",
       "  <thead>\n",
       "    <tr style=\"text-align: right;\">\n",
       "      <th></th>\n",
       "      <th>Users</th>\n",
       "      <th>Retained</th>\n",
       "      <th>retained_pct</th>\n",
       "    </tr>\n",
       "    <tr>\n",
       "      <th>phone</th>\n",
       "      <th></th>\n",
       "      <th></th>\n",
       "      <th></th>\n",
       "    </tr>\n",
       "  </thead>\n",
       "  <tbody>\n",
       "    <tr>\n",
       "      <th>Android</th>\n",
       "      <td>15022</td>\n",
       "      <td>2942</td>\n",
       "      <td>20.0</td>\n",
       "    </tr>\n",
       "    <tr>\n",
       "      <th>Unknown</th>\n",
       "      <td>396</td>\n",
       "      <td>130</td>\n",
       "      <td>33.0</td>\n",
       "    </tr>\n",
       "    <tr>\n",
       "      <th>iPhone</th>\n",
       "      <td>34582</td>\n",
       "      <td>15238</td>\n",
       "      <td>44.0</td>\n",
       "    </tr>\n",
       "  </tbody>\n",
       "</table>\n",
       "</div>"
      ],
      "text/plain": [
       "         Users  Retained  retained_pct\n",
       "phone                                 \n",
       "Android  15022      2942          20.0\n",
       "Unknown    396       130          33.0\n",
       "iPhone   34582     15238          44.0"
      ]
     },
     "execution_count": 747,
     "metadata": {},
     "output_type": "execute_result"
    }
   ],
   "source": [
    "# set phone as the index for better visualization.\n",
    "phone = phone.set_index('phone')\n",
    "phone.head()"
   ]
  },
  {
   "cell_type": "code",
   "execution_count": 786,
   "metadata": {},
   "outputs": [
    {
     "data": {
      "image/png": "[encoded data removed]",
      "text/plain": [
       "<matplotlib.figure.Figure at 0x1a21f0b6a0>"
      ]
     },
     "metadata": {},
     "output_type": "display_data"
    }
   ],
   "source": [
    "# plot all the kind of devices with the percentage of retained users.\n",
    "ax = phone[['Users','Retained']].plot.bar(\n",
    "                             legend=False, figsize=(15,6), fontsize=16, rot=360)\n",
    "labels = []\n",
    "for j in phone.columns:\n",
    "    if j=='retained_pct':\n",
    "        for i in phone.index:\n",
    "            label = phone.loc[i][j]\n",
    "            #label = format(label, '.0f')\n",
    "            labels.append(label)\n",
    "        \n",
    "# adding % symbol at the end of the each number for better reading        \n",
    "labels = [str(l) + '%' for l in labels]\n",
    "patches = ax.patches\n",
    "\n",
    "for label, rect in zip(labels, patches):\n",
    "    width = rect.get_width()\n",
    "    if width > 0:\n",
    "        x = rect.get_x()\n",
    "        y = rect.get_y()\n",
    "        height = rect.get_height()\n",
    "        ax.text(x + width, y + height/5, label, ha='center', va='center',\n",
    "               fontsize=16, fontweight=\"bold\", color=\"black\")\n",
    "plt.title(\"Retention by primary device\", fontsize=18 )\n",
    "plt.xlabel(\"Primary device of the users\", fontsize=18)\n",
    "plt.ylabel(\"Number of users\", fontsize=18)\n",
    "plt.legend(fontsize=18)\n",
    "plt.show()"
   ]
  },
  {
   "cell_type": "markdown",
   "metadata": {},
   "source": [
    "Almost **69%** of users uses **iPhone** and **44%** of thoses users are retained. Similarly, **30%** of users uses **Android** devices and only **20%** of those users are retained. The number of users whose primary device is unknown is very low at less than **1%**. "
   ]
  },
  {
   "cell_type": "markdown",
   "metadata": {},
   "source": [
    "Lets look at the **Black_users** of the utlimate inc."
   ]
  },
  {
   "cell_type": "code",
   "execution_count": 753,
   "metadata": {},
   "outputs": [],
   "source": [
    "# groupby balck users and get the total number of users and retained users.\n",
    "black_users_count = ultimate_df.groupby('ultimate_black_user')['retained'].agg('count').to_frame().reset_index()\n",
    "black_users_sum = ultimate_df.groupby('ultimate_black_user')['retained'].agg('sum').to_frame().reset_index()"
   ]
  },
  {
   "cell_type": "code",
   "execution_count": 754,
   "metadata": {},
   "outputs": [],
   "source": [
    "# rename the column to more relevant name\n",
    "black_users_count.rename(columns={'retained':'Users'}, inplace=True)\n",
    "black_users_sum.rename(columns={'retained':'Retained'}, inplace=True)"
   ]
  },
  {
   "cell_type": "code",
   "execution_count": 755,
   "metadata": {},
   "outputs": [
    {
     "data": {
      "text/html": [
       "<div>\n",
       "<style>\n",
       "    .dataframe thead tr:only-child th {\n",
       "        text-align: right;\n",
       "    }\n",
       "\n",
       "    .dataframe thead th {\n",
       "        text-align: left;\n",
       "    }\n",
       "\n",
       "    .dataframe tbody tr th {\n",
       "        vertical-align: top;\n",
       "    }\n",
       "</style>\n",
       "<table border=\"1\" class=\"dataframe\">\n",
       "  <thead>\n",
       "    <tr style=\"text-align: right;\">\n",
       "      <th></th>\n",
       "      <th>ultimate_black_user</th>\n",
       "      <th>Users</th>\n",
       "      <th>Retained</th>\n",
       "    </tr>\n",
       "  </thead>\n",
       "  <tbody>\n",
       "    <tr>\n",
       "      <th>0</th>\n",
       "      <td>False</td>\n",
       "      <td>31146</td>\n",
       "      <td>8951</td>\n",
       "    </tr>\n",
       "    <tr>\n",
       "      <th>1</th>\n",
       "      <td>True</td>\n",
       "      <td>18854</td>\n",
       "      <td>9359</td>\n",
       "    </tr>\n",
       "  </tbody>\n",
       "</table>\n",
       "</div>"
      ],
      "text/plain": [
       "   ultimate_black_user  Users  Retained\n",
       "0                False  31146      8951\n",
       "1                 True  18854      9359"
      ]
     },
     "execution_count": 755,
     "metadata": {},
     "output_type": "execute_result"
    }
   ],
   "source": [
    "# merger the two dataframe created above: black_users\n",
    "black_users = pd.merge(black_users_count, black_users_sum, on='ultimate_black_user')\n",
    "black_users.head()"
   ]
  },
  {
   "cell_type": "code",
   "execution_count": 787,
   "metadata": {},
   "outputs": [
    {
     "data": {
      "text/html": [
       "<div>\n",
       "<style>\n",
       "    .dataframe thead tr:only-child th {\n",
       "        text-align: right;\n",
       "    }\n",
       "\n",
       "    .dataframe thead th {\n",
       "        text-align: left;\n",
       "    }\n",
       "\n",
       "    .dataframe tbody tr th {\n",
       "        vertical-align: top;\n",
       "    }\n",
       "</style>\n",
       "<table border=\"1\" class=\"dataframe\">\n",
       "  <thead>\n",
       "    <tr style=\"text-align: right;\">\n",
       "      <th></th>\n",
       "      <th>Users</th>\n",
       "      <th>Retained</th>\n",
       "      <th>retained_pct</th>\n",
       "    </tr>\n",
       "    <tr>\n",
       "      <th>ultimate_black_user</th>\n",
       "      <th></th>\n",
       "      <th></th>\n",
       "      <th></th>\n",
       "    </tr>\n",
       "  </thead>\n",
       "  <tbody>\n",
       "    <tr>\n",
       "      <th>False</th>\n",
       "      <td>31146</td>\n",
       "      <td>8951</td>\n",
       "      <td>28.74</td>\n",
       "    </tr>\n",
       "    <tr>\n",
       "      <th>True</th>\n",
       "      <td>18854</td>\n",
       "      <td>9359</td>\n",
       "      <td>49.64</td>\n",
       "    </tr>\n",
       "  </tbody>\n",
       "</table>\n",
       "</div>"
      ],
      "text/plain": [
       "                     Users  Retained  retained_pct\n",
       "ultimate_black_user                               \n",
       "False                31146      8951         28.74\n",
       "True                 18854      9359         49.64"
      ]
     },
     "execution_count": 787,
     "metadata": {},
     "output_type": "execute_result"
    }
   ],
   "source": [
    "# add a column 'retained_pct' as the percentage of users and retained users.\n",
    "black_users['retained_pct'] = 100*(black_users['Retained']/black_users['Users'])\n",
    "black_users['retained_pct'] = black_users['retained_pct'].apply(lambda x: round(x,2))\n",
    "black_users.head() # make sure we have all the data"
   ]
  },
  {
   "cell_type": "code",
   "execution_count": 757,
   "metadata": {},
   "outputs": [
    {
     "data": {
      "text/html": [
       "<div>\n",
       "<style>\n",
       "    .dataframe thead tr:only-child th {\n",
       "        text-align: right;\n",
       "    }\n",
       "\n",
       "    .dataframe thead th {\n",
       "        text-align: left;\n",
       "    }\n",
       "\n",
       "    .dataframe tbody tr th {\n",
       "        vertical-align: top;\n",
       "    }\n",
       "</style>\n",
       "<table border=\"1\" class=\"dataframe\">\n",
       "  <thead>\n",
       "    <tr style=\"text-align: right;\">\n",
       "      <th></th>\n",
       "      <th>Users</th>\n",
       "      <th>Retained</th>\n",
       "      <th>retained_pct</th>\n",
       "    </tr>\n",
       "    <tr>\n",
       "      <th>ultimate_black_user</th>\n",
       "      <th></th>\n",
       "      <th></th>\n",
       "      <th></th>\n",
       "    </tr>\n",
       "  </thead>\n",
       "  <tbody>\n",
       "    <tr>\n",
       "      <th>False</th>\n",
       "      <td>31146</td>\n",
       "      <td>8951</td>\n",
       "      <td>29.0</td>\n",
       "    </tr>\n",
       "    <tr>\n",
       "      <th>True</th>\n",
       "      <td>18854</td>\n",
       "      <td>9359</td>\n",
       "      <td>50.0</td>\n",
       "    </tr>\n",
       "  </tbody>\n",
       "</table>\n",
       "</div>"
      ],
      "text/plain": [
       "                     Users  Retained  retained_pct\n",
       "ultimate_black_user                               \n",
       "False                31146      8951          29.0\n",
       "True                 18854      9359          50.0"
      ]
     },
     "execution_count": 757,
     "metadata": {},
     "output_type": "execute_result"
    }
   ],
   "source": [
    "# set phone as the index for better visualization.\n",
    "black_users = black_users.set_index('ultimate_black_user')\n",
    "black_users.head()"
   ]
  },
  {
   "cell_type": "code",
   "execution_count": 788,
   "metadata": {},
   "outputs": [
    {
     "data": {
      "image/png": "[encoded data removed]",
      "text/plain": [
       "<matplotlib.figure.Figure at 0x1a22a40da0>"
      ]
     },
     "metadata": {},
     "output_type": "display_data"
    }
   ],
   "source": [
    "# plot ultimate balck users with the percentage of retained users.\n",
    "ax = black_users[['Users','Retained']].plot.bar(\n",
    "                             legend=False, figsize=(15,6), fontsize=16, rot=360)\n",
    "labels = []\n",
    "for j in black_users.columns:\n",
    "    if j=='retained_pct':\n",
    "        for i in black_users.index:\n",
    "            label = black_users.loc[i][j]\n",
    "            #label = format(label, '.0f')\n",
    "            labels.append(label)\n",
    "        \n",
    "# adding % symbol at the end of the each number for better reading        \n",
    "labels = [str(l) + '%' for l in labels]\n",
    "patches = ax.patches\n",
    "\n",
    "for label, rect in zip(labels, patches):\n",
    "    width = rect.get_width()\n",
    "    if width > 0:\n",
    "        x = rect.get_x()\n",
    "        y = rect.get_y()\n",
    "        height = rect.get_height()\n",
    "        ax.text(x + width, y + height/5, label, ha='center', va='center',\n",
    "               fontsize=16, fontweight=\"bold\", color=\"white\")\n",
    "plt.title(\"Retention by ultimate black users\", fontsize=18 )\n",
    "plt.xlabel(\"Black Users\", fontsize=18)\n",
    "plt.ylabel(\"Number of users\", fontsize=18)\n",
    "plt.legend(fontsize=18)\n",
    "plt.show()"
   ]
  },
  {
   "cell_type": "markdown",
   "metadata": {},
   "source": [
    "About **37%** of the users took an Ultimate Black in their first 30 days and out of which, about **50%** retained."
   ]
  },
  {
   "cell_type": "code",
   "execution_count": 761,
   "metadata": {},
   "outputs": [
    {
     "data": {
      "text/html": [
       "<div>\n",
       "<style>\n",
       "    .dataframe thead tr:only-child th {\n",
       "        text-align: right;\n",
       "    }\n",
       "\n",
       "    .dataframe thead th {\n",
       "        text-align: left;\n",
       "    }\n",
       "\n",
       "    .dataframe tbody tr th {\n",
       "        vertical-align: top;\n",
       "    }\n",
       "</style>\n",
       "<table border=\"1\" class=\"dataframe\">\n",
       "  <thead>\n",
       "    <tr style=\"text-align: right;\">\n",
       "      <th></th>\n",
       "      <th>avg_dist</th>\n",
       "      <th>avg_rating_by_driver</th>\n",
       "      <th>avg_rating_of_driver</th>\n",
       "      <th>avg_surge</th>\n",
       "      <th>city</th>\n",
       "      <th>last_trip_date</th>\n",
       "      <th>phone</th>\n",
       "      <th>signup_date</th>\n",
       "      <th>surge_pct</th>\n",
       "      <th>trips_in_first_30_days</th>\n",
       "      <th>ultimate_black_user</th>\n",
       "      <th>weekday_pct</th>\n",
       "      <th>retained</th>\n",
       "    </tr>\n",
       "  </thead>\n",
       "  <tbody>\n",
       "    <tr>\n",
       "      <th>0</th>\n",
       "      <td>3.67</td>\n",
       "      <td>5.0</td>\n",
       "      <td>4.7</td>\n",
       "      <td>1.1</td>\n",
       "      <td>King's Landing</td>\n",
       "      <td>2014-06-17</td>\n",
       "      <td>iPhone</td>\n",
       "      <td>2014-01-25</td>\n",
       "      <td>15.4</td>\n",
       "      <td>4</td>\n",
       "      <td>True</td>\n",
       "      <td>46.2</td>\n",
       "      <td>1</td>\n",
       "    </tr>\n",
       "    <tr>\n",
       "      <th>1</th>\n",
       "      <td>8.26</td>\n",
       "      <td>5.0</td>\n",
       "      <td>5.0</td>\n",
       "      <td>1.0</td>\n",
       "      <td>Astapor</td>\n",
       "      <td>2014-05-05</td>\n",
       "      <td>Android</td>\n",
       "      <td>2014-01-29</td>\n",
       "      <td>0.0</td>\n",
       "      <td>0</td>\n",
       "      <td>False</td>\n",
       "      <td>50.0</td>\n",
       "      <td>0</td>\n",
       "    </tr>\n",
       "  </tbody>\n",
       "</table>\n",
       "</div>"
      ],
      "text/plain": [
       "   avg_dist  avg_rating_by_driver  avg_rating_of_driver  avg_surge  \\\n",
       "0      3.67                   5.0                   4.7        1.1   \n",
       "1      8.26                   5.0                   5.0        1.0   \n",
       "\n",
       "             city last_trip_date    phone signup_date  surge_pct  \\\n",
       "0  King's Landing     2014-06-17   iPhone  2014-01-25       15.4   \n",
       "1         Astapor     2014-05-05  Android  2014-01-29        0.0   \n",
       "\n",
       "   trips_in_first_30_days  ultimate_black_user  weekday_pct  retained  \n",
       "0                       4                 True         46.2         1  \n",
       "1                       0                False         50.0         0  "
      ]
     },
     "execution_count": 761,
     "metadata": {},
     "output_type": "execute_result"
    }
   ],
   "source": [
    "ultimate_df.head(2)"
   ]
  },
  {
   "cell_type": "code",
   "execution_count": 762,
   "metadata": {},
   "outputs": [],
   "source": [
    "rating_by_driver_count = ultimate_df.groupby('avg_rating_by_driver')['retained'].agg('count').to_frame().reset_index()\n",
    "rating_by_driver_sum = ultimate_df.groupby('avg_rating_by_driver')['retained'].agg('sum').to_frame().reset_index()"
   ]
  },
  {
   "cell_type": "code",
   "execution_count": 765,
   "metadata": {},
   "outputs": [],
   "source": [
    "# rename the column to more relevant name\n",
    "rating_by_driver_count.rename(columns={'retained':'Users'}, inplace=True)\n",
    "rating_by_driver_sum.rename(columns={'retained':'Retained'}, inplace=True)"
   ]
  },
  {
   "cell_type": "code",
   "execution_count": 767,
   "metadata": {},
   "outputs": [
    {
     "data": {
      "text/html": [
       "<div>\n",
       "<style>\n",
       "    .dataframe thead tr:only-child th {\n",
       "        text-align: right;\n",
       "    }\n",
       "\n",
       "    .dataframe thead th {\n",
       "        text-align: left;\n",
       "    }\n",
       "\n",
       "    .dataframe tbody tr th {\n",
       "        vertical-align: top;\n",
       "    }\n",
       "</style>\n",
       "<table border=\"1\" class=\"dataframe\">\n",
       "  <thead>\n",
       "    <tr style=\"text-align: right;\">\n",
       "      <th></th>\n",
       "      <th>avg_rating_by_driver</th>\n",
       "      <th>Users</th>\n",
       "      <th>Retained</th>\n",
       "    </tr>\n",
       "  </thead>\n",
       "  <tbody>\n",
       "    <tr>\n",
       "      <th>0</th>\n",
       "      <td>1.0</td>\n",
       "      <td>181</td>\n",
       "      <td>20</td>\n",
       "    </tr>\n",
       "    <tr>\n",
       "      <th>1</th>\n",
       "      <td>1.5</td>\n",
       "      <td>4</td>\n",
       "      <td>1</td>\n",
       "    </tr>\n",
       "  </tbody>\n",
       "</table>\n",
       "</div>"
      ],
      "text/plain": [
       "   avg_rating_by_driver  Users  Retained\n",
       "0                   1.0    181        20\n",
       "1                   1.5      4         1"
      ]
     },
     "execution_count": 767,
     "metadata": {},
     "output_type": "execute_result"
    }
   ],
   "source": [
    "# merger the two dataframe created above: rating_by_driver\n",
    "rating_by_driver = pd.merge(rating_by_driver_count, rating_by_driver_sum, on='avg_rating_by_driver')\n",
    "rating_by_driver.head(2)"
   ]
  },
  {
   "cell_type": "code",
   "execution_count": 789,
   "metadata": {},
   "outputs": [
    {
     "data": {
      "text/html": [
       "<div>\n",
       "<style>\n",
       "    .dataframe thead tr:only-child th {\n",
       "        text-align: right;\n",
       "    }\n",
       "\n",
       "    .dataframe thead th {\n",
       "        text-align: left;\n",
       "    }\n",
       "\n",
       "    .dataframe tbody tr th {\n",
       "        vertical-align: top;\n",
       "    }\n",
       "</style>\n",
       "<table border=\"1\" class=\"dataframe\">\n",
       "  <thead>\n",
       "    <tr style=\"text-align: right;\">\n",
       "      <th></th>\n",
       "      <th>Users</th>\n",
       "      <th>Retained</th>\n",
       "      <th>retained_pct</th>\n",
       "    </tr>\n",
       "    <tr>\n",
       "      <th>avg_rating_by_driver</th>\n",
       "      <th></th>\n",
       "      <th></th>\n",
       "      <th></th>\n",
       "    </tr>\n",
       "  </thead>\n",
       "  <tbody>\n",
       "    <tr>\n",
       "      <th>1.0</th>\n",
       "      <td>181</td>\n",
       "      <td>20</td>\n",
       "      <td>11.05</td>\n",
       "    </tr>\n",
       "    <tr>\n",
       "      <th>1.5</th>\n",
       "      <td>4</td>\n",
       "      <td>1</td>\n",
       "      <td>25.00</td>\n",
       "    </tr>\n",
       "  </tbody>\n",
       "</table>\n",
       "</div>"
      ],
      "text/plain": [
       "                      Users  Retained  retained_pct\n",
       "avg_rating_by_driver                               \n",
       "1.0                     181        20         11.05\n",
       "1.5                       4         1         25.00"
      ]
     },
     "execution_count": 789,
     "metadata": {},
     "output_type": "execute_result"
    }
   ],
   "source": [
    "# add a column 'retained_pct' as the percentage of users and retained users.\n",
    "rating_by_driver['retained_pct'] = 100*(rating_by_driver['Retained']/rating_by_driver['Users'])\n",
    "rating_by_driver['retained_pct'] = rating_by_driver['retained_pct'].apply(lambda x: round(x,2))\n",
    "rating_by_driver.head(2) # make sure we have all the data"
   ]
  },
  {
   "cell_type": "code",
   "execution_count": 790,
   "metadata": {},
   "outputs": [
    {
     "data": {
      "text/html": [
       "<div>\n",
       "<style>\n",
       "    .dataframe thead tr:only-child th {\n",
       "        text-align: right;\n",
       "    }\n",
       "\n",
       "    .dataframe thead th {\n",
       "        text-align: left;\n",
       "    }\n",
       "\n",
       "    .dataframe tbody tr th {\n",
       "        vertical-align: top;\n",
       "    }\n",
       "</style>\n",
       "<table border=\"1\" class=\"dataframe\">\n",
       "  <thead>\n",
       "    <tr style=\"text-align: right;\">\n",
       "      <th></th>\n",
       "      <th>Users</th>\n",
       "      <th>Retained</th>\n",
       "      <th>retained_pct</th>\n",
       "    </tr>\n",
       "    <tr>\n",
       "      <th>avg_rating_by_driver</th>\n",
       "      <th></th>\n",
       "      <th></th>\n",
       "      <th></th>\n",
       "    </tr>\n",
       "  </thead>\n",
       "  <tbody>\n",
       "    <tr>\n",
       "      <th>1.0</th>\n",
       "      <td>181</td>\n",
       "      <td>20</td>\n",
       "      <td>11.05</td>\n",
       "    </tr>\n",
       "    <tr>\n",
       "      <th>1.5</th>\n",
       "      <td>4</td>\n",
       "      <td>1</td>\n",
       "      <td>25.00</td>\n",
       "    </tr>\n",
       "  </tbody>\n",
       "</table>\n",
       "</div>"
      ],
      "text/plain": [
       "                      Users  Retained  retained_pct\n",
       "avg_rating_by_driver                               \n",
       "1.0                     181        20         11.05\n",
       "1.5                       4         1         25.00"
      ]
     },
     "execution_count": 790,
     "metadata": {},
     "output_type": "execute_result"
    }
   ],
   "source": [
    "rating_by_driver = rating_by_driver.set_index('avg_rating_by_driver')\n",
    "rating_by_driver.head(2)"
   ]
  },
  {
   "cell_type": "code",
   "execution_count": 1118,
   "metadata": {},
   "outputs": [
    {
     "data": {
      "image/png": "[encoded data removed]",
      "text/plain": [
       "<matplotlib.figure.Figure at 0x1a230831d0>"
      ]
     },
     "metadata": {},
     "output_type": "display_data"
    }
   ],
   "source": [
    "ax=rating_by_driver[['Users','Retained']].plot.bar(title=\"Retaintion by average rating by drivers\",\n",
    "                             legend=False, figsize=(15,10), stacked=True, fontsize=16)\n",
    "labels = []\n",
    "for j in rating_by_driver.columns:\n",
    "    if j=='retained_pct':\n",
    "        for i in rating_by_driver.index:\n",
    "            label = rating_by_driver.loc[i][j]\n",
    "            #label = format(label, '.0f')\n",
    "            labels.append(label)\n",
    "        \n",
    "# adding % symbol at the end of the each number for better visualization        \n",
    "#labels = [str(l) + '%' for l in labels]\n",
    "patches = ax.patches\n",
    "\n",
    "for label, rect in zip(labels, patches):\n",
    "    width = rect.get_width()\n",
    "    if width > 0:\n",
    "        x = rect.get_x()\n",
    "        y = rect.get_y()\n",
    "        height = rect.get_height()\n",
    "        ax.text(x + width/2. , height*1.2 , label, ha='center', va='center',\n",
    "               fontsize=12, fontweight=\"bold\", color=\"red\")\n",
    "         \n",
    "plt.title(\"Retaintion by average rating by drivers\", fontsize=18 )\n",
    "plt.xlabel(\"Rating\", fontsize=18)\n",
    "plt.ylabel(\"Frequency/Count\", fontsize=18)\n",
    "#plt.legend(fontsize=18)\n",
    "plt.show()"
   ]
  },
  {
   "cell_type": "markdown",
   "metadata": {},
   "source": [
    "It seems higher ratings by drivers makes the riders happy and the retention of those users have more than **60%** retention rate."
   ]
  },
  {
   "cell_type": "code",
   "execution_count": 842,
   "metadata": {},
   "outputs": [
    {
     "data": {
      "text/html": [
       "<div>\n",
       "<style>\n",
       "    .dataframe thead tr:only-child th {\n",
       "        text-align: right;\n",
       "    }\n",
       "\n",
       "    .dataframe thead th {\n",
       "        text-align: left;\n",
       "    }\n",
       "\n",
       "    .dataframe tbody tr th {\n",
       "        vertical-align: top;\n",
       "    }\n",
       "</style>\n",
       "<table border=\"1\" class=\"dataframe\">\n",
       "  <thead>\n",
       "    <tr style=\"text-align: right;\">\n",
       "      <th></th>\n",
       "      <th>avg_dist</th>\n",
       "      <th>avg_rating_by_driver</th>\n",
       "      <th>avg_rating_of_driver</th>\n",
       "      <th>avg_surge</th>\n",
       "      <th>surge_pct</th>\n",
       "      <th>trips_in_first_30_days</th>\n",
       "      <th>ultimate_black_user</th>\n",
       "      <th>weekday_pct</th>\n",
       "    </tr>\n",
       "    <tr>\n",
       "      <th>retained</th>\n",
       "      <th></th>\n",
       "      <th></th>\n",
       "      <th></th>\n",
       "      <th></th>\n",
       "      <th></th>\n",
       "      <th></th>\n",
       "      <th></th>\n",
       "      <th></th>\n",
       "    </tr>\n",
       "  </thead>\n",
       "  <tbody>\n",
       "    <tr>\n",
       "      <th>0</th>\n",
       "      <td>6.188478</td>\n",
       "      <td>4.786945</td>\n",
       "      <td>4.605566</td>\n",
       "      <td>1.075367</td>\n",
       "      <td>8.688548</td>\n",
       "      <td>1.659167</td>\n",
       "      <td>0.299621</td>\n",
       "      <td>60.181597</td>\n",
       "    </tr>\n",
       "    <tr>\n",
       "      <th>1</th>\n",
       "      <td>5.118977</td>\n",
       "      <td>4.763190</td>\n",
       "      <td>4.593932</td>\n",
       "      <td>1.073720</td>\n",
       "      <td>9.128165</td>\n",
       "      <td>3.349590</td>\n",
       "      <td>0.511141</td>\n",
       "      <td>62.214604</td>\n",
       "    </tr>\n",
       "  </tbody>\n",
       "</table>\n",
       "</div>"
      ],
      "text/plain": [
       "          avg_dist  avg_rating_by_driver  avg_rating_of_driver  avg_surge  \\\n",
       "retained                                                                    \n",
       "0         6.188478              4.786945              4.605566   1.075367   \n",
       "1         5.118977              4.763190              4.593932   1.073720   \n",
       "\n",
       "          surge_pct  trips_in_first_30_days  ultimate_black_user  weekday_pct  \n",
       "retained                                                                       \n",
       "0          8.688548                1.659167             0.299621    60.181597  \n",
       "1          9.128165                3.349590             0.511141    62.214604  "
      ]
     },
     "execution_count": 842,
     "metadata": {},
     "output_type": "execute_result"
    }
   ],
   "source": [
    "ultimate_df.groupby('retained').mean()"
   ]
  },
  {
   "cell_type": "markdown",
   "metadata": {},
   "source": [
    "As we can see at the above table, numerical values and their average for each class(retained=1 or retained=0). For example **average distance** travelled by retained user is less than that of not retained users. **Average rating** by driver and of the driver is almost similar. Similarly with other columns."
   ]
  },
  {
   "cell_type": "markdown",
   "metadata": {},
   "source": [
    "### EDA Conclusion ###\n",
    "* The city of King's Landing can be seen as an opportunity. City has the lowest number of users but highest percentage of retention.\n",
    "* The primary device of the users doesn't contribute much in finding any relationship between the users and the retention of the users.\n",
    "* Black users have 50% chance of being retained.\n",
    "* High rating by drivers to the customers increases the probability of the users to be retained."
   ]
  },
  {
   "cell_type": "markdown",
   "metadata": {},
   "source": [
    "-----------------------------------------------------------------------------------------------"
   ]
  },
  {
   "cell_type": "markdown",
   "metadata": {},
   "source": [
    "## Modeling ##\n",
    "As we know this is a binary classification problem, where we try to predict that a user will be active in the 6th month or not. In this prediction problem, the retained users will be denoted by **1(TRUE)** and **0(False)** denotes users Ultimate Inc. would loose. Before jumping into the modeling let's start with feature engineering.<br>\n",
    "### Feature Engineering ###\n",
    "We have numerical values columns, categorical values column and datetime value columns. Numerical values are good enough for modeling, no more addition engineering is required on it. We will use **OneHotEncoder** for converting categorical values to numerical values. We have two columns with the datetime column which we will drop as both of them are not required. **signup_date** is the date on which the users has signed up for Ultimate Inc services. From the problem statement we know that users were signed in January 2014. And **last_trip_date** column is the date the users has last took ride, since our target value is derived from this column we can drop this column. "
   ]
  },
  {
   "cell_type": "code",
   "execution_count": 1004,
   "metadata": {},
   "outputs": [],
   "source": [
    "# import all the required libraries\n",
    "from sklearn.preprocessing import OneHotEncoder\n",
    "from sklearn.metrics import roc_curve, auc, accuracy_score, confusion_matrix, precision_recall_curve\n",
    "from sklearn.model_selection import train_test_split, GridSearchCV, cross_val_score\n",
    "from sklearn.tree import DecisionTreeClassifier\n",
    "from sklearn.svm import SVC\n",
    "from sklearn.linear_model import LogisticRegression\n",
    "from sklearn.metrics import classification_report, roc_auc_score, average_precision_score, f1_score\n",
    "from sklearn.ensemble import RandomForestClassifier, GradientBoostingClassifier\n",
    "from imblearn.over_sampling import SMOTE"
   ]
  },
  {
   "cell_type": "code",
   "execution_count": 831,
   "metadata": {},
   "outputs": [],
   "source": [
    "# drop the date time column\n",
    "ultimate_df.drop(['signup_date','last_trip_date'], inplace=True, axis=1)"
   ]
  },
  {
   "cell_type": "code",
   "execution_count": 835,
   "metadata": {},
   "outputs": [],
   "source": [
    "# convert all the categorical columns to numericals columns: ultimate_ml\n",
    "ultimate_ml = pd.get_dummies(ultimate_df, columns=['city','phone','ultimate_black_user'])"
   ]
  },
  {
   "cell_type": "code",
   "execution_count": 836,
   "metadata": {},
   "outputs": [
    {
     "data": {
      "text/html": [
       "<div>\n",
       "<style>\n",
       "    .dataframe thead tr:only-child th {\n",
       "        text-align: right;\n",
       "    }\n",
       "\n",
       "    .dataframe thead th {\n",
       "        text-align: left;\n",
       "    }\n",
       "\n",
       "    .dataframe tbody tr th {\n",
       "        vertical-align: top;\n",
       "    }\n",
       "</style>\n",
       "<table border=\"1\" class=\"dataframe\">\n",
       "  <thead>\n",
       "    <tr style=\"text-align: right;\">\n",
       "      <th></th>\n",
       "      <th>avg_dist</th>\n",
       "      <th>avg_rating_by_driver</th>\n",
       "      <th>avg_rating_of_driver</th>\n",
       "      <th>avg_surge</th>\n",
       "      <th>surge_pct</th>\n",
       "      <th>trips_in_first_30_days</th>\n",
       "      <th>weekday_pct</th>\n",
       "      <th>retained</th>\n",
       "      <th>city_Astapor</th>\n",
       "      <th>city_King's Landing</th>\n",
       "      <th>city_Winterfell</th>\n",
       "      <th>phone_Android</th>\n",
       "      <th>phone_Unknown</th>\n",
       "      <th>phone_iPhone</th>\n",
       "      <th>ultimate_black_user_False</th>\n",
       "      <th>ultimate_black_user_True</th>\n",
       "    </tr>\n",
       "  </thead>\n",
       "  <tbody>\n",
       "    <tr>\n",
       "      <th>0</th>\n",
       "      <td>3.67</td>\n",
       "      <td>5.0</td>\n",
       "      <td>4.7</td>\n",
       "      <td>1.10</td>\n",
       "      <td>15.4</td>\n",
       "      <td>4</td>\n",
       "      <td>46.2</td>\n",
       "      <td>1</td>\n",
       "      <td>0</td>\n",
       "      <td>1</td>\n",
       "      <td>0</td>\n",
       "      <td>0</td>\n",
       "      <td>0</td>\n",
       "      <td>1</td>\n",
       "      <td>0</td>\n",
       "      <td>1</td>\n",
       "    </tr>\n",
       "    <tr>\n",
       "      <th>1</th>\n",
       "      <td>8.26</td>\n",
       "      <td>5.0</td>\n",
       "      <td>5.0</td>\n",
       "      <td>1.00</td>\n",
       "      <td>0.0</td>\n",
       "      <td>0</td>\n",
       "      <td>50.0</td>\n",
       "      <td>0</td>\n",
       "      <td>1</td>\n",
       "      <td>0</td>\n",
       "      <td>0</td>\n",
       "      <td>1</td>\n",
       "      <td>0</td>\n",
       "      <td>0</td>\n",
       "      <td>1</td>\n",
       "      <td>0</td>\n",
       "    </tr>\n",
       "    <tr>\n",
       "      <th>2</th>\n",
       "      <td>0.77</td>\n",
       "      <td>5.0</td>\n",
       "      <td>4.3</td>\n",
       "      <td>1.00</td>\n",
       "      <td>0.0</td>\n",
       "      <td>3</td>\n",
       "      <td>100.0</td>\n",
       "      <td>0</td>\n",
       "      <td>1</td>\n",
       "      <td>0</td>\n",
       "      <td>0</td>\n",
       "      <td>0</td>\n",
       "      <td>0</td>\n",
       "      <td>1</td>\n",
       "      <td>1</td>\n",
       "      <td>0</td>\n",
       "    </tr>\n",
       "    <tr>\n",
       "      <th>3</th>\n",
       "      <td>2.36</td>\n",
       "      <td>4.9</td>\n",
       "      <td>4.6</td>\n",
       "      <td>1.14</td>\n",
       "      <td>20.0</td>\n",
       "      <td>9</td>\n",
       "      <td>80.0</td>\n",
       "      <td>1</td>\n",
       "      <td>0</td>\n",
       "      <td>1</td>\n",
       "      <td>0</td>\n",
       "      <td>0</td>\n",
       "      <td>0</td>\n",
       "      <td>1</td>\n",
       "      <td>0</td>\n",
       "      <td>1</td>\n",
       "    </tr>\n",
       "    <tr>\n",
       "      <th>4</th>\n",
       "      <td>3.13</td>\n",
       "      <td>4.9</td>\n",
       "      <td>4.4</td>\n",
       "      <td>1.19</td>\n",
       "      <td>11.8</td>\n",
       "      <td>14</td>\n",
       "      <td>82.4</td>\n",
       "      <td>0</td>\n",
       "      <td>0</td>\n",
       "      <td>0</td>\n",
       "      <td>1</td>\n",
       "      <td>1</td>\n",
       "      <td>0</td>\n",
       "      <td>0</td>\n",
       "      <td>1</td>\n",
       "      <td>0</td>\n",
       "    </tr>\n",
       "  </tbody>\n",
       "</table>\n",
       "</div>"
      ],
      "text/plain": [
       "   avg_dist  avg_rating_by_driver  avg_rating_of_driver  avg_surge  surge_pct  \\\n",
       "0      3.67                   5.0                   4.7       1.10       15.4   \n",
       "1      8.26                   5.0                   5.0       1.00        0.0   \n",
       "2      0.77                   5.0                   4.3       1.00        0.0   \n",
       "3      2.36                   4.9                   4.6       1.14       20.0   \n",
       "4      3.13                   4.9                   4.4       1.19       11.8   \n",
       "\n",
       "   trips_in_first_30_days  weekday_pct  retained  city_Astapor  \\\n",
       "0                       4         46.2         1             0   \n",
       "1                       0         50.0         0             1   \n",
       "2                       3        100.0         0             1   \n",
       "3                       9         80.0         1             0   \n",
       "4                      14         82.4         0             0   \n",
       "\n",
       "   city_King's Landing  city_Winterfell  phone_Android  phone_Unknown  \\\n",
       "0                    1                0              0              0   \n",
       "1                    0                0              1              0   \n",
       "2                    0                0              0              0   \n",
       "3                    1                0              0              0   \n",
       "4                    0                1              1              0   \n",
       "\n",
       "   phone_iPhone  ultimate_black_user_False  ultimate_black_user_True  \n",
       "0             1                          0                         1  \n",
       "1             0                          1                         0  \n",
       "2             1                          1                         0  \n",
       "3             1                          0                         1  \n",
       "4             0                          1                         0  "
      ]
     },
     "execution_count": 836,
     "metadata": {},
     "output_type": "execute_result"
    }
   ],
   "source": [
    "# print few rows of the new dataframe\n",
    "ultimate_ml.head()"
   ]
  },
  {
   "cell_type": "code",
   "execution_count": 840,
   "metadata": {},
   "outputs": [],
   "source": [
    "# get the target column: Y\n",
    "Y = ultimate_ml[['retained']]\n",
    "\n",
    "# get all the fetures in X_features\n",
    "X_features = ultimate_ml.drop('retained', axis=1)"
   ]
  },
  {
   "cell_type": "code",
   "execution_count": 844,
   "metadata": {},
   "outputs": [
    {
     "data": {
      "text/plain": [
       "0    31690\n",
       "1    18310\n",
       "Name: retained, dtype: int64"
      ]
     },
     "execution_count": 844,
     "metadata": {},
     "output_type": "execute_result"
    }
   ],
   "source": [
    "ultimate_ml['retained'].value_counts()"
   ]
  },
  {
   "cell_type": "markdown",
   "metadata": {},
   "source": [
    "Since we have **36.62%** as True class, and **63.38%** data are in False class, so the two classes are not equally distributed and hence we have to take **imbalanced data** into consideration. To handle the imbalabced data we will use **SMOTE** (Synthetic Minority Over-sampling Technique) to generate sythetic sample. And we will consider **confusion matrix, precision, recall, f1, PR-curve, and ROC-Curve** metrices to measure performance of the model.<br>\n",
    "**ROC-Curve**:ROC curves typically feature true positive rate on the Y axis, and false positive rate on the X axis. This means that the top left corner of the plot is the “ideal” point - a false positive rate of zero, and a true positive rate of one. This is not very realistic, but it does mean that a larger area under the curve (AUC) is usually better.The “steepness” of ROC curves is also important, since it is ideal to maximize the true positive rate while minimizing the false positive rate.<br>\n",
    "**PR-Curve**: In information retrieval, precision is a measure of result relevancy, while recall is a measure of how many truly relevant results are returned. The precision-recall curve shows the tradeoff between precision and recall for different threshold. A high area under the curve represents both high recall and high precision, where high precision relates to a low false positive rate, and high recall relates to a low false negative rate. High scores for both show that the classifier is returning accurate results (high precision), as well as returning a majority of all positive results (high recall).<br>\n",
    "**Confusion Matrix**: In the field of machine learning and specifically the problem of statistical classification, a confusion matrix, also known as an error matrix, is a specific table layout that allows visualization of the performance of an algorithm, typically a supervised learning one (in unsupervised learning it is usually called a matching matrix). Each row of the matrix represents the instances in a predicted class while each column represents the instances in an actual class (or vice versa). The name stems from the fact that it makes it easy to see if the system is confusing two classes (i.e. commonly mislabeling one as another). It is a special kind of contingency table, with two dimensions (\"actual\" and \"predicted\"), and identical sets of \"classes\" in both dimensions (each combination of dimension and class is a variable in the contingency table)."
   ]
  },
  {
   "cell_type": "markdown",
   "metadata": {},
   "source": [
    "Let's start by splitting the dataset into train and test data, and then we can SMOTE technique on training dataset for resampling."
   ]
  },
  {
   "cell_type": "code",
   "execution_count": 846,
   "metadata": {},
   "outputs": [],
   "source": [
    "# split the data into training and test data\n",
    "x_train, x_test, y_train, y_test = train_test_split(X_features, Y, test_size=.3, random_state=42,\n",
    "                                                   stratify = ultimate_ml['retained'])"
   ]
  },
  {
   "cell_type": "code",
   "execution_count": 1006,
   "metadata": {},
   "outputs": [],
   "source": [
    "# Resampling of training dataset: sm, X_train_sm, y_train_sm\n",
    "sm = SMOTE(kind = \"regular\")\n",
    "x_train_sm, y_train_sm = sm.fit_sample(x_train, y_train)"
   ]
  },
  {
   "cell_type": "code",
   "execution_count": 1007,
   "metadata": {},
   "outputs": [
    {
     "data": {
      "text/plain": [
       "(44366, 44366)"
      ]
     },
     "execution_count": 1007,
     "metadata": {},
     "output_type": "execute_result"
    }
   ],
   "source": [
    " # just to make sure we have same number of rows after resampling.\n",
    "x_train_sm.shape[0] , y_train_sm.shape[0]"
   ]
  },
  {
   "cell_type": "markdown",
   "metadata": {},
   "source": [
    "We have defined function **PR_And_ROC_Curve** which takes model name as an argument and produces PR and ROC curve graph for visualization."
   ]
  },
  {
   "cell_type": "code",
   "execution_count": 1074,
   "metadata": {},
   "outputs": [],
   "source": [
    "def PR_And_ROC_Curve(model_name):\n",
    "    ''' This function do the required calculaiton and produces PR and ROC-Curve'''\n",
    "    \n",
    "    # calculate precision, recall and thresholds: \n",
    "    precision, recall, thresholds_pr = precision_recall_curve(y_test, \n",
    "                                                        model_name.decision_function(x_test))\n",
    "    \n",
    "    # find threshold close to 0 for PR (precision-recall): \n",
    "    close_0_pr = np.argmin(np.abs(thresholds_pr))\n",
    "    \n",
    "    # calculate fpr(flase positive rate), tpr(true positive rate) and thresholds: \n",
    "    fpr, tpr, threshold_roc = roc_curve(y_test, model_name.decision_function(x_test))\n",
    "    \n",
    "    # find threshold close to 0 for roc:\n",
    "    close_0_roc = np.argmin(np.abs(threshold_roc))\n",
    "    \n",
    "    # plot PR-Curve\n",
    "    plt.figure(figsize=(18, 6))\n",
    "    plt.subplot(1,2,1)\n",
    "    plt.plot(precision[close_0_pr], recall[close_0_pr], 'o', \n",
    "         markersize=10, label=\"Threshold Zero\",fillstyle=\"none\", c='k', mew=2)\n",
    "    plt.plot(precision, recall, label=\"Precision Recall curve\")\n",
    "    plt.title(\"PR-Curve\", fontsize=16)\n",
    "    plt.xlabel(\"Precision\", fontsize=16)\n",
    "    plt.ylabel(\"Recall\", fontsize=16)\n",
    "    plt.legend(loc=\"best\", fontsize=12)\n",
    "    \n",
    "    # plot ROC Curve\n",
    "    plt.subplot(1,2,2)\n",
    "    plt.plot(fpr[close_0_roc],tpr[close_0_roc],'o', markersize=10,label=\"Threshold Zero\",\n",
    "        fillstyle=\"none\", c='k', mew=2)\n",
    "    plt.plot(fpr, tpr, label=\"ROC Curve\")\n",
    "    plt.plot([0, 1], [0, 1],'r--')\n",
    "    plt.title(\"ROC-Curve\", fontsize=16)\n",
    "    plt.xlabel(\"FPR\", fontsize=16)\n",
    "    plt.ylabel(\"TPR(Recall)\", fontsize=16)\n",
    "    plt.legend(loc=\"best\", fontsize=12)\n",
    "    plt.show()\n",
    "    \n",
    "    return"
   ]
  },
  {
   "cell_type": "code",
   "execution_count": 1073,
   "metadata": {},
   "outputs": [],
   "source": [
    "def PR_And_ROC_Curve2(model_name):\n",
    "    '''This function is similar to the PR_And_ROC_Curve except that in these function we will \n",
    "    be using predict_proba function and the decision_function is only available with Linear\n",
    "    models.'''\n",
    "    # calculate precision, recall and thresholds: \n",
    "    precision, recall, thresholds_pr = precision_recall_curve(y_test, \n",
    "                                                        model_name.predict_proba(x_test)[:,1])\n",
    "    \n",
    "    # find threshold close to 0 for PR (precision-recall): \n",
    "    close_0_pr = np.argmin(np.abs(thresholds_pr))\n",
    "    \n",
    "    # calculate fpr(flase positive rate), tpr(true positive rate) and thresholds: \n",
    "    fpr, tpr, threshold_roc = roc_curve(y_test, model_name.predict_proba(x_test)[:,1])\n",
    "    \n",
    "    # find threshold close to 0 for roc:\n",
    "    close_0_roc = np.argmin(np.abs(threshold_roc))\n",
    "    \n",
    "    # plot PR-Curve\n",
    "    plt.figure(figsize=(18, 6))\n",
    "    plt.subplot(1,2,1)\n",
    "    plt.plot(precision[close_0_pr], recall[close_0_pr], 'o', \n",
    "         markersize=10, label=\"Threshold Zero\",fillstyle=\"none\", c='k', mew=2)\n",
    "    plt.plot(precision, recall, label=\"Precision Recall curve\")\n",
    "    plt.title(\"PR-Curve\", fontsize=16)\n",
    "    plt.xlabel(\"Precision\", fontsize=16)\n",
    "    plt.ylabel(\"Recall\", fontsize=16)\n",
    "    plt.legend(loc=\"best\", fontsize=12)\n",
    "    \n",
    "    # plot ROC Curve\n",
    "    plt.subplot(1,2,2)\n",
    "    plt.plot(fpr[close_0_roc],tpr[close_0_roc],'o', markersize=10,label=\"Threshold Zero\",\n",
    "        fillstyle=\"none\", c='k', mew=2)\n",
    "    plt.plot(fpr, tpr, label=\"ROC Curve\")\n",
    "    plt.plot([0, 1], [0, 1],'r--')\n",
    "    plt.title(\"ROC-Curve\", fontsize=16)\n",
    "    plt.xlabel(\"FPR\", fontsize=16)\n",
    "    plt.ylabel(\"TPR(Recall)\", fontsize=16)\n",
    "    plt.legend(loc=\"best\", fontsize=12)\n",
    "    plt.show()\n",
    "    \n",
    "    return"
   ]
  },
  {
   "cell_type": "markdown",
   "metadata": {},
   "source": [
    "### LogisticRegression ###\n",
    "Logistic_regression is linear model and widely used in classification problems. This is our first model."
   ]
  },
  {
   "cell_type": "code",
   "execution_count": 1032,
   "metadata": {},
   "outputs": [],
   "source": [
    "# define range of C(regularization) parameter for logistic regression: param_grid\n",
    "param_grid = {'C': [0.001,0.01,1,10, 100]}\n",
    "\n",
    "# model with GridSearchCV: logistic\n",
    "logistic = GridSearchCV(LogisticRegression(),param_grid, cv=10)"
   ]
  },
  {
   "cell_type": "code",
   "execution_count": 1033,
   "metadata": {},
   "outputs": [
    {
     "data": {
      "text/plain": [
       "GridSearchCV(cv=10, error_score='raise',\n",
       "       estimator=LogisticRegression(C=1.0, class_weight=None, dual=False, fit_intercept=True,\n",
       "          intercept_scaling=1, max_iter=100, multi_class='ovr', n_jobs=1,\n",
       "          penalty='l2', random_state=None, solver='liblinear', tol=0.0001,\n",
       "          verbose=0, warm_start=False),\n",
       "       fit_params=None, iid=True, n_jobs=1,\n",
       "       param_grid={'C': [0.001, 0.01, 1, 10, 100]},\n",
       "       pre_dispatch='2*n_jobs', refit=True, return_train_score='warn',\n",
       "       scoring=None, verbose=0)"
      ]
     },
     "execution_count": 1033,
     "metadata": {},
     "output_type": "execute_result"
    }
   ],
   "source": [
    "# train the model\n",
    "logistic.fit(x_train_sm, y_train_sm)"
   ]
  },
  {
   "cell_type": "code",
   "execution_count": 1034,
   "metadata": {},
   "outputs": [
    {
     "name": "stdout",
     "output_type": "stream",
     "text": [
      "Best Parameter: {'C': 100}\n",
      "Best score: 0.707163142947\n"
     ]
    }
   ],
   "source": [
    "# print the best parameter and best score for the training dataset\n",
    "print(\"Best Parameter:\", logistic.best_params_)\n",
    "print(\"Best score:\",logistic.best_score_)"
   ]
  },
  {
   "cell_type": "code",
   "execution_count": 1045,
   "metadata": {},
   "outputs": [],
   "source": [
    "# prediction on the test data: y_pred_lr_clf \n",
    "y_pred_lr_clf = logistic.predict(x_test)"
   ]
  },
  {
   "cell_type": "markdown",
   "metadata": {},
   "source": [
    "### Model Evaluation - Logistic Regression"
   ]
  },
  {
   "cell_type": "code",
   "execution_count": 1075,
   "metadata": {},
   "outputs": [
    {
     "data": {
      "image/png": "[encoded data removed]",
      "text/plain": [
       "<matplotlib.figure.Figure at 0x1a165e0390>"
      ]
     },
     "metadata": {},
     "output_type": "display_data"
    }
   ],
   "source": [
    "# Plot PR and ROC curve. \n",
    "PR_And_ROC_Curve(logistic)"
   ]
  },
  {
   "cell_type": "code",
   "execution_count": 1047,
   "metadata": {},
   "outputs": [
    {
     "name": "stdout",
     "output_type": "stream",
     "text": [
      "The Confusion Matrix for LogisticRegression:\n",
      " [[7003 2504]\n",
      " [1854 3639]]\n"
     ]
    }
   ],
   "source": [
    "# confusion Matrix: cm_lr_clf\n",
    "cm_lr_clf = confusion_matrix(y_test, y_pred_lr_clf)\n",
    "print(\"The Confusion Matrix for LogisticRegression:\\n\",cm_lr_clf )"
   ]
  },
  {
   "cell_type": "code",
   "execution_count": 1048,
   "metadata": {},
   "outputs": [
    {
     "name": "stdout",
     "output_type": "stream",
     "text": [
      "             precision    recall  f1-score   support\n",
      "\n",
      "          0       0.79      0.74      0.76      9507\n",
      "          1       0.59      0.66      0.63      5493\n",
      "\n",
      "avg / total       0.72      0.71      0.71     15000\n",
      "\n"
     ]
    }
   ],
   "source": [
    "# print classification report\n",
    "print(classification_report(y_test, y_pred_lr_clf))"
   ]
  },
  {
   "cell_type": "code",
   "execution_count": 1049,
   "metadata": {},
   "outputs": [
    {
     "name": "stdout",
     "output_type": "stream",
     "text": [
      "The ROC AUC Sore: 0.768361498022\n"
     ]
    }
   ],
   "source": [
    "# print ROC AUC score for the model. \n",
    "roc_auc_lr_clf = roc_auc_score(y_test, logistic.decision_function(x_test))\n",
    "print(\"The ROC AUC Sore:\", roc_auc_lr_clf)"
   ]
  },
  {
   "cell_type": "code",
   "execution_count": 1050,
   "metadata": {},
   "outputs": [
    {
     "name": "stdout",
     "output_type": "stream",
     "text": [
      "Average Precision for LogisticRegression: 0.660503295552\n"
     ]
    }
   ],
   "source": [
    "# calculation of average precision value: ap_lr_clf\n",
    "ap_lr_clf = average_precision_score(y_test, logistic.decision_function(x_test))\n",
    "print(\"Average Precision for LogisticRegression:\", ap_lr_clf)"
   ]
  },
  {
   "cell_type": "code",
   "execution_count": 1051,
   "metadata": {},
   "outputs": [
    {
     "name": "stdout",
     "output_type": "stream",
     "text": [
      "The f1 score for the LosgisticRegression model: 0.625472671021\n"
     ]
    }
   ],
   "source": [
    "# Calculate the f1_score for the Linear model: f1_score_lr_clf# Calcula \n",
    "f1_score_lr_clf = f1_score(y_test, y_pred_lr_clf)\n",
    "print(\"The f1 score for the LosgisticRegression model:\", f1_score_lr_clf)"
   ]
  },
  {
   "cell_type": "markdown",
   "metadata": {},
   "source": [
    "### Random Forest ###\n",
    "A random forest is a meta estimator that fits a number of decision tree classifiers on various sub-samples of the dataset and use averaging to improve the predictive accuracy and control over-fitting. The sub-sample size is always the same as the original input sample size but the samples are drawn with replacement if bootstrap=True (default)."
   ]
  },
  {
   "cell_type": "code",
   "execution_count": 1052,
   "metadata": {},
   "outputs": [],
   "source": [
    "# define hyper-parameters for the random forest clasifier: param_grid\n",
    "param_grid = {'n_estimators': [5,10,100], 'max_depth':[5,10,20]}\n",
    "\n",
    "# model with GridSearchCV: lr_clf\n",
    "rf = GridSearchCV(RandomForestClassifier(),param_grid, cv=10)"
   ]
  },
  {
   "cell_type": "code",
   "execution_count": 1053,
   "metadata": {},
   "outputs": [
    {
     "data": {
      "text/plain": [
       "GridSearchCV(cv=10, error_score='raise',\n",
       "       estimator=RandomForestClassifier(bootstrap=True, class_weight=None, criterion='gini',\n",
       "            max_depth=None, max_features='auto', max_leaf_nodes=None,\n",
       "            min_impurity_decrease=0.0, min_impurity_split=None,\n",
       "            min_samples_leaf=1, min_samples_split=2,\n",
       "            min_weight_fraction_leaf=0.0, n_estimators=10, n_jobs=1,\n",
       "            oob_score=False, random_state=None, verbose=0,\n",
       "            warm_start=False),\n",
       "       fit_params=None, iid=True, n_jobs=1,\n",
       "       param_grid={'n_estimators': [5, 10, 100], 'max_depth': [5, 10, 20]},\n",
       "       pre_dispatch='2*n_jobs', refit=True, return_train_score='warn',\n",
       "       scoring=None, verbose=0)"
      ]
     },
     "execution_count": 1053,
     "metadata": {},
     "output_type": "execute_result"
    }
   ],
   "source": [
    "rf.fit(x_train_sm, y_train_sm)"
   ]
  },
  {
   "cell_type": "code",
   "execution_count": 1054,
   "metadata": {},
   "outputs": [
    {
     "name": "stdout",
     "output_type": "stream",
     "text": [
      "Best Parameters: {'max_depth': 20, 'n_estimators': 100}\n",
      "Best Score: 0.816097912816\n"
     ]
    }
   ],
   "source": [
    "# print out the best parameters and best score on training data\n",
    "print(\"Best Parameters:\",rf.best_params_)\n",
    "print(\"Best Score:\",rf.best_score_)"
   ]
  },
  {
   "cell_type": "code",
   "execution_count": 1055,
   "metadata": {},
   "outputs": [],
   "source": [
    "# prediction using the model on test data: y_pred_rf\n",
    "y_pred_rf = rf.predict(x_test)"
   ]
  },
  {
   "cell_type": "markdown",
   "metadata": {},
   "source": [
    "### Model Evaluation - Random Forest### "
   ]
  },
  {
   "cell_type": "code",
   "execution_count": 1076,
   "metadata": {},
   "outputs": [
    {
     "data": {
      "image/png": "[encoded data removed]",
      "text/plain": [
       "<matplotlib.figure.Figure at 0x1a210200f0>"
      ]
     },
     "metadata": {},
     "output_type": "display_data"
    }
   ],
   "source": [
    "# plot the PR and ROC curve for the random forest classifier\n",
    "PR_And_ROC_Curve2(rf)"
   ]
  },
  {
   "cell_type": "code",
   "execution_count": 1064,
   "metadata": {},
   "outputs": [
    {
     "name": "stdout",
     "output_type": "stream",
     "text": [
      "The confusion matrix for Random Forest:\n",
      " [[7757 1750]\n",
      " [1757 3736]]\n"
     ]
    }
   ],
   "source": [
    "# confusion Matrix for the random forest model\n",
    "cm_rf = confusion_matrix(y_test, y_pred_rf)\n",
    "print(\"The confusion matrix for Random Forest:\\n\", cm_rf)"
   ]
  },
  {
   "cell_type": "code",
   "execution_count": 1065,
   "metadata": {},
   "outputs": [
    {
     "name": "stdout",
     "output_type": "stream",
     "text": [
      "             precision    recall  f1-score   support\n",
      "\n",
      "          0       0.82      0.82      0.82      9507\n",
      "          1       0.68      0.68      0.68      5493\n",
      "\n",
      "avg / total       0.77      0.77      0.77     15000\n",
      "\n"
     ]
    }
   ],
   "source": [
    "# print classification report which has summary for precision, recall and f1 score.\n",
    "print(classification_report(y_test, y_pred_rf))"
   ]
  },
  {
   "cell_type": "code",
   "execution_count": 1066,
   "metadata": {},
   "outputs": [
    {
     "name": "stdout",
     "output_type": "stream",
     "text": [
      "The average precision score for RandomForest is: 0.758455450584\n"
     ]
    }
   ],
   "source": [
    "# calulate the average precision score for random forest: ap_rf\n",
    "ap_rf = average_precision_score(y_test, rf.predict_proba(x_test)[:,1])\n",
    "print(\"The average precision score for RandomForest is:\", ap_rf)"
   ]
  },
  {
   "cell_type": "code",
   "execution_count": 1067,
   "metadata": {},
   "outputs": [
    {
     "name": "stdout",
     "output_type": "stream",
     "text": [
      "The ROC AUC Sore: 0.837113534881\n"
     ]
    }
   ],
   "source": [
    "# print ROC AUC acore for the model.\n",
    "roc_auc_rf = roc_auc_score(y_test, rf.predict_proba(x_test)[:,1])\n",
    "print(\"The ROC AUC Sore:\", roc_auc_rf)"
   ]
  },
  {
   "cell_type": "code",
   "execution_count": 1068,
   "metadata": {},
   "outputs": [
    {
     "name": "stdout",
     "output_type": "stream",
     "text": [
      "The f1 score for the RandomForest model: 0.680572001093\n"
     ]
    }
   ],
   "source": [
    "f1_score_rf = f1_score(y_test, y_pred_rf)\n",
    "print(\"The f1 score for the RandomForest model:\", f1_score_rf)"
   ]
  },
  {
   "cell_type": "markdown",
   "metadata": {},
   "source": [
    "## Gradiant Boosting ##\n",
    "Gradient Tree Boosting or Gradient Boosted Regression Trees (GBRT) is a generalization of boosting to arbitrary differentiable loss functions. GBRT is an accurate and effective off-the-shelf procedure that can be used for both regression and classification problems. Gradient Tree Boosting models are used in a variety of areas including Web search ranking and ecology."
   ]
  },
  {
   "cell_type": "code",
   "execution_count": 1078,
   "metadata": {},
   "outputs": [],
   "source": [
    "# GridSearch for best hyper-parameters: gbc\n",
    "param_grid = {'n_estimators': [5,10,100], 'max_depth':[1,5,10], 'learning_rate': [0.1,1]}\n",
    "gbc = GridSearchCV(GradientBoostingClassifier(), param_grid, cv=5)"
   ]
  },
  {
   "cell_type": "code",
   "execution_count": 1079,
   "metadata": {},
   "outputs": [
    {
     "data": {
      "text/plain": [
       "GridSearchCV(cv=5, error_score='raise',\n",
       "       estimator=GradientBoostingClassifier(criterion='friedman_mse', init=None,\n",
       "              learning_rate=0.1, loss='deviance', max_depth=3,\n",
       "              max_features=None, max_leaf_nodes=None,\n",
       "              min_impurity_decrease=0.0, min_impurity_split=None,\n",
       "              min_samples_leaf=1, min_samples_split=2,\n",
       "              min_weight_fraction_leaf=0.0, n_estimators=100,\n",
       "              presort='auto', random_state=None, subsample=1.0, verbose=0,\n",
       "              warm_start=False),\n",
       "       fit_params=None, iid=True, n_jobs=1,\n",
       "       param_grid={'n_estimators': [5, 10, 100], 'max_depth': [1, 5, 10], 'learning_rate': [0.1, 1]},\n",
       "       pre_dispatch='2*n_jobs', refit=True, return_train_score='warn',\n",
       "       scoring=None, verbose=0)"
      ]
     },
     "execution_count": 1079,
     "metadata": {},
     "output_type": "execute_result"
    }
   ],
   "source": [
    "# train the model\n",
    "gbc.fit(x_train_sm, y_train_sm)"
   ]
  },
  {
   "cell_type": "code",
   "execution_count": 1080,
   "metadata": {},
   "outputs": [
    {
     "name": "stdout",
     "output_type": "stream",
     "text": [
      "Best Parameters: {'learning_rate': 0.1, 'max_depth': 10, 'n_estimators': 100}\n",
      "Best Score: 0.816481089122\n"
     ]
    }
   ],
   "source": [
    "# print out the best parameters and best score on training data\n",
    "print(\"Best Parameters:\",gbc.best_params_)\n",
    "print(\"Best Score:\",gbc.best_score_)"
   ]
  },
  {
   "cell_type": "code",
   "execution_count": 1081,
   "metadata": {},
   "outputs": [],
   "source": [
    "# prediction using the model on test data: y_pred_gbc\n",
    "y_pred_gbc = gbc.predict(x_test)"
   ]
  },
  {
   "cell_type": "markdown",
   "metadata": {},
   "source": [
    "### Model Evaluation - Gradient Boosting ### "
   ]
  },
  {
   "cell_type": "code",
   "execution_count": 1082,
   "metadata": {},
   "outputs": [
    {
     "data": {
      "image/png": "[encoded data removed]",
      "text/plain": [
       "<matplotlib.figure.Figure at 0x1a21e5cc18>"
      ]
     },
     "metadata": {},
     "output_type": "display_data"
    }
   ],
   "source": [
    "# plot the PR and ROC curve for the gradient boosting classifier\n",
    "PR_And_ROC_Curve2(gbc)"
   ]
  },
  {
   "cell_type": "code",
   "execution_count": 1084,
   "metadata": {},
   "outputs": [
    {
     "name": "stdout",
     "output_type": "stream",
     "text": [
      "The confusion matrix for Gradient Boosting:\n",
      " [[8070 1437]\n",
      " [1760 3733]]\n"
     ]
    }
   ],
   "source": [
    "# confusion Matrix for the random forest model: cm_gbc\n",
    "cm_gbc = confusion_matrix(y_test, y_pred_gbc)\n",
    "print(\"The confusion matrix for Gradient Boosting:\\n\", cm_gbc)"
   ]
  },
  {
   "cell_type": "code",
   "execution_count": 1085,
   "metadata": {},
   "outputs": [
    {
     "name": "stdout",
     "output_type": "stream",
     "text": [
      "             precision    recall  f1-score   support\n",
      "\n",
      "          0       0.82      0.85      0.83      9507\n",
      "          1       0.72      0.68      0.70      5493\n",
      "\n",
      "avg / total       0.78      0.79      0.79     15000\n",
      "\n"
     ]
    }
   ],
   "source": [
    "# print classification report which has summary for precision, recall and f1 score.\n",
    "print(classification_report(y_test, y_pred_gbc))"
   ]
  },
  {
   "cell_type": "code",
   "execution_count": 1086,
   "metadata": {},
   "outputs": [
    {
     "name": "stdout",
     "output_type": "stream",
     "text": [
      "The average precision score for gradient boosting is: 0.777692031004\n"
     ]
    }
   ],
   "source": [
    "# calulate the average precision score for gradient boosting: ap_gbc\n",
    "ap_gbc = average_precision_score(y_test, gbc.predict_proba(x_test)[:,1])\n",
    "print(\"The average precision score for gradient boosting is:\", ap_gbc)"
   ]
  },
  {
   "cell_type": "code",
   "execution_count": 1087,
   "metadata": {},
   "outputs": [
    {
     "name": "stdout",
     "output_type": "stream",
     "text": [
      "The ROC AUC Sore: 0.852056446531\n"
     ]
    }
   ],
   "source": [
    "# print ROC AUC acore for the model: roc_auc_gbc\n",
    "roc_auc_gbc = roc_auc_score(y_test, gbc.predict_proba(x_test)[:,1])\n",
    "print(\"The ROC AUC Sore:\", roc_auc_gbc)"
   ]
  },
  {
   "cell_type": "code",
   "execution_count": 1088,
   "metadata": {},
   "outputs": [
    {
     "name": "stdout",
     "output_type": "stream",
     "text": [
      "The f1 score for the GradientBoosting model: 0.700178186252\n"
     ]
    }
   ],
   "source": [
    "# print F1 score of gradient boosting: f1_score_gbc\n",
    "f1_score_gbc = f1_score(y_test, y_pred_gbc)\n",
    "print(\"The f1 score for the GradientBoosting model:\", f1_score_gbc)"
   ]
  },
  {
   "cell_type": "markdown",
   "metadata": {},
   "source": [
    "From the above modeling and evaluation of all the models, we can conclude that **Gradient Boosting** classifier has outperformed all other models convincingly. All the performance metrics has produced the best score for gradient boosting.<br>\n",
    "**Confusion Matrix:** model was able to predict about **78%** of the classes correctly.<br>\n",
    "**PR and ROC Curve:** model's curve are much smoother than other models. Also the ROC Curve is much closer to top left corner, means more area under the curve (AUC).<br>\n",
    "Similarly other scores like **ROC AUC**, **average precision** and **F1** are better than other models.\n",
    "\n",
    "Hence we should use this model for predicting if the users will be retained or not as a valuable customer of Ultimate Inc."
   ]
  },
  {
   "cell_type": "code",
   "execution_count": 1093,
   "metadata": {},
   "outputs": [],
   "source": [
    "# features and their importance: feature_imp\n",
    "feature_imp = gbc.best_estimator_.feature_importances_"
   ]
  },
  {
   "cell_type": "code",
   "execution_count": 1098,
   "metadata": {},
   "outputs": [
    {
     "data": {
      "image/png": "[encoded data removed]",
      "text/plain": [
       "<matplotlib.figure.Figure at 0x1a2381fac8>"
      ]
     },
     "metadata": {},
     "output_type": "display_data"
    }
   ],
   "source": [
    "# Plot feature importance bar graph for better visualization.\n",
    "n_features = x_train_sm.shape[1]\n",
    "feature_names = X_features.columns\n",
    "plt.figure(figsize=(15, 11))\n",
    "plt.barh(range(n_features), feature_imp)\n",
    "plt.yticks(np.arange(n_features), feature_names, fontsize='large')\n",
    "plt.ylabel('Features', fontsize='large')\n",
    "plt.xlabel('Importance', fontsize='large')\n",
    "plt.ylim(-1, n_features)\n",
    "plt.title(\"Feature Importance\", fontsize=18)\n",
    "plt.show()"
   ]
  },
  {
   "cell_type": "markdown",
   "metadata": {},
   "source": [
    "As we can see that 5 top feature contributing to the prediction are **avg_dist, avg_rating_by_driver, weekday_pct, avg_rating_of_driver** and **trip_in_first_30_days**."
   ]
  },
  {
   "cell_type": "markdown",
   "metadata": {},
   "source": [
    "### Conclusion ###\n",
    "* From this model Gradient Boosting, Ultimate Inc. can focus on at least top 5 features contributing to the prediction. For example if an user is active in the first 30 days can be given some offer or rebate on next ride.\n",
    "* As mentioned in EDA part that the city of King's Landing is good opportunity to increase the number of users by bringing some discount to the city, keep in mind the retention of city is very high compared to the other cities, so once a user signup in King's Landing there is more than **60%** chance that he will be retained.\n"
   ]
  },
  {
   "cell_type": "code",
   "execution_count": null,
   "metadata": {},
   "outputs": [],
   "source": []
  }
 ],
 "metadata": {
  "kernelspec": {
   "display_name": "Python 3",
   "language": "python",
   "name": "python3"
  },
  "language_info": {
   "codemirror_mode": {
    "name": "ipython",
    "version": 3
   },
   "file_extension": ".py",
   "mimetype": "text/x-python",
   "name": "python",
   "nbconvert_exporter": "python",
   "pygments_lexer": "ipython3",
   "version": "3.6.1"
  }
 },
 "nbformat": 4,
 "nbformat_minor": 2
}
