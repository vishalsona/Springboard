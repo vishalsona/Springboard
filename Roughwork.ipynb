{
 "cells": [
  {
   "cell_type": "markdown",
   "metadata": {},
   "source": [
    "# What is the True Normal Human Body Temperature? \n",
    "\n",
    "#### Background\n",
    "\n",
    "The mean normal body temperature was held to be 37$^{\\circ}$C or 98.6$^{\\circ}$F for more than 120 years since it was first conceptualized and reported by Carl Wunderlich in a famous 1868 book. But, is this value statistically correct?"
   ]
  },
  {
   "cell_type": "markdown",
   "metadata": {},
   "source": [
    "<div class=\"span5 alert alert-info\">\n",
    "<h3>Exercises</h3>\n",
    "\n",
    "<p>In this exercise, you will analyze a dataset of human body temperatures and employ the concepts of hypothesis testing, confidence intervals, and statistical significance.</p>\n",
    "\n",
    "<p>Answer the following questions <b>in this notebook below and submit to your Github account</b>.</p> \n",
    "\n",
    "<ol>\n",
    "<li>  Is the distribution of body temperatures normal? \n",
    "    <ul>\n",
    "    <li> Although this is not a requirement for CLT to hold (read CLT carefully), it gives us some peace of mind that the population may also be normally distributed if we assume that this sample is representative of the population.\n",
    "    </ul>\n",
    "<li>  Is the sample size large? Are the observations independent?\n",
    "    <ul>\n",
    "    <li> Remember that this is a condition for the CLT, and hence the statistical tests we are using, to apply.\n",
    "    </ul>\n",
    "<li>  Is the true population mean really 98.6 degrees F?\n",
    "    <ul>\n",
    "    <li> Would you use a one-sample or two-sample test? Why?\n",
    "    <li> In this situation, is it appropriate to use the $t$ or $z$ statistic? \n",
    "    <li> Now try using the other test. How is the result be different? Why?\n",
    "    </ul>\n",
    "<li>  At what temperature should we consider someone's temperature to be \"abnormal\"?\n",
    "    <ul>\n",
    "    <li> Start by computing the margin of error and confidence interval.\n",
    "    </ul>\n",
    "<li>  Is there a significant difference between males and females in normal temperature?\n",
    "    <ul>\n",
    "    <li> What test did you use and why?\n",
    "    <li> Write a story with your conclusion in the context of the original problem.\n",
    "    </ul>\n",
    "</ol>\n",
    "\n",
    "You can include written notes in notebook cells using Markdown: \n",
    "   - In the control panel at the top, choose Cell > Cell Type > Markdown\n",
    "   - Markdown syntax: http://nestacms.com/docs/creating-content/markdown-cheat-sheet\n",
    "\n",
    "#### Resources\n",
    "\n",
    "+ Information and data sources: http://www.amstat.org/publications/jse/datasets/normtemp.txt, http://www.amstat.org/publications/jse/jse_data_archive.htm\n",
    "+ Markdown syntax: http://nestacms.com/docs/creating-content/markdown-cheat-sheet\n",
    "\n",
    "****\n",
    "</div>"
   ]
  },
  {
   "cell_type": "code",
   "execution_count": 1,
   "metadata": {
    "collapsed": true
   },
   "outputs": [],
   "source": [
    "import pandas as pd\n",
    "\n",
    "df = pd.read_csv('data/human_body_temperature.csv')"
   ]
  },
  {
   "cell_type": "markdown",
   "metadata": {},
   "source": [
    "### 1) Is the distribution of body temperatures normal? ###"
   ]
  },
  {
   "cell_type": "code",
   "execution_count": 4,
   "metadata": {},
   "outputs": [
    {
     "data": {
      "text/html": [
       "<div>\n",
       "<style>\n",
       "    .dataframe thead tr:only-child th {\n",
       "        text-align: right;\n",
       "    }\n",
       "\n",
       "    .dataframe thead th {\n",
       "        text-align: left;\n",
       "    }\n",
       "\n",
       "    .dataframe tbody tr th {\n",
       "        vertical-align: top;\n",
       "    }\n",
       "</style>\n",
       "<table border=\"1\" class=\"dataframe\">\n",
       "  <thead>\n",
       "    <tr style=\"text-align: right;\">\n",
       "      <th></th>\n",
       "      <th>temperature</th>\n",
       "      <th>gender</th>\n",
       "      <th>heart_rate</th>\n",
       "    </tr>\n",
       "  </thead>\n",
       "  <tbody>\n",
       "    <tr>\n",
       "      <th>0</th>\n",
       "      <td>99.3</td>\n",
       "      <td>F</td>\n",
       "      <td>68.0</td>\n",
       "    </tr>\n",
       "    <tr>\n",
       "      <th>1</th>\n",
       "      <td>98.4</td>\n",
       "      <td>F</td>\n",
       "      <td>81.0</td>\n",
       "    </tr>\n",
       "    <tr>\n",
       "      <th>2</th>\n",
       "      <td>97.8</td>\n",
       "      <td>M</td>\n",
       "      <td>73.0</td>\n",
       "    </tr>\n",
       "    <tr>\n",
       "      <th>3</th>\n",
       "      <td>99.2</td>\n",
       "      <td>F</td>\n",
       "      <td>66.0</td>\n",
       "    </tr>\n",
       "    <tr>\n",
       "      <th>4</th>\n",
       "      <td>98.0</td>\n",
       "      <td>F</td>\n",
       "      <td>73.0</td>\n",
       "    </tr>\n",
       "  </tbody>\n",
       "</table>\n",
       "</div>"
      ],
      "text/plain": [
       "   temperature gender  heart_rate\n",
       "0         99.3      F        68.0\n",
       "1         98.4      F        81.0\n",
       "2         97.8      M        73.0\n",
       "3         99.2      F        66.0\n",
       "4         98.0      F        73.0"
      ]
     },
     "execution_count": 4,
     "metadata": {},
     "output_type": "execute_result"
    }
   ],
   "source": [
    "# check how the data looks like\n",
    "df.head()"
   ]
  },
  {
   "cell_type": "code",
   "execution_count": 5,
   "metadata": {},
   "outputs": [
    {
     "data": {
      "text/plain": [
       "(130, 3)"
      ]
     },
     "execution_count": 5,
     "metadata": {},
     "output_type": "execute_result"
    }
   ],
   "source": [
    "# shape of dataframe to know the number of rows and columns.\n",
    "df.shape"
   ]
  },
  {
   "cell_type": "code",
   "execution_count": 37,
   "metadata": {},
   "outputs": [
    {
     "data": {
      "text/plain": [
       "count    130.000000\n",
       "mean      98.249231\n",
       "std        0.733183\n",
       "min       96.300000\n",
       "25%       97.800000\n",
       "50%       98.300000\n",
       "75%       98.700000\n",
       "max      100.800000\n",
       "Name: temperature, dtype: float64"
      ]
     },
     "execution_count": 37,
     "metadata": {},
     "output_type": "execute_result"
    }
   ],
   "source": [
    "# lets have the temperature column in an array  (bt_array)\n",
    "bt_array = df['temperature']\n",
    "bt_array.describe()"
   ]
  },
  {
   "cell_type": "code",
   "execution_count": 95,
   "metadata": {},
   "outputs": [],
   "source": [
    "import matplotlib.pyplot as plt\n",
    "import seaborn as sns\n",
    "import numpy as np\n",
    "import scipy.stats as st\n",
    "import pylab\n",
    "%matplotlib inline"
   ]
  },
  {
   "cell_type": "code",
   "execution_count": 73,
   "metadata": {},
   "outputs": [],
   "source": [
    "# calculating lenth of the array(dataset): n_data\n",
    "n_data = len(bt_array)\n",
    "\n",
    "# calculating ideal number of bins in the histogram: n_bin\n",
    "n_bin = np.sqrt(n_data)\n",
    "n_bin = int(n_bin)"
   ]
  },
  {
   "cell_type": "code",
   "execution_count": 41,
   "metadata": {},
   "outputs": [
    {
     "data": {
      "image/png": "[encoded data removed]",
      "text/plain": [
       "<matplotlib.figure.Figure at 0x114836630>"
      ]
     },
     "metadata": {},
     "output_type": "display_data"
    }
   ],
   "source": [
    "#plot histagram to check for the normal distribution.\n",
    "sns.set()\n",
    "_ = plt.hist(df['temperature'], bins=n_bin)\n",
    "_ = plt.xlabel('Body Temperature in Farenhite')\n",
    "_ = plt.ylabel('Frequency of Temperatures')\n",
    "plt.show()"
   ]
  },
  {
   "cell_type": "markdown",
   "metadata": {},
   "source": [
    "The above histogram looks very close to bell curve to suggest the normal distribution little bit right skwed. But let's try to plot probability desity fuction(PDF) to find if the data is normal distribution."
   ]
  },
  {
   "cell_type": "code",
   "execution_count": 42,
   "metadata": {},
   "outputs": [],
   "source": [
    "# first create a function ecdf(), comulative distribution function.\n",
    "def ecdf(data):\n",
    "    \"\"\"Compute ECDF for a one-dimensional array of measurements.\"\"\"\n",
    "    n=len(data)\n",
    "    x=np.sort(data)\n",
    "    y=np.arange(1, n+1)/n\n",
    "    return x, y\n"
   ]
  },
  {
   "cell_type": "code",
   "execution_count": 43,
   "metadata": {},
   "outputs": [],
   "source": [
    "# Checking normality of body temperature data.\n",
    "\n",
    "# calculating the mean and standard deviation from the data.\n",
    "mean = np.mean(bt_array)\n",
    "std = np.std(bt_array)\n",
    "\n",
    "# getting theoratical data in sample\n",
    "sample = np.random.normal(mean, std, size=130) \n",
    "\n",
    "# x and y values from original the data set\n",
    "x, y = ecdf(bt_array)\n",
    "\n",
    "# x_theor, y_theor values from the sample data set\n",
    "x_theor, y_theor = ecdf(sample)"
   ]
  },
  {
   "cell_type": "code",
   "execution_count": 48,
   "metadata": {},
   "outputs": [
    {
     "data": {
      "image/png": "[encoded data removed]",
      "text/plain": [
       "<matplotlib.figure.Figure at 0x1153965c0>"
      ]
     },
     "metadata": {},
     "output_type": "display_data"
    }
   ],
   "source": [
    "# plot theor and original data in the same plot.\n",
    "sns.set()\n",
    "_=plt.plot(x_theor, y_theor)\n",
    "_=plt.plot(x, y, marker='.', linestyle = 'none')\n",
    "_=plt.xlabel('Body Temperature')\n",
    "_=plt.ylabel('CDF')\n",
    "plt.show()"
   ]
  },
  {
   "cell_type": "markdown",
   "metadata": {},
   "source": [
    "The CDF of body temperature follows the theoritcal normal distribution hence we can say that \"the distribution of body temperatures is normal.\" "
   ]
  },
  {
   "cell_type": "markdown",
   "metadata": {},
   "source": [
    "### 2) Is the sample size large? Are the observations independent? ###"
   ]
  },
  {
   "cell_type": "markdown",
   "metadata": {},
   "source": [
    "##### CLT Assumptions and Conditions #####\n",
    "\n",
    "To use the normal model, we must meet some assumptions and conditions. The Central Limit Theorem assumes the following:\n",
    "\n",
    "__Randomization Condition:__ The data must be sampled randomly.\n",
    "\n",
    "__Independence Assumption:__ The sample values must be independent of each other. This means that the occurrence of one event has no influence on the next event. Usually, if we know that people or items were selected randomly we can assume that the independence assumption is met.\n",
    "\n",
    "__10% Condition:__ When the sample is drawn without replacement (usually the case), the sample size, n, should be no more than 10% of the population.\n",
    "\n",
    "__Sample Size Assumption:__ The sample size must be sufficiently large. Although the Central Limit Theorem tells us that we can use a Normal model to think about the behavior of sample means when the sample size is large enough, it does not tell us how large that should be. If the population is very skewed, you will need a pretty large sample size to use the CLT, however if the population is unimodal and symmetric, even small samples are acceptable. So think about your sample size in terms of what you know about the population and decide whether the sample is large enough. In general a sample size of 30 is considered sufficient if the sample is unimodal (and meets the 10% condition)\n",
    "\n",
    "__Conclusion:__ since we have __130__ observations in the sample. We can say that our sample size is __large and independent.__ \n"
   ]
  },
  {
   "cell_type": "markdown",
   "metadata": {},
   "source": [
    "### 3) Is the true population mean really 98.6 degrees F? ###\n",
    "1. Would you use a one-sample or two-sample test? Why?\n",
    "\n",
    "2. In this situation, is it appropriate to use the  t  or  z  statistic?\n",
    "\n",
    "3. Now try using the other test. How is the result be different? Why?"
   ]
  },
  {
   "cell_type": "markdown",
   "metadata": {},
   "source": [
    "__3.1)Solution:__ I will use one sample test as we have do not have the data set for 98.6 degree F.\n",
    "\n",
    "__Hypothesis:__ The true population mean is 98.6 degree F.\n"
   ]
  },
  {
   "cell_type": "code",
   "execution_count": 90,
   "metadata": {},
   "outputs": [],
   "source": [
    "# Lets do test statistics to calculate the p-value.\n",
    "\n",
    "# define a function to create 1d bootstrap sample array.\n",
    "def bootstrap_replicate_1d(data, func):\n",
    "    return func(np.random.choice(data, size=len(data)))\n"
   ]
  },
  {
   "cell_type": "code",
   "execution_count": 64,
   "metadata": {},
   "outputs": [],
   "source": [
    "# define another function to get the bootstrap sample for the desired number of times.\n",
    "def draw_bs_reps(data, func, size=1):\n",
    "    \"\"\"Draw bootstrap replicates.\"\"\"\n",
    "\n",
    "    # Initialize array of replicates: bs_replicates\n",
    "    bs_replicates = np.empty(size)\n",
    "\n",
    "    # Generate replicates\n",
    "    for i in range(size):\n",
    "        bs_replicates[i] = bootstrap_replicate_1d(data, func)\n",
    "\n",
    "    return bs_replicates"
   ]
  },
  {
   "cell_type": "code",
   "execution_count": 68,
   "metadata": {},
   "outputs": [],
   "source": [
    "# Define another function to computer the difference of means\n",
    "def diff_mean(data, given_mean=98.6):\n",
    "    return np.mean(data) - given_mean"
   ]
  },
  {
   "cell_type": "code",
   "execution_count": 92,
   "metadata": {},
   "outputs": [
    {
     "name": "stdout",
     "output_type": "stream",
     "text": [
      "p =  0.0\n"
     ]
    }
   ],
   "source": [
    "# Make an array of translated body temperature: translated_bt_array\n",
    "translated_bt_array = bt_array - np.mean(bt_array) + 98.6\n",
    "\n",
    "# Calculating difference of mean\n",
    "mean_diff = diff_mean(bt_array)\n",
    "\n",
    "# Take bootstrap replicates of translated body temeperature: bs_replicates\n",
    "bs_replicates = draw_bs_reps(translated_bt_array, diff_mean, 130)\n",
    "\n",
    "# Compute fraction of replicates that are less than the observed body temperature: p\n",
    "p = np.sum(bs_replicates <= mean_diff) / 130\n",
    "\n",
    "# Print the p-value\n",
    "print('p = ', p)"
   ]
  },
  {
   "cell_type": "markdown",
   "metadata": {},
   "source": [
    "__The null hypothesis is not true.__\n",
    "\n",
    "Now will try other method to compute the p value to find out if there is any difference in my obeservation. "
   ]
  },
  {
   "cell_type": "code",
   "execution_count": 88,
   "metadata": {},
   "outputs": [
    {
     "name": "stdout",
     "output_type": "stream",
     "text": [
      "[ 98.12396154  98.35725   ]\n"
     ]
    }
   ],
   "source": [
    "# calculate bootstrap replicates of the given dataset: bs_repl\n",
    "bs_repl = draw_bs_reps(bt_array, np.mean, 130)\n",
    "\n",
    "# compute the 95% confidence interval: confd_intrvl\n",
    "confd_intrvl = np.percentile(bs_repl, [2.5, 97.5])\n",
    "print(confd_intrvl)\n"
   ]
  },
  {
   "cell_type": "markdown",
   "metadata": {},
   "source": [
    "The confidence interval above does not include the value 98.6 degree F. Hence the true mean of the population can't be 98.6 degree F."
   ]
  },
  {
   "cell_type": "code",
   "execution_count": 96,
   "metadata": {},
   "outputs": [
    {
     "data": {
      "image/png": "[encoded data removed]",
      "text/plain": [
       "<matplotlib.figure.Figure at 0x1156b5b00>"
      ]
     },
     "metadata": {},
     "output_type": "display_data"
    }
   ],
   "source": [
    "# plot histogram of the bootstrap replicates\n",
    "_=plt.hist(bs_repl, bins = 10, normed=True)\n",
    "_=plt.xlabel('Body Temperature')\n",
    "_=plt.ylabel('PDF')\n",
    "plt.show()"
   ]
  },
  {
   "cell_type": "code",
   "execution_count": 89,
   "metadata": {},
   "outputs": [
    {
     "name": "stdout",
     "output_type": "stream",
     "text": [
      "The mean of sample data is:  98.24923076923078\n",
      "The standard deviation of sample data is:  0.7303577789050377\n",
      "SE:  0.0640566146952\n",
      "z-value:  -5.47592520208\n",
      "Ttest_1sampResult(statistic=-5.4548232923645195, pvalue=2.4106320415561276e-07)\n"
     ]
    }
   ],
   "source": [
    "# we already have calulated the mean and satandard deviation of sample above.\n",
    "#Just printing the values.\n",
    "print ('The mean of sample data is: ', mean)\n",
    "print ('The standard deviation of sample data is: ', std)\n",
    "\n",
    "# will calculate SE(standard error). using formula SE = std / sqrt(n_data).: SE\n",
    "# we have already calculated the lenght of array in valriable n_data which is 130.\n",
    "SE = std/np.sqrt(n_data)\n",
    "print(\"SE: \", SE)\n",
    "\n",
    "# will calculate the z value now.: z\n",
    "z=(mean-98.6)/SE\n",
    "print(\"z-value: \",z)\n",
    "\n",
    "# p-value calculation: p_value\n",
    "p_value = st.ttest_1samp(bt_array, popmean = 98.6)\n",
    "print(p_value)"
   ]
  },
  {
   "cell_type": "markdown",
   "metadata": {},
   "source": [
    "__Conclusion:__ Since p-value is very small the null hypothsis is rejected.\n",
    "\n",
    "We can say that the true population mean is not 98.6 degree F."
   ]
  },
  {
   "cell_type": "markdown",
   "metadata": {},
   "source": [
    "__3.2)Ans__ : In this situation z statistic would be used as the sample size is more than 30. i.e. 130. We use t-test when we have sample size of 30 or less than 30."
   ]
  },
  {
   "cell_type": "markdown",
   "metadata": {},
   "source": [
    "__3.3)Solution:__ we have perform other t test on the sample dataset and have a very small p value. Both the calculation imply the same thing but the p value is different. This may have happen becuase stat.ttest calculated the t and p value of the original dataset, whereas the first calculation was performed manually on bootstrap dataset."
   ]
  },
  {
   "cell_type": "markdown",
   "metadata": {},
   "source": [
    "### 4)At what temperature should we consider someone's temperature to be \"abnormal\"? ###\n",
    "**Hint:** Start by computing the margin of error and confidence interval."
   ]
  },
  {
   "cell_type": "code",
   "execution_count": 98,
   "metadata": {},
   "outputs": [
    {
     "name": "stdout",
     "output_type": "stream",
     "text": [
      "[ 98.09848077  98.39355769]\n"
     ]
    }
   ],
   "source": [
    "# calculate bootstrap replicates of the given dataset: bs_repl\n",
    "bs_repl = draw_bs_reps(bt_array, np.mean, 130)\n",
    "\n",
    "# compute the 95% confidence interval: confd_intrvl\n",
    "confd_intrvl = np.percentile(bs_repl, [2.5, 97.5])\n",
    "print(confd_intrvl)\n"
   ]
  },
  {
   "cell_type": "markdown",
   "metadata": {},
   "source": [
    "AS per above Confidence interval calculation temperature < 98.09 and > 98.39 degree F should be considered as abnormal."
   ]
  },
  {
   "cell_type": "markdown",
   "metadata": {},
   "source": [
    "### 5)Is there a significant difference between males and females in normal temperature? ###"
   ]
  },
  {
   "cell_type": "markdown",
   "metadata": {},
   "source": [
    "__5)Solution:__ We will do two sample test which have the same mean impact body temperature(hypothesis), but not necessarily the same distribution.\n",
    "\n",
    "To do the two-sample bootstrap test, we shift both arrays to have the same mean in our case it is mean of the bt_array. \n",
    "\n",
    "_Since we are simulating the hypothesis that their means are, in fact, equal._\n",
    "\n",
    "We then draw bootstrap samples out of the shifted arrays and compute the difference in means. This constitutes a bootstrap replicate, and we generate many of them. The p-value is the fraction of replicates with a difference in means greater than or equal to what was observed."
   ]
  },
  {
   "cell_type": "code",
   "execution_count": 104,
   "metadata": {},
   "outputs": [
    {
     "data": {
      "text/plain": [
       "count    65.000000\n",
       "mean     98.104615\n",
       "std       0.698756\n",
       "min      96.300000\n",
       "25%      97.600000\n",
       "50%      98.100000\n",
       "75%      98.600000\n",
       "max      99.500000\n",
       "Name: temperature, dtype: float64"
      ]
     },
     "execution_count": 104,
     "metadata": {},
     "output_type": "execute_result"
    }
   ],
   "source": [
    "# compute the body temperature of all the males in the given dataset: bt_array_m\n",
    "bt_array_m = df.temperature[df.gender == 'M']\n",
    "\n",
    "# checking the information of all the dataset.\n",
    "bt_array_m.describe()"
   ]
  },
  {
   "cell_type": "code",
   "execution_count": 109,
   "metadata": {},
   "outputs": [
    {
     "data": {
      "text/plain": [
       "count     65.000000\n",
       "mean      98.393846\n",
       "std        0.743488\n",
       "min       96.400000\n",
       "25%       98.000000\n",
       "50%       98.400000\n",
       "75%       98.800000\n",
       "max      100.800000\n",
       "Name: temperature, dtype: float64"
      ]
     },
     "execution_count": 109,
     "metadata": {},
     "output_type": "execute_result"
    }
   ],
   "source": [
    "# store the body temperature of all the females in the given dataset: bt_array_f\n",
    "bt_array_f = df.temperature[df.gender == 'F']\n",
    "\n",
    "# checking the information of all the dataset.\n",
    "bt_array_f.describe()"
   ]
  },
  {
   "cell_type": "code",
   "execution_count": 99,
   "metadata": {},
   "outputs": [],
   "source": [
    "def diff_of_means(data_1, data_2):\n",
    "    \"\"\"Difference in means of two arrays.\"\"\"\n",
    "\n",
    "    # The difference of means of data_1, data_2: diff\n",
    "    diff = np.mean(data_1) - np.mean(data_2)\n",
    "\n",
    "    return diff"
   ]
  },
  {
   "cell_type": "code",
   "execution_count": 107,
   "metadata": {},
   "outputs": [
    {
     "name": "stdout",
     "output_type": "stream",
     "text": [
      "0.289230769230727\n"
     ]
    }
   ],
   "source": [
    "# calculation of difference of means of male and female body temperature: bt_mean_diff\n",
    "bt_mean_diff = diff_of_means(bt_array_f, bt_array_m)\n",
    "print(bt_mean_diff)"
   ]
  },
  {
   "cell_type": "code",
   "execution_count": 110,
   "metadata": {},
   "outputs": [
    {
     "name": "stdout",
     "output_type": "stream",
     "text": [
      "The mean of bt_array is:  98.24923076923078\n",
      "p-value = 0.0307692307692\n"
     ]
    }
   ],
   "source": [
    "# Compute mean of entire sample, which is stored in variable mean.\n",
    "print(\"The mean of bt_array is: \", mean)\n",
    "\n",
    "# calculation of difference of means of male and female body temperature: bt_mean_diff\n",
    "bt_mean_diff = diff_of_means(bt_array_f, bt_array_m)\n",
    "\n",
    "# Generate shifted arrays\n",
    "bt_array_m_shifted = bt_array_m - np.mean(bt_array_m) + mean\n",
    "bt_array_f_shifted = bt_array_f - np.mean(bt_array_f) + mean \n",
    "\n",
    "# Compute 65 bootstrap replicates from shifted arrays\n",
    "bs_replicates_m = draw_bs_reps(bt_array_m_shifted, np.mean, 65)\n",
    "bs_replicates_f = draw_bs_reps(bt_array_f_shifted, np.mean, 65)\n",
    "\n",
    "# Get replicates of difference of means: bs_replicates\n",
    "bs_replicates = bs_replicates_f - bs_replicates_m\n",
    "\n",
    "# Compute and print p-value: p\n",
    "p = np.sum(bs_replicates >= bt_mean_diff) / len(bs_replicates)\n",
    "print('p-value =', p)\n"
   ]
  },
  {
   "cell_type": "markdown",
   "metadata": {},
   "source": [
    "Since the p value is very small we can say that there is no significant difference in the body temperature of male and  females."
   ]
  },
  {
   "cell_type": "code",
   "execution_count": 112,
   "metadata": {},
   "outputs": [
    {
     "name": "stdout",
     "output_type": "stream",
     "text": [
      "Ttest_indResult(statistic=2.2854345381656112, pvalue=0.023938264182934196)\n"
     ]
    }
   ],
   "source": [
    "from scipy.stats import ttest_ind\n",
    "print(ttest_ind( bt_array_f, bt_array_m, equal_var = False))"
   ]
  },
  {
   "cell_type": "markdown",
   "metadata": {},
   "source": [
    "Can we test with pearson correlation test."
   ]
  }
 ],
 "metadata": {
  "kernelspec": {
   "display_name": "Python 3",
   "language": "python",
   "name": "python3"
  },
  "language_info": {
   "codemirror_mode": {
    "name": "ipython",
    "version": 3
   },
   "file_extension": ".py",
   "mimetype": "text/x-python",
   "name": "python",
   "nbconvert_exporter": "python",
   "pygments_lexer": "ipython3",
   "version": "3.6.1"
  }
 },
 "nbformat": 4,
 "nbformat_minor": 2
}
