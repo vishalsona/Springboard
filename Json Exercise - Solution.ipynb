{
 "cells": [
  {
   "cell_type": "markdown",
   "metadata": {},
   "source": [
    "****\n",
    "## JSON exercise - Solution\n",
    "__By Vishal Kumar__\n",
    "\n",
    "Using data in file 'data/world_bank_projects.json' and the techniques demonstrated above,\n",
    "1. Find the 10 countries with most projects\n",
    "2. Find the top 10 major project themes (using column 'mjtheme_namecode')\n",
    "3. In 2. above you will notice that some entries have only the code and the name is missing. Create a dataframe with the missing names filled in."
   ]
  },
  {
   "cell_type": "markdown",
   "metadata": {},
   "source": [
    "### 1. Find the 10 countries with most projects ####"
   ]
  },
  {
   "cell_type": "code",
   "execution_count": 1,
   "metadata": {
    "collapsed": true
   },
   "outputs": [],
   "source": [
    "import json\n",
    "import pandas as pd\n",
    "from pandas.io.json import json_normalize"
   ]
  },
  {
   "cell_type": "code",
   "execution_count": 2,
   "metadata": {
    "collapsed": true
   },
   "outputs": [],
   "source": [
    "#creating dataframe using the json file provided\n",
    "df=pd.read_json('data/world_bank_projects.json', orient='columns')"
   ]
  },
  {
   "cell_type": "code",
   "execution_count": 3,
   "metadata": {},
   "outputs": [
    {
     "data": {
      "text/html": [
       "<div>\n",
       "<style>\n",
       "    .dataframe thead tr:only-child th {\n",
       "        text-align: right;\n",
       "    }\n",
       "\n",
       "    .dataframe thead th {\n",
       "        text-align: left;\n",
       "    }\n",
       "\n",
       "    .dataframe tbody tr th {\n",
       "        vertical-align: top;\n",
       "    }\n",
       "</style>\n",
       "<table border=\"1\" class=\"dataframe\">\n",
       "  <thead>\n",
       "    <tr style=\"text-align: right;\">\n",
       "      <th></th>\n",
       "      <th>_id</th>\n",
       "      <th>approvalfy</th>\n",
       "      <th>board_approval_month</th>\n",
       "      <th>boardapprovaldate</th>\n",
       "      <th>borrower</th>\n",
       "      <th>closingdate</th>\n",
       "      <th>country_namecode</th>\n",
       "      <th>countrycode</th>\n",
       "      <th>countryname</th>\n",
       "      <th>countryshortname</th>\n",
       "      <th>...</th>\n",
       "      <th>sectorcode</th>\n",
       "      <th>source</th>\n",
       "      <th>status</th>\n",
       "      <th>supplementprojectflg</th>\n",
       "      <th>theme1</th>\n",
       "      <th>theme_namecode</th>\n",
       "      <th>themecode</th>\n",
       "      <th>totalamt</th>\n",
       "      <th>totalcommamt</th>\n",
       "      <th>url</th>\n",
       "    </tr>\n",
       "  </thead>\n",
       "  <tbody>\n",
       "    <tr>\n",
       "      <th>0</th>\n",
       "      <td>{'$oid': '52b213b38594d8a2be17c780'}</td>\n",
       "      <td>1999</td>\n",
       "      <td>November</td>\n",
       "      <td>2013-11-12T00:00:00Z</td>\n",
       "      <td>FEDERAL DEMOCRATIC REPUBLIC OF ETHIOPIA</td>\n",
       "      <td>2018-07-07T00:00:00Z</td>\n",
       "      <td>Federal Democratic Republic of Ethiopia!$!ET</td>\n",
       "      <td>ET</td>\n",
       "      <td>Federal Democratic Republic of Ethiopia</td>\n",
       "      <td>Ethiopia</td>\n",
       "      <td>...</td>\n",
       "      <td>ET,BS,ES,EP</td>\n",
       "      <td>IBRD</td>\n",
       "      <td>Active</td>\n",
       "      <td>N</td>\n",
       "      <td>{'Percent': 100, 'Name': 'Education for all'}</td>\n",
       "      <td>[{'code': '65', 'name': 'Education for all'}]</td>\n",
       "      <td>65</td>\n",
       "      <td>130000000</td>\n",
       "      <td>130000000</td>\n",
       "      <td>http://www.worldbank.org/projects/P129828/ethi...</td>\n",
       "    </tr>\n",
       "    <tr>\n",
       "      <th>1</th>\n",
       "      <td>{'$oid': '52b213b38594d8a2be17c781'}</td>\n",
       "      <td>2015</td>\n",
       "      <td>November</td>\n",
       "      <td>2013-11-04T00:00:00Z</td>\n",
       "      <td>GOVERNMENT OF TUNISIA</td>\n",
       "      <td>NaN</td>\n",
       "      <td>Republic of Tunisia!$!TN</td>\n",
       "      <td>TN</td>\n",
       "      <td>Republic of Tunisia</td>\n",
       "      <td>Tunisia</td>\n",
       "      <td>...</td>\n",
       "      <td>BZ,BS</td>\n",
       "      <td>IBRD</td>\n",
       "      <td>Active</td>\n",
       "      <td>N</td>\n",
       "      <td>{'Percent': 30, 'Name': 'Other economic manage...</td>\n",
       "      <td>[{'code': '24', 'name': 'Other economic manage...</td>\n",
       "      <td>54,24</td>\n",
       "      <td>0</td>\n",
       "      <td>4700000</td>\n",
       "      <td>http://www.worldbank.org/projects/P144674?lang=en</td>\n",
       "    </tr>\n",
       "    <tr>\n",
       "      <th>2</th>\n",
       "      <td>{'$oid': '52b213b38594d8a2be17c782'}</td>\n",
       "      <td>2014</td>\n",
       "      <td>November</td>\n",
       "      <td>2013-11-01T00:00:00Z</td>\n",
       "      <td>MINISTRY OF FINANCE AND ECONOMIC DEVEL</td>\n",
       "      <td>NaN</td>\n",
       "      <td>Tuvalu!$!TV</td>\n",
       "      <td>TV</td>\n",
       "      <td>Tuvalu</td>\n",
       "      <td>Tuvalu</td>\n",
       "      <td>...</td>\n",
       "      <td>TI</td>\n",
       "      <td>IBRD</td>\n",
       "      <td>Active</td>\n",
       "      <td>Y</td>\n",
       "      <td>{'Percent': 46, 'Name': 'Regional integration'}</td>\n",
       "      <td>[{'code': '47', 'name': 'Regional integration'...</td>\n",
       "      <td>52,81,25,47</td>\n",
       "      <td>6060000</td>\n",
       "      <td>6060000</td>\n",
       "      <td>http://www.worldbank.org/projects/P145310?lang=en</td>\n",
       "    </tr>\n",
       "    <tr>\n",
       "      <th>3</th>\n",
       "      <td>{'$oid': '52b213b38594d8a2be17c783'}</td>\n",
       "      <td>2014</td>\n",
       "      <td>October</td>\n",
       "      <td>2013-10-31T00:00:00Z</td>\n",
       "      <td>MIN. OF PLANNING AND INT'L COOPERATION</td>\n",
       "      <td>NaN</td>\n",
       "      <td>Republic of Yemen!$!RY</td>\n",
       "      <td>RY</td>\n",
       "      <td>Republic of Yemen</td>\n",
       "      <td>Yemen, Republic of</td>\n",
       "      <td>...</td>\n",
       "      <td>JB</td>\n",
       "      <td>IBRD</td>\n",
       "      <td>Active</td>\n",
       "      <td>N</td>\n",
       "      <td>{'Percent': 50, 'Name': 'Participation and civ...</td>\n",
       "      <td>[{'code': '57', 'name': 'Participation and civ...</td>\n",
       "      <td>59,57</td>\n",
       "      <td>0</td>\n",
       "      <td>1500000</td>\n",
       "      <td>http://www.worldbank.org/projects/P144665?lang=en</td>\n",
       "    </tr>\n",
       "    <tr>\n",
       "      <th>4</th>\n",
       "      <td>{'$oid': '52b213b38594d8a2be17c784'}</td>\n",
       "      <td>2014</td>\n",
       "      <td>October</td>\n",
       "      <td>2013-10-31T00:00:00Z</td>\n",
       "      <td>MINISTRY OF FINANCE</td>\n",
       "      <td>2019-04-30T00:00:00Z</td>\n",
       "      <td>Kingdom of Lesotho!$!LS</td>\n",
       "      <td>LS</td>\n",
       "      <td>Kingdom of Lesotho</td>\n",
       "      <td>Lesotho</td>\n",
       "      <td>...</td>\n",
       "      <td>FH,YW,YZ</td>\n",
       "      <td>IBRD</td>\n",
       "      <td>Active</td>\n",
       "      <td>N</td>\n",
       "      <td>{'Percent': 30, 'Name': 'Export development an...</td>\n",
       "      <td>[{'code': '45', 'name': 'Export development an...</td>\n",
       "      <td>41,45</td>\n",
       "      <td>13100000</td>\n",
       "      <td>13100000</td>\n",
       "      <td>http://www.worldbank.org/projects/P144933/seco...</td>\n",
       "    </tr>\n",
       "  </tbody>\n",
       "</table>\n",
       "<p>5 rows × 50 columns</p>\n",
       "</div>"
      ],
      "text/plain": [
       "                                    _id  approvalfy board_approval_month  \\\n",
       "0  {'$oid': '52b213b38594d8a2be17c780'}        1999             November   \n",
       "1  {'$oid': '52b213b38594d8a2be17c781'}        2015             November   \n",
       "2  {'$oid': '52b213b38594d8a2be17c782'}        2014             November   \n",
       "3  {'$oid': '52b213b38594d8a2be17c783'}        2014              October   \n",
       "4  {'$oid': '52b213b38594d8a2be17c784'}        2014              October   \n",
       "\n",
       "      boardapprovaldate                                 borrower  \\\n",
       "0  2013-11-12T00:00:00Z  FEDERAL DEMOCRATIC REPUBLIC OF ETHIOPIA   \n",
       "1  2013-11-04T00:00:00Z                    GOVERNMENT OF TUNISIA   \n",
       "2  2013-11-01T00:00:00Z   MINISTRY OF FINANCE AND ECONOMIC DEVEL   \n",
       "3  2013-10-31T00:00:00Z   MIN. OF PLANNING AND INT'L COOPERATION   \n",
       "4  2013-10-31T00:00:00Z                      MINISTRY OF FINANCE   \n",
       "\n",
       "            closingdate                              country_namecode  \\\n",
       "0  2018-07-07T00:00:00Z  Federal Democratic Republic of Ethiopia!$!ET   \n",
       "1                   NaN                      Republic of Tunisia!$!TN   \n",
       "2                   NaN                                   Tuvalu!$!TV   \n",
       "3                   NaN                        Republic of Yemen!$!RY   \n",
       "4  2019-04-30T00:00:00Z                       Kingdom of Lesotho!$!LS   \n",
       "\n",
       "  countrycode                              countryname    countryshortname  \\\n",
       "0          ET  Federal Democratic Republic of Ethiopia            Ethiopia   \n",
       "1          TN                      Republic of Tunisia             Tunisia   \n",
       "2          TV                                   Tuvalu              Tuvalu   \n",
       "3          RY                        Republic of Yemen  Yemen, Republic of   \n",
       "4          LS                       Kingdom of Lesotho             Lesotho   \n",
       "\n",
       "                         ...                           sectorcode source  \\\n",
       "0                        ...                          ET,BS,ES,EP   IBRD   \n",
       "1                        ...                                BZ,BS   IBRD   \n",
       "2                        ...                                   TI   IBRD   \n",
       "3                        ...                                   JB   IBRD   \n",
       "4                        ...                             FH,YW,YZ   IBRD   \n",
       "\n",
       "   status  supplementprojectflg  \\\n",
       "0  Active                     N   \n",
       "1  Active                     N   \n",
       "2  Active                     Y   \n",
       "3  Active                     N   \n",
       "4  Active                     N   \n",
       "\n",
       "                                              theme1  \\\n",
       "0      {'Percent': 100, 'Name': 'Education for all'}   \n",
       "1  {'Percent': 30, 'Name': 'Other economic manage...   \n",
       "2    {'Percent': 46, 'Name': 'Regional integration'}   \n",
       "3  {'Percent': 50, 'Name': 'Participation and civ...   \n",
       "4  {'Percent': 30, 'Name': 'Export development an...   \n",
       "\n",
       "                                      theme_namecode    themecode   totalamt  \\\n",
       "0      [{'code': '65', 'name': 'Education for all'}]           65  130000000   \n",
       "1  [{'code': '24', 'name': 'Other economic manage...        54,24          0   \n",
       "2  [{'code': '47', 'name': 'Regional integration'...  52,81,25,47    6060000   \n",
       "3  [{'code': '57', 'name': 'Participation and civ...        59,57          0   \n",
       "4  [{'code': '45', 'name': 'Export development an...        41,45   13100000   \n",
       "\n",
       "  totalcommamt                                                url  \n",
       "0    130000000  http://www.worldbank.org/projects/P129828/ethi...  \n",
       "1      4700000  http://www.worldbank.org/projects/P144674?lang=en  \n",
       "2      6060000  http://www.worldbank.org/projects/P145310?lang=en  \n",
       "3      1500000  http://www.worldbank.org/projects/P144665?lang=en  \n",
       "4     13100000  http://www.worldbank.org/projects/P144933/seco...  \n",
       "\n",
       "[5 rows x 50 columns]"
      ]
     },
     "execution_count": 3,
     "metadata": {},
     "output_type": "execute_result"
    }
   ],
   "source": [
    "#looking at the dataframe\n",
    "df.head()"
   ]
  },
  {
   "cell_type": "code",
   "execution_count": 4,
   "metadata": {},
   "outputs": [
    {
     "name": "stdout",
     "output_type": "stream",
     "text": [
      "<class 'pandas.core.frame.DataFrame'>\n",
      "Int64Index: 500 entries, 0 to 499\n",
      "Data columns (total 50 columns):\n",
      "_id                         500 non-null object\n",
      "approvalfy                  500 non-null int64\n",
      "board_approval_month        500 non-null object\n",
      "boardapprovaldate           500 non-null object\n",
      "borrower                    485 non-null object\n",
      "closingdate                 370 non-null object\n",
      "country_namecode            500 non-null object\n",
      "countrycode                 500 non-null object\n",
      "countryname                 500 non-null object\n",
      "countryshortname            500 non-null object\n",
      "docty                       446 non-null object\n",
      "envassesmentcategorycode    430 non-null object\n",
      "grantamt                    500 non-null int64\n",
      "ibrdcommamt                 500 non-null int64\n",
      "id                          500 non-null object\n",
      "idacommamt                  500 non-null int64\n",
      "impagency                   472 non-null object\n",
      "lendinginstr                495 non-null object\n",
      "lendinginstrtype            495 non-null object\n",
      "lendprojectcost             500 non-null int64\n",
      "majorsector_percent         500 non-null object\n",
      "mjsector_namecode           500 non-null object\n",
      "mjtheme                     491 non-null object\n",
      "mjtheme_namecode            500 non-null object\n",
      "mjthemecode                 500 non-null object\n",
      "prodline                    500 non-null object\n",
      "prodlinetext                500 non-null object\n",
      "productlinetype             500 non-null object\n",
      "project_abstract            362 non-null object\n",
      "project_name                500 non-null object\n",
      "projectdocs                 446 non-null object\n",
      "projectfinancialtype        500 non-null object\n",
      "projectstatusdisplay        500 non-null object\n",
      "regionname                  500 non-null object\n",
      "sector                      500 non-null object\n",
      "sector1                     500 non-null object\n",
      "sector2                     380 non-null object\n",
      "sector3                     265 non-null object\n",
      "sector4                     174 non-null object\n",
      "sector_namecode             500 non-null object\n",
      "sectorcode                  500 non-null object\n",
      "source                      500 non-null object\n",
      "status                      500 non-null object\n",
      "supplementprojectflg        498 non-null object\n",
      "theme1                      500 non-null object\n",
      "theme_namecode              491 non-null object\n",
      "themecode                   491 non-null object\n",
      "totalamt                    500 non-null int64\n",
      "totalcommamt                500 non-null int64\n",
      "url                         500 non-null object\n",
      "dtypes: int64(7), object(43)\n",
      "memory usage: 199.2+ KB\n"
     ]
    }
   ],
   "source": [
    "#getting details of the dataframe df which was created with the json file\n",
    "df.info()"
   ]
  },
  {
   "cell_type": "code",
   "execution_count": 5,
   "metadata": {},
   "outputs": [
    {
     "data": {
      "text/html": [
       "<div>\n",
       "<style>\n",
       "    .dataframe thead tr:only-child th {\n",
       "        text-align: right;\n",
       "    }\n",
       "\n",
       "    .dataframe thead th {\n",
       "        text-align: left;\n",
       "    }\n",
       "\n",
       "    .dataframe tbody tr th {\n",
       "        vertical-align: top;\n",
       "    }\n",
       "</style>\n",
       "<table border=\"1\" class=\"dataframe\">\n",
       "  <thead>\n",
       "    <tr style=\"text-align: right;\">\n",
       "      <th></th>\n",
       "      <th>countryname</th>\n",
       "      <th>project_name</th>\n",
       "    </tr>\n",
       "  </thead>\n",
       "  <tbody>\n",
       "    <tr>\n",
       "      <th>0</th>\n",
       "      <td>Federal Democratic Republic of Ethiopia</td>\n",
       "      <td>Ethiopia General Education Quality Improvement...</td>\n",
       "    </tr>\n",
       "    <tr>\n",
       "      <th>1</th>\n",
       "      <td>Republic of Tunisia</td>\n",
       "      <td>TN: DTF Social Protection Reforms Support</td>\n",
       "    </tr>\n",
       "    <tr>\n",
       "      <th>2</th>\n",
       "      <td>Tuvalu</td>\n",
       "      <td>Tuvalu Aviation Investment Project - Additiona...</td>\n",
       "    </tr>\n",
       "    <tr>\n",
       "      <th>3</th>\n",
       "      <td>Republic of Yemen</td>\n",
       "      <td>Gov't and Civil Society Organization Partnership</td>\n",
       "    </tr>\n",
       "    <tr>\n",
       "      <th>4</th>\n",
       "      <td>Kingdom of Lesotho</td>\n",
       "      <td>Second Private Sector Competitiveness and Econ...</td>\n",
       "    </tr>\n",
       "  </tbody>\n",
       "</table>\n",
       "</div>"
      ],
      "text/plain": [
       "                               countryname  \\\n",
       "0  Federal Democratic Republic of Ethiopia   \n",
       "1                      Republic of Tunisia   \n",
       "2                                   Tuvalu   \n",
       "3                        Republic of Yemen   \n",
       "4                       Kingdom of Lesotho   \n",
       "\n",
       "                                        project_name  \n",
       "0  Ethiopia General Education Quality Improvement...  \n",
       "1          TN: DTF Social Protection Reforms Support  \n",
       "2  Tuvalu Aviation Investment Project - Additiona...  \n",
       "3   Gov't and Civil Society Organization Partnership  \n",
       "4  Second Private Sector Competitiveness and Econ...  "
      ]
     },
     "execution_count": 5,
     "metadata": {},
     "output_type": "execute_result"
    }
   ],
   "source": [
    "#creating data frame for most projects from the dataframe df(created with json file)\n",
    "df_most_projects = df[['countryname', 'project_name']]\n",
    "\n",
    "#looking into th new dataframe for most projects\n",
    "df_most_projects.head() "
   ]
  },
  {
   "cell_type": "code",
   "execution_count": 6,
   "metadata": {},
   "outputs": [
    {
     "name": "stdout",
     "output_type": "stream",
     "text": [
      "<class 'pandas.core.frame.DataFrame'>\n",
      "Int64Index: 500 entries, 0 to 499\n",
      "Data columns (total 2 columns):\n",
      "countryname     500 non-null object\n",
      "project_name    500 non-null object\n",
      "dtypes: object(2)\n",
      "memory usage: 11.7+ KB\n"
     ]
    }
   ],
   "source": [
    "#checking for any nan or missing values.\n",
    "df_most_projects.info()"
   ]
  },
  {
   "cell_type": "code",
   "execution_count": 7,
   "metadata": {},
   "outputs": [
    {
     "data": {
      "text/plain": [
       "countryname     False\n",
       "project_name    False\n",
       "dtype: bool"
      ]
     },
     "execution_count": 7,
     "metadata": {},
     "output_type": "execute_result"
    }
   ],
   "source": [
    "#other way of checking for missing values if any.\n",
    "df_most_projects.isnull().any()"
   ]
  },
  {
   "cell_type": "code",
   "execution_count": 8,
   "metadata": {},
   "outputs": [
    {
     "name": "stdout",
     "output_type": "stream",
     "text": [
      "List of top 10 countries with most number of projects.\n",
      "------------------------------------------------------\n",
      "1. People's Republic of China has 19 projects\n",
      "2. Republic of Indonesia has 19 projects\n",
      "3. Socialist Republic of Vietnam has 17 projects\n",
      "4. Republic of India has 16 projects\n",
      "5. Republic of Yemen has 13 projects\n",
      "6. Kingdom of Morocco has 12 projects\n",
      "7. Nepal has 12 projects\n",
      "8. People's Republic of Bangladesh has 12 projects\n",
      "9. Republic of Mozambique has 11 projects\n",
      "10. Africa has 11 projects\n"
     ]
    }
   ],
   "source": [
    "# create an empty dictionary country_proj\n",
    "country_proj = {}\n",
    "\n",
    "# populate country_proj with country name and number of project for that country.\n",
    "for index, row in df_most_projects.iterrows():\n",
    "    country_proj[row['countryname']] = country_proj.get(row['countryname'], 0) + 1\n",
    "\n",
    "# sorting the country_project dictionary using lambada function in descending order of number of projects each country\n",
    "# each countryhas\n",
    "top10project = sorted(country_proj.items(), reverse = True, key=lambda r: r[1])\n",
    "\n",
    "#creating a list of all only top 10 from the sorted list above using slicing.\n",
    "top10 = top10project[:10]\n",
    "\n",
    "# printing the list\n",
    "print('List of top 10 countries with most number of projects.')\n",
    "print('------------------------------------------------------')\n",
    "for i, (name, count) in enumerate(top10):\n",
    "    print(\"%d. %s has %d projects\" % (i+1, name, count))\n",
    "    "
   ]
  },
  {
   "cell_type": "markdown",
   "metadata": {},
   "source": [
    "### 2. Find the top 10 major project themes (using column 'mjtheme_namecode')"
   ]
  },
  {
   "cell_type": "code",
   "execution_count": 9,
   "metadata": {},
   "outputs": [],
   "source": [
    "# creating a dataframe mjdata to hold the value of only one column mjtheme_namecode from df dataframe created for \n",
    "# problem 1 above.\n",
    "mjdata = df['mjtheme_namecode']"
   ]
  },
  {
   "cell_type": "code",
   "execution_count": 12,
   "metadata": {},
   "outputs": [
    {
     "name": "stdout",
     "output_type": "stream",
     "text": [
      "[[{'code': '8', 'name': 'Human development'}, {'code': '11', 'name': ''}], [{'code': '1', 'name': 'Economic management'}, {'code': '6', 'name': 'Social protection and risk management'}], [{'code': '5', 'name': 'Trade and integration'}, {'code': '2', 'name': 'Public sector governance'}, {'code': '11', 'name': 'Environment and natural resources management'}, {'code': '6', 'name': 'Social protection and risk management'}], [{'code': '7', 'name': 'Social dev/gender/inclusion'}, {'code': '7', 'name': 'Social dev/gender/inclusion'}], [{'code': '5', 'name': 'Trade and integration'}, {'code': '4', 'name': 'Financial and private sector development'}], [{'code': '6', 'name': 'Social protection and risk management'}, {'code': '6', 'name': ''}], [{'code': '2', 'name': 'Public sector governance'}, {'code': '4', 'name': 'Financial and private sector development'}], [{'code': '11', 'name': 'Environment and natural resources management'}, {'code': '8', 'name': ''}], [{'code': '10', 'name': 'Rural development'}, {'code': '7', 'name': ''}], [{'code': '2', 'name': 'Public sector governance'}, {'code': '2', 'name': 'Public sector governance'}, {'code': '2', 'name': 'Public sector governance'}], [{'code': '10', 'name': 'Rural development'}, {'code': '2', 'name': ''}], [{'code': '10', 'name': 'Rural development'}, {'code': '6', 'name': 'Social protection and risk management'}, {'code': '6', 'name': 'Social protection and risk management'}, {'code': '11', 'name': 'Environment and natural resources management'}], [{'code': '4', 'name': ''}], [{'code': '5', 'name': 'Trade and integration'}, {'code': '11', 'name': 'Environment and natural resources management'}, {'code': '10', 'name': 'Rural development'}], [{'code': '6', 'name': 'Social protection and risk management'}, {'code': '6', 'name': 'Social protection and risk management'}, {'code': '6', 'name': 'Social protection and risk management'}], [{'code': '10', 'name': 'Rural development'}, {'code': '11', 'name': 'Environment and natural resources management'}, {'code': '5', 'name': 'Trade and integration'}], [{'code': '10', 'name': 'Rural development'}, {'code': '2', 'name': ''}], [{'code': '8', 'name': 'Human development'}, {'code': '7', 'name': ''}], [{'code': '8', 'name': 'Human development'}, {'code': '8', 'name': 'Human development'}, {'code': '2', 'name': 'Public sector governance'}, {'code': '7', 'name': 'Social dev/gender/inclusion'}, {'code': '8', 'name': 'Human development'}], [{'code': '2', 'name': 'Public sector governance'}, {'code': '2', 'name': 'Public sector governance'}, {'code': '2', 'name': 'Public sector governance'}], [{'code': '7', 'name': 'Social dev/gender/inclusion'}, {'code': '7', 'name': 'Social dev/gender/inclusion'}], [{'code': '9', 'name': 'Urban development'}, {'code': '7', 'name': 'Social dev/gender/inclusion'}], [{'code': '7', 'name': 'Social dev/gender/inclusion'}, {'code': '7', 'name': 'Social dev/gender/inclusion'}], [{'code': '8', 'name': 'Human development'}, {'code': '8', 'name': 'Human development'}], [{'code': '10', 'name': 'Rural development'}, {'code': '10', 'name': 'Rural development'}, {'code': '10', 'name': 'Rural development'}, {'code': '6', 'name': 'Social protection and risk management'}], [{'code': '11', 'name': 'Environment and natural resources management'}, {'code': '11', 'name': 'Environment and natural resources management'}, {'code': '11', 'name': 'Environment and natural resources management'}], [{'code': '4', 'name': 'Financial and private sector development'}, {'code': '5', 'name': 'Trade and integration'}, {'code': '2', 'name': 'Public sector governance'}, {'code': '8', 'name': 'Human development'}], [{'code': '11', 'name': 'Environment and natural resources management'}, {'code': '2', 'name': 'Public sector governance'}, {'code': '5', 'name': 'Trade and integration'}, {'code': '6', 'name': 'Social protection and risk management'}], [{'code': '10', 'name': 'Rural development'}, {'code': '10', 'name': 'Rural development'}, {'code': '7', 'name': 'Social dev/gender/inclusion'}], [{'code': '7', 'name': 'Social dev/gender/inclusion'}, {'code': '11', 'name': 'Environment and natural resources management'}], [{'code': '8', 'name': 'Human development'}, {'code': '4', 'name': ''}], [{'code': '11', 'name': 'Environment and natural resources management'}, {'code': '11', 'name': 'Environment and natural resources management'}, {'code': '11', 'name': 'Environment and natural resources management'}, {'code': '11', 'name': 'Environment and natural resources management'}], [{'code': '11', 'name': 'Environment and natural resources management'}, {'code': '4', 'name': 'Financial and private sector development'}], [{'code': '6', 'name': 'Social protection and risk management'}, {'code': '1', 'name': 'Economic management'}, {'code': '4', 'name': 'Financial and private sector development'}], [{'code': '2', 'name': 'Public sector governance'}, {'code': '8', 'name': 'Human development'}, {'code': '5', 'name': 'Trade and integration'}, {'code': '5', 'name': 'Trade and integration'}], [{'code': '7', 'name': 'Social dev/gender/inclusion'}, {'code': '10', 'name': 'Rural development'}, {'code': '4', 'name': 'Financial and private sector development'}], [{'code': '10', 'name': 'Rural development'}, {'code': '11', 'name': ''}], [{'code': '6', 'name': 'Social protection and risk management'}, {'code': '7', 'name': ''}], [{'code': '11', 'name': 'Environment and natural resources management'}, {'code': '11', 'name': 'Environment and natural resources management'}, {'code': '6', 'name': 'Social protection and risk management'}, {'code': '11', 'name': 'Environment and natural resources management'}, {'code': '11', 'name': 'Environment and natural resources management'}], [{'code': '2', 'name': 'Public sector governance'}, {'code': '4', 'name': ''}], [{'code': '11', 'name': 'Environment and natural resources management'}, {'code': '6', 'name': 'Social protection and risk management'}, {'code': '11', 'name': 'Environment and natural resources management'}, {'code': '11', 'name': 'Environment and natural resources management'}], [{'code': '4', 'name': 'Financial and private sector development'}, {'code': '8', 'name': 'Human development'}], [{'code': '2', 'name': 'Public sector governance'}, {'code': '2', 'name': 'Public sector governance'}], [{'code': '2', 'name': 'Public sector governance'}, {'code': '8', 'name': ''}], [{'code': '11', 'name': 'Environment and natural resources management'}, {'code': '7', 'name': ''}], [{'code': '8', 'name': 'Human development'}, {'code': '10', 'name': ''}], [{'code': '2', 'name': 'Public sector governance'}, {'code': '10', 'name': 'Rural development'}, {'code': '4', 'name': 'Financial and private sector development'}, {'code': '4', 'name': 'Financial and private sector development'}], [{'code': '11', 'name': 'Environment and natural resources management'}, {'code': '11', 'name': ''}], [{'code': '4', 'name': 'Financial and private sector development'}, {'code': '4', 'name': 'Financial and private sector development'}], [{'code': '7', 'name': 'Social dev/gender/inclusion'}, {'code': '6', 'name': 'Social protection and risk management'}, {'code': '2', 'name': 'Public sector governance'}], [{'code': '11', 'name': 'Environment and natural resources management'}, {'code': '4', 'name': ''}], [{'code': '11', 'name': 'Environment and natural resources management'}, {'code': '11', 'name': 'Environment and natural resources management'}, {'code': '11', 'name': 'Environment and natural resources management'}, {'code': '11', 'name': 'Environment and natural resources management'}, {'code': '11', 'name': 'Environment and natural resources management'}], [{'code': '11', 'name': 'Environment and natural resources management'}, {'code': '11', 'name': 'Environment and natural resources management'}], [{'code': '10', 'name': 'Rural development'}, {'code': '2', 'name': 'Public sector governance'}, {'code': '5', 'name': 'Trade and integration'}, {'code': '2', 'name': 'Public sector governance'}], [{'code': '8', 'name': 'Human development'}, {'code': '8', 'name': 'Human development'}, {'code': '8', 'name': 'Human development'}], [{'code': '11', 'name': 'Environment and natural resources management'}, {'code': '7', 'name': 'Social dev/gender/inclusion'}, {'code': '11', 'name': 'Environment and natural resources management'}, {'code': '11', 'name': 'Environment and natural resources management'}, {'code': '11', 'name': 'Environment and natural resources management'}], [{'code': '4', 'name': 'Financial and private sector development'}, {'code': '4', 'name': 'Financial and private sector development'}], [{'code': '11', 'name': 'Environment and natural resources management'}, {'code': '2', 'name': 'Public sector governance'}, {'code': '10', 'name': 'Rural development'}, {'code': '10', 'name': 'Rural development'}], [{'code': '11', 'name': 'Environment and natural resources management'}, {'code': '11', 'name': 'Environment and natural resources management'}], [{'code': '2', 'name': 'Public sector governance'}, {'code': '7', 'name': 'Social dev/gender/inclusion'}], [{'code': '2', 'name': 'Public sector governance'}, {'code': '10', 'name': ''}], [{'code': '5', 'name': 'Trade and integration'}, {'code': '6', 'name': 'Social protection and risk management'}, {'code': '10', 'name': 'Rural development'}, {'code': '10', 'name': 'Rural development'}], [{'code': '11', 'name': 'Environment and natural resources management'}, {'code': '4', 'name': ''}], [{'code': '6', 'name': 'Social protection and risk management'}, {'code': '2', 'name': ''}], [{'code': '6', 'name': 'Social protection and risk management'}, {'code': '1', 'name': 'Economic management'}, {'code': '2', 'name': 'Public sector governance'}, {'code': '11', 'name': 'Environment and natural resources management'}, {'code': '2', 'name': 'Public sector governance'}], [{'code': '4', 'name': 'Financial and private sector development'}, {'code': '7', 'name': 'Social dev/gender/inclusion'}, {'code': '10', 'name': 'Rural development'}, {'code': '5', 'name': 'Trade and integration'}], [{'code': '9', 'name': 'Urban development'}, {'code': '11', 'name': 'Environment and natural resources management'}], [{'code': '7', 'name': ''}], [{'code': '8', 'name': 'Human development'}, {'code': '11', 'name': ''}], [{'code': '7', 'name': 'Social dev/gender/inclusion'}, {'code': '6', 'name': 'Social protection and risk management'}], [{'code': '8', 'name': 'Human development'}, {'code': '8', 'name': 'Human development'}, {'code': '8', 'name': 'Human development'}], [{'code': '4', 'name': 'Financial and private sector development'}, {'code': '9', 'name': 'Urban development'}, {'code': '10', 'name': 'Rural development'}], [{'code': '11', 'name': 'Environment and natural resources management'}, {'code': '4', 'name': ''}], [{'code': '4', 'name': 'Financial and private sector development'}, {'code': '4', 'name': 'Financial and private sector development'}], [{'code': '9', 'name': 'Urban development'}, {'code': '5', 'name': ''}], [{'code': '2', 'name': 'Public sector governance'}, {'code': '5', 'name': 'Trade and integration'}, {'code': '1', 'name': 'Economic management'}, {'code': '1', 'name': 'Economic management'}, {'code': '8', 'name': 'Human development'}], [{'code': '4', 'name': 'Financial and private sector development'}, {'code': '4', 'name': 'Financial and private sector development'}], [{'code': '11', 'name': 'Environment and natural resources management'}, {'code': '11', 'name': ''}], [{'code': '2', 'name': 'Public sector governance'}, {'code': '1', 'name': ''}], [{'code': '6', 'name': 'Social protection and risk management'}, {'code': '6', 'name': 'Social protection and risk management'}, {'code': '6', 'name': 'Social protection and risk management'}], [{'code': '2', 'name': 'Public sector governance'}, {'code': '10', 'name': ''}], [{'code': '2', 'name': 'Public sector governance'}, {'code': '4', 'name': 'Financial and private sector development'}, {'code': '1', 'name': 'Economic management'}], [{'code': '6', 'name': 'Social protection and risk management'}, {'code': '1', 'name': 'Economic management'}], [{'code': '1', 'name': 'Economic management'}, {'code': '7', 'name': 'Social dev/gender/inclusion'}], [{'code': '5', 'name': 'Trade and integration'}, {'code': '2', 'name': 'Public sector governance'}, {'code': '2', 'name': 'Public sector governance'}, {'code': '8', 'name': 'Human development'}], [{'code': '8', 'name': 'Human development'}, {'code': '4', 'name': ''}], [{'code': '2', 'name': 'Public sector governance'}, {'code': '6', 'name': ''}], [{'code': '11', 'name': ''}], [{'code': '2', 'name': 'Public sector governance'}, {'code': '4', 'name': ''}], [{'code': '7', 'name': 'Social dev/gender/inclusion'}, {'code': '8', 'name': 'Human development'}, {'code': '8', 'name': 'Human development'}], [{'code': '8', 'name': 'Human development'}, {'code': '8', 'name': ''}], [{'code': '4', 'name': 'Financial and private sector development'}, {'code': '11', 'name': ''}], [{'code': '11', 'name': 'Environment and natural resources management'}, {'code': '4', 'name': 'Financial and private sector development'}], [{'code': '8', 'name': 'Human development'}, {'code': '5', 'name': 'Trade and integration'}, {'code': '4', 'name': 'Financial and private sector development'}, {'code': '7', 'name': 'Social dev/gender/inclusion'}], [{'code': '1', 'name': 'Economic management'}, {'code': '6', 'name': 'Social protection and risk management'}], [{'code': '4', 'name': 'Financial and private sector development'}, {'code': '3', 'name': 'Rule of law'}, {'code': '4', 'name': 'Financial and private sector development'}], [{'code': '4', 'name': 'Financial and private sector development'}, {'code': '10', 'name': 'Rural development'}, {'code': '10', 'name': 'Rural development'}, {'code': '10', 'name': 'Rural development'}], [{'code': '10', 'name': 'Rural development'}, {'code': '10', 'name': 'Rural development'}, {'code': '7', 'name': 'Social dev/gender/inclusion'}, {'code': '10', 'name': 'Rural development'}, {'code': '10', 'name': 'Rural development'}], [{'code': '5', 'name': 'Trade and integration'}, {'code': '4', 'name': 'Financial and private sector development'}, {'code': '5', 'name': 'Trade and integration'}], [{'code': '5', 'name': 'Trade and integration'}, {'code': '5', 'name': 'Trade and integration'}, {'code': '2', 'name': 'Public sector governance'}, {'code': '10', 'name': 'Rural development'}], [{'code': '11', 'name': 'Environment and natural resources management'}, {'code': '10', 'name': 'Rural development'}, {'code': '10', 'name': 'Rural development'}, {'code': '10', 'name': 'Rural development'}], [{'code': '4', 'name': 'Financial and private sector development'}, {'code': '10', 'name': ''}], [{'code': '2', 'name': ''}], [{'code': '11', 'name': ''}], [{'code': '8', 'name': 'Human development'}, {'code': '8', 'name': 'Human development'}, {'code': '2', 'name': 'Public sector governance'}, {'code': '5', 'name': 'Trade and integration'}, {'code': '6', 'name': 'Social protection and risk management'}], [{'code': '11', 'name': 'Environment and natural resources management'}, {'code': '11', 'name': 'Environment and natural resources management'}], [{'code': '4', 'name': 'Financial and private sector development'}, {'code': '5', 'name': 'Trade and integration'}], [{'code': '11', 'name': 'Environment and natural resources management'}, {'code': '2', 'name': 'Public sector governance'}, {'code': '2', 'name': 'Public sector governance'}, {'code': '2', 'name': 'Public sector governance'}], [{'code': '11', 'name': 'Environment and natural resources management'}, {'code': '6', 'name': 'Social protection and risk management'}, {'code': '7', 'name': 'Social dev/gender/inclusion'}, {'code': '11', 'name': 'Environment and natural resources management'}, {'code': '7', 'name': 'Social dev/gender/inclusion'}], [{'code': '4', 'name': 'Financial and private sector development'}, {'code': '2', 'name': ''}], [{'code': '7', 'name': 'Social dev/gender/inclusion'}, {'code': '6', 'name': 'Social protection and risk management'}, {'code': '6', 'name': 'Social protection and risk management'}, {'code': '2', 'name': 'Public sector governance'}], [{'code': '8', 'name': 'Human development'}, {'code': '10', 'name': 'Rural development'}, {'code': '7', 'name': 'Social dev/gender/inclusion'}, {'code': '8', 'name': 'Human development'}, {'code': '2', 'name': 'Public sector governance'}], [{'code': '8', 'name': 'Human development'}, {'code': '6', 'name': 'Social protection and risk management'}, {'code': '7', 'name': 'Social dev/gender/inclusion'}, {'code': '2', 'name': 'Public sector governance'}, {'code': '6', 'name': 'Social protection and risk management'}], [{'code': '2', 'name': 'Public sector governance'}, {'code': '4', 'name': 'Financial and private sector development'}, {'code': '10', 'name': 'Rural development'}, {'code': '8', 'name': 'Human development'}], [{'code': '4', 'name': 'Financial and private sector development'}, {'code': '5', 'name': 'Trade and integration'}], [{'code': '9', 'name': 'Urban development'}, {'code': '2', 'name': 'Public sector governance'}, {'code': '9', 'name': 'Urban development'}], [{'code': '6', 'name': 'Social protection and risk management'}, {'code': '6', 'name': 'Social protection and risk management'}], [{'code': '8', 'name': 'Human development'}, {'code': '8', 'name': 'Human development'}], [{'code': '7', 'name': 'Social dev/gender/inclusion'}, {'code': '6', 'name': 'Social protection and risk management'}, {'code': '6', 'name': 'Social protection and risk management'}, {'code': '6', 'name': 'Social protection and risk management'}], [{'code': '6', 'name': 'Social protection and risk management'}, {'code': '6', 'name': 'Social protection and risk management'}], [{'code': '4', 'name': 'Financial and private sector development'}, {'code': '2', 'name': ''}], [{'code': '9', 'name': ''}], [{'code': '6', 'name': 'Social protection and risk management'}, {'code': '10', 'name': 'Rural development'}, {'code': '10', 'name': 'Rural development'}], [{'code': '10', 'name': 'Rural development'}, {'code': '11', 'name': 'Environment and natural resources management'}, {'code': '2', 'name': 'Public sector governance'}], [{'code': '2', 'name': 'Public sector governance'}, {'code': '9', 'name': 'Urban development'}], [{'code': '6', 'name': 'Social protection and risk management'}, {'code': '11', 'name': 'Environment and natural resources management'}, {'code': '10', 'name': 'Rural development'}], [{'code': '2', 'name': 'Public sector governance'}, {'code': '2', 'name': 'Public sector governance'}, {'code': '6', 'name': 'Social protection and risk management'}, {'code': '10', 'name': 'Rural development'}], [{'code': '2', 'name': 'Public sector governance'}, {'code': '2', 'name': 'Public sector governance'}, {'code': '2', 'name': 'Public sector governance'}], [{'code': '2', 'name': 'Public sector governance'}, {'code': '10', 'name': 'Rural development'}, {'code': '9', 'name': 'Urban development'}, {'code': '2', 'name': 'Public sector governance'}, {'code': '9', 'name': 'Urban development'}], [{'code': '1', 'name': 'Economic management'}, {'code': '2', 'name': 'Public sector governance'}, {'code': '3', 'name': 'Rule of law'}, {'code': '6', 'name': 'Social protection and risk management'}, {'code': '6', 'name': 'Social protection and risk management'}], [{'code': '4', 'name': 'Financial and private sector development'}, {'code': '1', 'name': ''}], [{'code': '4', 'name': 'Financial and private sector development'}, {'code': '7', 'name': ''}], [{'code': '6', 'name': 'Social protection and risk management'}, {'code': '2', 'name': 'Public sector governance'}, {'code': '11', 'name': 'Environment and natural resources management'}, {'code': '9', 'name': 'Urban development'}], [{'code': '2', 'name': 'Public sector governance'}, {'code': '8', 'name': 'Human development'}, {'code': '2', 'name': 'Public sector governance'}, {'code': '8', 'name': 'Human development'}, {'code': '11', 'name': 'Environment and natural resources management'}], [{'code': '11', 'name': 'Environment and natural resources management'}, {'code': '5', 'name': 'Trade and integration'}, {'code': '11', 'name': 'Environment and natural resources management'}, {'code': '4', 'name': 'Financial and private sector development'}, {'code': '6', 'name': 'Social protection and risk management'}], [{'code': '2', 'name': 'Public sector governance'}, {'code': '7', 'name': 'Social dev/gender/inclusion'}, {'code': '2', 'name': 'Public sector governance'}, {'code': '2', 'name': 'Public sector governance'}], [{'code': '6', 'name': 'Social protection and risk management'}, {'code': '6', 'name': 'Social protection and risk management'}], [{'code': '8', 'name': 'Human development'}, {'code': '8', 'name': 'Human development'}], [{'code': '2', 'name': 'Public sector governance'}, {'code': '11', 'name': ''}], [{'code': '4', 'name': 'Financial and private sector development'}, {'code': '10', 'name': ''}], [{'code': '10', 'name': 'Rural development'}, {'code': '5', 'name': 'Trade and integration'}, {'code': '4', 'name': 'Financial and private sector development'}, {'code': '4', 'name': 'Financial and private sector development'}, {'code': '5', 'name': 'Trade and integration'}], [{'code': '5', 'name': 'Trade and integration'}, {'code': '4', 'name': 'Financial and private sector development'}, {'code': '4', 'name': 'Financial and private sector development'}, {'code': '2', 'name': 'Public sector governance'}], [{'code': '6', 'name': 'Social protection and risk management'}, {'code': '10', 'name': 'Rural development'}, {'code': '11', 'name': 'Environment and natural resources management'}], [{'code': '2', 'name': 'Public sector governance'}, {'code': '4', 'name': ''}], [{'code': '4', 'name': 'Financial and private sector development'}, {'code': '11', 'name': ''}], [{'code': '11', 'name': 'Environment and natural resources management'}, {'code': '7', 'name': 'Social dev/gender/inclusion'}, {'code': '11', 'name': 'Environment and natural resources management'}, {'code': '11', 'name': 'Environment and natural resources management'}], [{'code': '11', 'name': 'Environment and natural resources management'}, {'code': '8', 'name': 'Human development'}, {'code': '9', 'name': 'Urban development'}], [{'code': '3', 'name': 'Rule of law'}, {'code': '5', 'name': 'Trade and integration'}, {'code': '4', 'name': 'Financial and private sector development'}, {'code': '6', 'name': 'Social protection and risk management'}], [{'code': '11', 'name': 'Environment and natural resources management'}, {'code': '2', 'name': 'Public sector governance'}, {'code': '11', 'name': 'Environment and natural resources management'}, {'code': '11', 'name': 'Environment and natural resources management'}], [{'code': '11', 'name': 'Environment and natural resources management'}, {'code': '10', 'name': ''}], [{'code': '4', 'name': 'Financial and private sector development'}, {'code': '7', 'name': 'Social dev/gender/inclusion'}, {'code': '4', 'name': 'Financial and private sector development'}], [{'code': '6', 'name': 'Social protection and risk management'}, {'code': '6', 'name': 'Social protection and risk management'}, {'code': '6', 'name': 'Social protection and risk management'}, {'code': '2', 'name': 'Public sector governance'}], [{'code': '11', 'name': 'Environment and natural resources management'}, {'code': '8', 'name': ''}], [{'code': '11', 'name': 'Environment and natural resources management'}, {'code': '10', 'name': ''}], [{'code': '6', 'name': 'Social protection and risk management'}, {'code': '10', 'name': 'Rural development'}, {'code': '10', 'name': 'Rural development'}, {'code': '7', 'name': 'Social dev/gender/inclusion'}], [{'code': '10', 'name': 'Rural development'}, {'code': '7', 'name': 'Social dev/gender/inclusion'}, {'code': '4', 'name': 'Financial and private sector development'}, {'code': '11', 'name': 'Environment and natural resources management'}, {'code': '10', 'name': 'Rural development'}], [{'code': '11', 'name': 'Environment and natural resources management'}, {'code': '11', 'name': ''}], [{'code': '9', 'name': 'Urban development'}, {'code': '4', 'name': 'Financial and private sector development'}, {'code': '11', 'name': 'Environment and natural resources management'}], [{'code': '6', 'name': 'Social protection and risk management'}, {'code': '2', 'name': 'Public sector governance'}, {'code': '4', 'name': 'Financial and private sector development'}, {'code': '1', 'name': 'Economic management'}], [{'code': '1', 'name': 'Economic management'}, {'code': '4', 'name': 'Financial and private sector development'}, {'code': '2', 'name': 'Public sector governance'}, {'code': '10', 'name': 'Rural development'}, {'code': '1', 'name': 'Economic management'}], [{'code': '8', 'name': 'Human development'}, {'code': '9', 'name': ''}], [{'code': '8', 'name': 'Human development'}, {'code': '2', 'name': ''}], [{'code': '11', 'name': 'Environment and natural resources management'}, {'code': '11', 'name': 'Environment and natural resources management'}], [{'code': '8', 'name': 'Human development'}, {'code': '8', 'name': 'Human development'}, {'code': '8', 'name': 'Human development'}, {'code': '8', 'name': 'Human development'}, {'code': '8', 'name': 'Human development'}], [{'code': '11', 'name': 'Environment and natural resources management'}, {'code': '9', 'name': ''}], [{'code': '11', 'name': 'Environment and natural resources management'}, {'code': '11', 'name': 'Environment and natural resources management'}, {'code': '11', 'name': 'Environment and natural resources management'}], [{'code': '2', 'name': 'Public sector governance'}, {'code': '11', 'name': 'Environment and natural resources management'}, {'code': '11', 'name': 'Environment and natural resources management'}, {'code': '10', 'name': 'Rural development'}, {'code': '10', 'name': 'Rural development'}], [{'code': '5', 'name': 'Trade and integration'}, {'code': '4', 'name': 'Financial and private sector development'}, {'code': '4', 'name': 'Financial and private sector development'}, {'code': '5', 'name': 'Trade and integration'}], [{'code': '8', 'name': 'Human development'}, {'code': '8', 'name': 'Human development'}], [{'code': '2', 'name': ''}], [{'code': '5', 'name': 'Trade and integration'}, {'code': '4', 'name': 'Financial and private sector development'}], [{'code': '2', 'name': 'Public sector governance'}, {'code': '8', 'name': 'Human development'}, {'code': '2', 'name': 'Public sector governance'}], [{'code': '7', 'name': 'Social dev/gender/inclusion'}, {'code': '3', 'name': ''}], [{'code': '4', 'name': 'Financial and private sector development'}, {'code': '6', 'name': 'Social protection and risk management'}, {'code': '2', 'name': 'Public sector governance'}, {'code': '1', 'name': 'Economic management'}], [{'code': '5', 'name': 'Trade and integration'}, {'code': '6', 'name': 'Social protection and risk management'}, {'code': '2', 'name': 'Public sector governance'}, {'code': '2', 'name': 'Public sector governance'}], [{'code': '2', 'name': 'Public sector governance'}, {'code': '11', 'name': 'Environment and natural resources management'}, {'code': '11', 'name': 'Environment and natural resources management'}, {'code': '10', 'name': 'Rural development'}, {'code': '10', 'name': 'Rural development'}], [{'code': '2', 'name': 'Public sector governance'}, {'code': '3', 'name': 'Rule of law'}, {'code': '3', 'name': 'Rule of law'}], [{'code': '7', 'name': 'Social dev/gender/inclusion'}, {'code': '11', 'name': 'Environment and natural resources management'}, {'code': '9', 'name': 'Urban development'}, {'code': '9', 'name': 'Urban development'}], [{'code': '8', 'name': 'Human development'}, {'code': '6', 'name': 'Social protection and risk management'}, {'code': '2', 'name': 'Public sector governance'}, {'code': '2', 'name': 'Public sector governance'}, {'code': '2', 'name': 'Public sector governance'}], [{'code': '11', 'name': 'Environment and natural resources management'}, {'code': '11', 'name': 'Environment and natural resources management'}, {'code': '11', 'name': 'Environment and natural resources management'}, {'code': '10', 'name': 'Rural development'}, {'code': '11', 'name': 'Environment and natural resources management'}], [{'code': '6', 'name': 'Social protection and risk management'}, {'code': '8', 'name': 'Human development'}], [{'code': '10', 'name': 'Rural development'}, {'code': '10', 'name': 'Rural development'}, {'code': '11', 'name': 'Environment and natural resources management'}], [{'code': '4', 'name': 'Financial and private sector development'}, {'code': '11', 'name': 'Environment and natural resources management'}], [{'code': '10', 'name': 'Rural development'}, {'code': '4', 'name': ''}], [{'code': '5', 'name': 'Trade and integration'}, {'code': '5', 'name': 'Trade and integration'}, {'code': '9', 'name': 'Urban development'}, {'code': '8', 'name': 'Human development'}], [{'code': '6', 'name': 'Social protection and risk management'}, {'code': '8', 'name': 'Human development'}, {'code': '6', 'name': 'Social protection and risk management'}, {'code': '8', 'name': 'Human development'}, {'code': '8', 'name': 'Human development'}], [{'code': '6', 'name': 'Social protection and risk management'}, {'code': '4', 'name': 'Financial and private sector development'}, {'code': '4', 'name': 'Financial and private sector development'}], [{'code': '7', 'name': 'Social dev/gender/inclusion'}, {'code': '2', 'name': 'Public sector governance'}, {'code': '8', 'name': 'Human development'}, {'code': '10', 'name': 'Rural development'}, {'code': '8', 'name': 'Human development'}], [{'code': '6', 'name': 'Social protection and risk management'}, {'code': '8', 'name': 'Human development'}], [{'code': '6', 'name': 'Social protection and risk management'}, {'code': '6', 'name': 'Social protection and risk management'}, {'code': '6', 'name': 'Social protection and risk management'}, {'code': '6', 'name': 'Social protection and risk management'}], [{'code': '2', 'name': 'Public sector governance'}, {'code': '2', 'name': 'Public sector governance'}, {'code': '2', 'name': 'Public sector governance'}], [{'code': '4', 'name': 'Financial and private sector development'}, {'code': '5', 'name': 'Trade and integration'}], [{'code': '8', 'name': 'Human development'}, {'code': '11', 'name': ''}], [{'code': '11', 'name': 'Environment and natural resources management'}, {'code': '7', 'name': 'Social dev/gender/inclusion'}, {'code': '11', 'name': 'Environment and natural resources management'}, {'code': '11', 'name': 'Environment and natural resources management'}], [{'code': '11', 'name': 'Environment and natural resources management'}, {'code': '11', 'name': 'Environment and natural resources management'}, {'code': '11', 'name': 'Environment and natural resources management'}], [{'code': '9', 'name': 'Urban development'}, {'code': '2', 'name': 'Public sector governance'}], [{'code': '4', 'name': 'Financial and private sector development'}, {'code': '10', 'name': 'Rural development'}, {'code': '8', 'name': 'Human development'}], [{'code': '8', 'name': 'Human development'}, {'code': '8', 'name': 'Human development'}], [{'code': '2', 'name': 'Public sector governance'}, {'code': '2', 'name': 'Public sector governance'}, {'code': '2', 'name': 'Public sector governance'}, {'code': '7', 'name': 'Social dev/gender/inclusion'}, {'code': '2', 'name': 'Public sector governance'}], [{'code': '4', 'name': 'Financial and private sector development'}, {'code': '5', 'name': 'Trade and integration'}], [{'code': '5', 'name': 'Trade and integration'}, {'code': '9', 'name': 'Urban development'}], [{'code': '11', 'name': 'Environment and natural resources management'}, {'code': '11', 'name': 'Environment and natural resources management'}, {'code': '11', 'name': 'Environment and natural resources management'}], [{'code': '7', 'name': 'Social dev/gender/inclusion'}, {'code': '2', 'name': ''}], [{'code': '2', 'name': 'Public sector governance'}, {'code': '2', 'name': 'Public sector governance'}, {'code': '2', 'name': 'Public sector governance'}], [{'code': '11', 'name': 'Environment and natural resources management'}, {'code': '6', 'name': 'Social protection and risk management'}, {'code': '6', 'name': 'Social protection and risk management'}], [{'code': '9', 'name': 'Urban development'}, {'code': '9', 'name': 'Urban development'}], [{'code': '5', 'name': 'Trade and integration'}, {'code': '2', 'name': 'Public sector governance'}, {'code': '5', 'name': 'Trade and integration'}], [{'code': '10', 'name': 'Rural development'}, {'code': '11', 'name': 'Environment and natural resources management'}, {'code': '4', 'name': 'Financial and private sector development'}, {'code': '4', 'name': 'Financial and private sector development'}, {'code': '5', 'name': 'Trade and integration'}], [{'code': '2', 'name': 'Public sector governance'}, {'code': '2', 'name': 'Public sector governance'}, {'code': '7', 'name': 'Social dev/gender/inclusion'}], [{'code': '2', 'name': 'Public sector governance'}, {'code': '6', 'name': ''}], [{'code': '8', 'name': 'Human development'}, {'code': '8', 'name': 'Human development'}, {'code': '8', 'name': 'Human development'}, {'code': '8', 'name': 'Human development'}, {'code': '7', 'name': 'Social dev/gender/inclusion'}], [{'code': '6', 'name': 'Social protection and risk management'}, {'code': '8', 'name': 'Human development'}, {'code': '6', 'name': 'Social protection and risk management'}, {'code': '8', 'name': 'Human development'}, {'code': '8', 'name': 'Human development'}], [{'code': '7', 'name': 'Social dev/gender/inclusion'}, {'code': '10', 'name': 'Rural development'}], [{'code': '7', 'name': 'Social dev/gender/inclusion'}, {'code': '8', 'name': 'Human development'}], [{'code': '8', 'name': 'Human development'}, {'code': '8', 'name': 'Human development'}], [{'code': '6', 'name': 'Social protection and risk management'}, {'code': '8', 'name': 'Human development'}, {'code': '7', 'name': 'Social dev/gender/inclusion'}], [{'code': '11', 'name': 'Environment and natural resources management'}, {'code': '11', 'name': 'Environment and natural resources management'}, {'code': '11', 'name': 'Environment and natural resources management'}, {'code': '5', 'name': 'Trade and integration'}, {'code': '11', 'name': 'Environment and natural resources management'}], [{'code': '6', 'name': 'Social protection and risk management'}, {'code': '8', 'name': 'Human development'}, {'code': '8', 'name': 'Human development'}, {'code': '6', 'name': 'Social protection and risk management'}], [{'code': '8', 'name': 'Human development'}, {'code': '8', 'name': 'Human development'}], [{'code': '5', 'name': 'Trade and integration'}, {'code': '2', 'name': 'Public sector governance'}, {'code': '6', 'name': 'Social protection and risk management'}, {'code': '2', 'name': 'Public sector governance'}, {'code': '10', 'name': 'Rural development'}], [{'code': '1', 'name': 'Economic management'}, {'code': '1', 'name': 'Economic management'}, {'code': '2', 'name': 'Public sector governance'}], [{'code': '9', 'name': 'Urban development'}, {'code': '11', 'name': 'Environment and natural resources management'}, {'code': '11', 'name': 'Environment and natural resources management'}], [{'code': '4', 'name': 'Financial and private sector development'}, {'code': '5', 'name': 'Trade and integration'}], [{'code': '11', 'name': 'Environment and natural resources management'}, {'code': '11', 'name': 'Environment and natural resources management'}], [{'code': '5', 'name': 'Trade and integration'}, {'code': '4', 'name': 'Financial and private sector development'}, {'code': '2', 'name': 'Public sector governance'}], [{'code': '2', 'name': 'Public sector governance'}, {'code': '2', 'name': 'Public sector governance'}], [{'code': '11', 'name': 'Environment and natural resources management'}, {'code': '10', 'name': ''}], [{'code': '11', 'name': 'Environment and natural resources management'}, {'code': '2', 'name': 'Public sector governance'}], [{'code': '10', 'name': 'Rural development'}, {'code': '11', 'name': 'Environment and natural resources management'}, {'code': '11', 'name': 'Environment and natural resources management'}], [{'code': '9', 'name': 'Urban development'}, {'code': '4', 'name': 'Financial and private sector development'}, {'code': '4', 'name': 'Financial and private sector development'}], [{'code': '10', 'name': 'Rural development'}, {'code': '10', 'name': 'Rural development'}, {'code': '4', 'name': 'Financial and private sector development'}, {'code': '10', 'name': 'Rural development'}, {'code': '11', 'name': 'Environment and natural resources management'}], [{'code': '6', 'name': 'Social protection and risk management'}, {'code': '2', 'name': ''}], [{'code': '7', 'name': 'Social dev/gender/inclusion'}, {'code': '8', 'name': ''}], [{'code': '8', 'name': 'Human development'}, {'code': '11', 'name': ''}], [{'code': '11', 'name': 'Environment and natural resources management'}, {'code': '7', 'name': ''}], [{'code': '11', 'name': 'Environment and natural resources management'}, {'code': '11', 'name': ''}], [{'code': '8', 'name': 'Human development'}, {'code': '8', 'name': 'Human development'}, {'code': '8', 'name': 'Human development'}], [{'code': '7', 'name': 'Social dev/gender/inclusion'}, {'code': '3', 'name': ''}], [{'code': '10', 'name': 'Rural development'}, {'code': '8', 'name': 'Human development'}], [{'code': '11', 'name': 'Environment and natural resources management'}, {'code': '10', 'name': ''}], [{'code': '8', 'name': 'Human development'}, {'code': '8', 'name': 'Human development'}, {'code': '8', 'name': 'Human development'}, {'code': '8', 'name': 'Human development'}], [{'code': '8', 'name': 'Human development'}, {'code': '11', 'name': ''}], [{'code': '7', 'name': 'Social dev/gender/inclusion'}, {'code': '8', 'name': 'Human development'}, {'code': '10', 'name': 'Rural development'}], [{'code': '4', 'name': 'Financial and private sector development'}, {'code': '2', 'name': 'Public sector governance'}, {'code': '2', 'name': 'Public sector governance'}], [{'code': '10', 'name': 'Rural development'}, {'code': '7', 'name': 'Social dev/gender/inclusion'}, {'code': '10', 'name': 'Rural development'}, {'code': '8', 'name': 'Human development'}, {'code': '7', 'name': 'Social dev/gender/inclusion'}], [{'code': '8', 'name': 'Human development'}, {'code': '8', 'name': 'Human development'}, {'code': '8', 'name': 'Human development'}, {'code': '8', 'name': 'Human development'}, {'code': '8', 'name': 'Human development'}], [{'code': '6', 'name': 'Social protection and risk management'}, {'code': '7', 'name': 'Social dev/gender/inclusion'}, {'code': '8', 'name': 'Human development'}, {'code': '6', 'name': 'Social protection and risk management'}], [{'code': '8', 'name': 'Human development'}, {'code': '7', 'name': 'Social dev/gender/inclusion'}], [{'code': '10', 'name': 'Rural development'}, {'code': '11', 'name': 'Environment and natural resources management'}, {'code': '11', 'name': 'Environment and natural resources management'}, {'code': '10', 'name': 'Rural development'}, {'code': '10', 'name': 'Rural development'}], [{'code': '11', 'name': 'Environment and natural resources management'}, {'code': '10', 'name': 'Rural development'}, {'code': '10', 'name': 'Rural development'}], [{'code': '9', 'name': 'Urban development'}, {'code': '11', 'name': 'Environment and natural resources management'}, {'code': '11', 'name': 'Environment and natural resources management'}], [{'code': '8', 'name': 'Human development'}, {'code': '8', 'name': 'Human development'}], [{'code': '9', 'name': 'Urban development'}, {'code': '9', 'name': 'Urban development'}], [{'code': '9', 'name': 'Urban development'}, {'code': '7', 'name': 'Social dev/gender/inclusion'}, {'code': '7', 'name': 'Social dev/gender/inclusion'}, {'code': '9', 'name': 'Urban development'}], [{'code': '6', 'name': 'Social protection and risk management'}, {'code': '10', 'name': 'Rural development'}, {'code': '6', 'name': 'Social protection and risk management'}], [{'code': '2', 'name': 'Public sector governance'}, {'code': '10', 'name': 'Rural development'}, {'code': '11', 'name': 'Environment and natural resources management'}], [{'code': '10', 'name': 'Rural development'}, {'code': '10', 'name': 'Rural development'}, {'code': '10', 'name': 'Rural development'}, {'code': '10', 'name': 'Rural development'}, {'code': '10', 'name': 'Rural development'}], [{'code': '7', 'name': 'Social dev/gender/inclusion'}, {'code': '10', 'name': 'Rural development'}, {'code': '10', 'name': 'Rural development'}, {'code': '6', 'name': 'Social protection and risk management'}], [{'code': '8', 'name': 'Human development'}, {'code': '8', 'name': 'Human development'}, {'code': '8', 'name': 'Human development'}, {'code': '8', 'name': 'Human development'}], [{'code': '4', 'name': 'Financial and private sector development'}, {'code': '11', 'name': 'Environment and natural resources management'}], [{'code': '10', 'name': 'Rural development'}, {'code': '10', 'name': 'Rural development'}, {'code': '10', 'name': 'Rural development'}, {'code': '10', 'name': 'Rural development'}], [{'code': '2', 'name': 'Public sector governance'}, {'code': '8', 'name': 'Human development'}, {'code': '5', 'name': 'Trade and integration'}, {'code': '2', 'name': 'Public sector governance'}, {'code': '6', 'name': 'Social protection and risk management'}], [{'code': '8', 'name': 'Human development'}, {'code': '8', 'name': 'Human development'}, {'code': '8', 'name': 'Human development'}, {'code': '8', 'name': 'Human development'}], [{'code': '4', 'name': 'Financial and private sector development'}, {'code': '11', 'name': 'Environment and natural resources management'}], [{'code': '4', 'name': 'Financial and private sector development'}, {'code': '4', 'name': 'Financial and private sector development'}], [{'code': '4', 'name': 'Financial and private sector development'}, {'code': '5', 'name': 'Trade and integration'}, {'code': '2', 'name': 'Public sector governance'}, {'code': '1', 'name': 'Economic management'}, {'code': '2', 'name': 'Public sector governance'}], [{'code': '6', 'name': 'Social protection and risk management'}, {'code': '7', 'name': 'Social dev/gender/inclusion'}, {'code': '11', 'name': 'Environment and natural resources management'}, {'code': '3', 'name': 'Rule of law'}, {'code': '10', 'name': 'Rural development'}], [{'code': '10', 'name': 'Rural development'}, {'code': '8', 'name': 'Human development'}, {'code': '8', 'name': 'Human development'}], [{'code': '4', 'name': 'Financial and private sector development'}, {'code': '7', 'name': 'Social dev/gender/inclusion'}, {'code': '11', 'name': 'Environment and natural resources management'}, {'code': '11', 'name': 'Environment and natural resources management'}, {'code': '4', 'name': 'Financial and private sector development'}], [{'code': '7', 'name': 'Social dev/gender/inclusion'}, {'code': '6', 'name': 'Social protection and risk management'}, {'code': '6', 'name': 'Social protection and risk management'}, {'code': '6', 'name': 'Social protection and risk management'}], [{'code': '1', 'name': 'Economic management'}, {'code': '6', 'name': 'Social protection and risk management'}, {'code': '2', 'name': 'Public sector governance'}, {'code': '6', 'name': 'Social protection and risk management'}, {'code': '2', 'name': 'Public sector governance'}], [{'code': '2', 'name': 'Public sector governance'}, {'code': '4', 'name': 'Financial and private sector development'}, {'code': '4', 'name': 'Financial and private sector development'}], [{'code': '6', 'name': 'Social protection and risk management'}, {'code': '7', 'name': 'Social dev/gender/inclusion'}, {'code': '6', 'name': 'Social protection and risk management'}], [{'code': '2', 'name': 'Public sector governance'}, {'code': '10', 'name': 'Rural development'}, {'code': '4', 'name': 'Financial and private sector development'}], [{'code': '2', 'name': 'Public sector governance'}, {'code': '4', 'name': 'Financial and private sector development'}, {'code': '10', 'name': 'Rural development'}, {'code': '2', 'name': 'Public sector governance'}, {'code': '8', 'name': 'Human development'}], [{'code': '9', 'name': 'Urban development'}, {'code': '11', 'name': 'Environment and natural resources management'}], [{'code': '10', 'name': ''}], [{'code': '11', 'name': 'Environment and natural resources management'}, {'code': '10', 'name': 'Rural development'}, {'code': '11', 'name': 'Environment and natural resources management'}, {'code': '11', 'name': 'Environment and natural resources management'}], [{'code': '11', 'name': 'Environment and natural resources management'}, {'code': '7', 'name': ''}], [{'code': '11', 'name': 'Environment and natural resources management'}, {'code': '11', 'name': 'Environment and natural resources management'}], [{'code': '11', 'name': 'Environment and natural resources management'}, {'code': '6', 'name': 'Social protection and risk management'}], [{'code': '4', 'name': 'Financial and private sector development'}, {'code': '6', 'name': ''}], [{'code': '4', 'name': 'Financial and private sector development'}, {'code': '2', 'name': 'Public sector governance'}, {'code': '2', 'name': 'Public sector governance'}, {'code': '4', 'name': 'Financial and private sector development'}, {'code': '1', 'name': 'Economic management'}], [{'code': '2', 'name': 'Public sector governance'}, {'code': '4', 'name': 'Financial and private sector development'}, {'code': '8', 'name': 'Human development'}, {'code': '8', 'name': 'Human development'}, {'code': '4', 'name': 'Financial and private sector development'}], [{'code': '4', 'name': 'Financial and private sector development'}, {'code': '4', 'name': 'Financial and private sector development'}, {'code': '10', 'name': 'Rural development'}], [{'code': '8', 'name': 'Human development'}, {'code': '2', 'name': 'Public sector governance'}, {'code': '8', 'name': 'Human development'}], [{'code': '6', 'name': 'Social protection and risk management'}, {'code': '10', 'name': 'Rural development'}], [{'code': '10', 'name': 'Rural development'}, {'code': '5', 'name': 'Trade and integration'}, {'code': '5', 'name': 'Trade and integration'}], [{'code': '2', 'name': 'Public sector governance'}, {'code': '8', 'name': 'Human development'}], [{'code': '11', 'name': 'Environment and natural resources management'}, {'code': '11', 'name': 'Environment and natural resources management'}, {'code': '11', 'name': 'Environment and natural resources management'}, {'code': '10', 'name': 'Rural development'}, {'code': '11', 'name': 'Environment and natural resources management'}], [{'code': '7', 'name': 'Social dev/gender/inclusion'}, {'code': '6', 'name': 'Social protection and risk management'}, {'code': '6', 'name': 'Social protection and risk management'}, {'code': '6', 'name': 'Social protection and risk management'}, {'code': '6', 'name': 'Social protection and risk management'}], [{'code': '11', 'name': 'Environment and natural resources management'}, {'code': '10', 'name': 'Rural development'}], [{'code': '11', 'name': 'Environment and natural resources management'}, {'code': '11', 'name': 'Environment and natural resources management'}], [{'code': '4', 'name': 'Financial and private sector development'}, {'code': '5', 'name': 'Trade and integration'}, {'code': '2', 'name': 'Public sector governance'}, {'code': '5', 'name': 'Trade and integration'}], [{'code': '7', 'name': 'Social dev/gender/inclusion'}, {'code': '10', 'name': 'Rural development'}], [{'code': '8', 'name': 'Human development'}, {'code': '8', 'name': 'Human development'}, {'code': '8', 'name': 'Human development'}, {'code': '8', 'name': 'Human development'}], [{'code': '8', 'name': 'Human development'}, {'code': '11', 'name': ''}], [{'code': '10', 'name': 'Rural development'}, {'code': '8', 'name': 'Human development'}, {'code': '8', 'name': 'Human development'}, {'code': '8', 'name': 'Human development'}], [{'code': '7', 'name': 'Social dev/gender/inclusion'}, {'code': '4', 'name': 'Financial and private sector development'}], [{'code': '10', 'name': 'Rural development'}, {'code': '7', 'name': 'Social dev/gender/inclusion'}], [{'code': '2', 'name': 'Public sector governance'}, {'code': '10', 'name': 'Rural development'}, {'code': '2', 'name': 'Public sector governance'}], [{'code': '6', 'name': 'Social protection and risk management'}, {'code': '6', 'name': 'Social protection and risk management'}, {'code': '6', 'name': 'Social protection and risk management'}, {'code': '1', 'name': 'Economic management'}], [{'code': '8', 'name': 'Human development'}, {'code': '2', 'name': 'Public sector governance'}, {'code': '2', 'name': 'Public sector governance'}, {'code': '2', 'name': 'Public sector governance'}], [{'code': '8', 'name': 'Human development'}, {'code': '5', 'name': ''}], [{'code': '8', 'name': 'Human development'}, {'code': '10', 'name': ''}], [{'code': '5', 'name': 'Trade and integration'}, {'code': '5', 'name': 'Trade and integration'}], [{'code': '8', 'name': 'Human development'}, {'code': '8', 'name': 'Human development'}, {'code': '8', 'name': 'Human development'}, {'code': '8', 'name': 'Human development'}, {'code': '8', 'name': 'Human development'}], [{'code': '6', 'name': 'Social protection and risk management'}, {'code': '9', 'name': 'Urban development'}, {'code': '7', 'name': 'Social dev/gender/inclusion'}], [{'code': '10', 'name': 'Rural development'}, {'code': '4', 'name': ''}], [{'code': '10', 'name': 'Rural development'}, {'code': '7', 'name': ''}], [{'code': '10', 'name': 'Rural development'}, {'code': '10', 'name': 'Rural development'}], [{'code': '4', 'name': 'Financial and private sector development'}, {'code': '10', 'name': 'Rural development'}], [{'code': '11', 'name': 'Environment and natural resources management'}, {'code': '4', 'name': 'Financial and private sector development'}, {'code': '10', 'name': 'Rural development'}], [{'code': '9', 'name': 'Urban development'}, {'code': '4', 'name': 'Financial and private sector development'}, {'code': '11', 'name': 'Environment and natural resources management'}, {'code': '10', 'name': 'Rural development'}, {'code': '4', 'name': 'Financial and private sector development'}], [{'code': '7', 'name': 'Social dev/gender/inclusion'}, {'code': '10', 'name': 'Rural development'}], [{'code': '11', 'name': 'Environment and natural resources management'}, {'code': '6', 'name': 'Social protection and risk management'}, {'code': '11', 'name': 'Environment and natural resources management'}], [{'code': '9', 'name': 'Urban development'}, {'code': '11', 'name': 'Environment and natural resources management'}, {'code': '11', 'name': 'Environment and natural resources management'}], [{'code': '7', 'name': 'Social dev/gender/inclusion'}, {'code': '7', 'name': 'Social dev/gender/inclusion'}, {'code': '8', 'name': 'Human development'}], [{'code': '6', 'name': 'Social protection and risk management'}, {'code': '8', 'name': 'Human development'}, {'code': '8', 'name': 'Human development'}, {'code': '8', 'name': 'Human development'}], [{'code': '10', 'name': 'Rural development'}, {'code': '4', 'name': 'Financial and private sector development'}, {'code': '10', 'name': 'Rural development'}], [{'code': '8', 'name': 'Human development'}, {'code': '10', 'name': 'Rural development'}, {'code': '10', 'name': 'Rural development'}], [{'code': '11', 'name': 'Environment and natural resources management'}, {'code': '11', 'name': 'Environment and natural resources management'}, {'code': '11', 'name': 'Environment and natural resources management'}, {'code': '11', 'name': 'Environment and natural resources management'}], [{'code': '11', 'name': 'Environment and natural resources management'}, {'code': '4', 'name': 'Financial and private sector development'}, {'code': '9', 'name': 'Urban development'}], [{'code': '8', 'name': 'Human development'}, {'code': '8', 'name': ''}], [{'code': '8', 'name': 'Human development'}, {'code': '2', 'name': 'Public sector governance'}], [{'code': '2', 'name': 'Public sector governance'}, {'code': '5', 'name': ''}], [{'code': '6', 'name': 'Social protection and risk management'}, {'code': '10', 'name': ''}], [{'code': '6', 'name': 'Social protection and risk management'}, {'code': '6', 'name': ''}], [{'code': '4', 'name': 'Financial and private sector development'}, {'code': '4', 'name': 'Financial and private sector development'}], [{'code': '4', 'name': 'Financial and private sector development'}, {'code': '8', 'name': ''}], [{'code': '10', 'name': 'Rural development'}, {'code': '10', 'name': 'Rural development'}], [{'code': '10', 'name': 'Rural development'}, {'code': '8', 'name': ''}], [{'code': '6', 'name': 'Social protection and risk management'}, {'code': '7', 'name': 'Social dev/gender/inclusion'}, {'code': '6', 'name': 'Social protection and risk management'}, {'code': '6', 'name': 'Social protection and risk management'}], [{'code': '5', 'name': 'Trade and integration'}, {'code': '10', 'name': 'Rural development'}, {'code': '4', 'name': 'Financial and private sector development'}, {'code': '5', 'name': 'Trade and integration'}], [{'code': '11', 'name': 'Environment and natural resources management'}, {'code': '11', 'name': 'Environment and natural resources management'}, {'code': '10', 'name': 'Rural development'}, {'code': '10', 'name': 'Rural development'}, {'code': '11', 'name': 'Environment and natural resources management'}], [{'code': '8', 'name': 'Human development'}, {'code': '8', 'name': 'Human development'}, {'code': '8', 'name': 'Human development'}], [{'code': '8', 'name': 'Human development'}, {'code': '11', 'name': ''}], [{'code': '6', 'name': 'Social protection and risk management'}, {'code': '11', 'name': 'Environment and natural resources management'}], [{'code': '2', 'name': 'Public sector governance'}, {'code': '11', 'name': ''}], [{'code': '7', 'name': 'Social dev/gender/inclusion'}, {'code': '11', 'name': 'Environment and natural resources management'}, {'code': '11', 'name': 'Environment and natural resources management'}, {'code': '11', 'name': 'Environment and natural resources management'}, {'code': '4', 'name': 'Financial and private sector development'}], [{'code': '2', 'name': 'Public sector governance'}, {'code': '5', 'name': 'Trade and integration'}, {'code': '1', 'name': 'Economic management'}, {'code': '4', 'name': 'Financial and private sector development'}], [{'code': '2', 'name': 'Public sector governance'}, {'code': '10', 'name': ''}], [{'code': '8', 'name': 'Human development'}, {'code': '11', 'name': ''}], [{'code': '10', 'name': 'Rural development'}, {'code': '6', 'name': 'Social protection and risk management'}, {'code': '11', 'name': 'Environment and natural resources management'}], [{'code': '2', 'name': 'Public sector governance'}, {'code': '10', 'name': 'Rural development'}], [{'code': '8', 'name': 'Human development'}, {'code': '11', 'name': ''}], [{'code': '2', 'name': 'Public sector governance'}, {'code': '1', 'name': ''}], [{'code': '11', 'name': 'Environment and natural resources management'}, {'code': '10', 'name': 'Rural development'}, {'code': '10', 'name': 'Rural development'}], [{'code': '2', 'name': 'Public sector governance'}, {'code': '3', 'name': ''}], [{'code': '11', 'name': 'Environment and natural resources management'}, {'code': '7', 'name': 'Social dev/gender/inclusion'}, {'code': '10', 'name': 'Rural development'}, {'code': '11', 'name': 'Environment and natural resources management'}, {'code': '11', 'name': 'Environment and natural resources management'}], [{'code': '8', 'name': 'Human development'}, {'code': '8', 'name': ''}], [{'code': '11', 'name': 'Environment and natural resources management'}, {'code': '6', 'name': 'Social protection and risk management'}, {'code': '6', 'name': 'Social protection and risk management'}, {'code': '11', 'name': 'Environment and natural resources management'}, {'code': '11', 'name': 'Environment and natural resources management'}], [{'code': '6', 'name': 'Social protection and risk management'}, {'code': '8', 'name': 'Human development'}, {'code': '2', 'name': 'Public sector governance'}, {'code': '1', 'name': 'Economic management'}], [{'code': '11', 'name': 'Environment and natural resources management'}, {'code': '7', 'name': 'Social dev/gender/inclusion'}, {'code': '11', 'name': 'Environment and natural resources management'}], [{'code': '6', 'name': 'Social protection and risk management'}, {'code': '11', 'name': 'Environment and natural resources management'}, {'code': '11', 'name': 'Environment and natural resources management'}], [{'code': '7', 'name': 'Social dev/gender/inclusion'}, {'code': '11', 'name': ''}], [{'code': '11', 'name': 'Environment and natural resources management'}, {'code': '11', 'name': 'Environment and natural resources management'}], [{'code': '1', 'name': 'Economic management'}, {'code': '1', 'name': 'Economic management'}], [{'code': '2', 'name': 'Public sector governance'}, {'code': '2', 'name': 'Public sector governance'}, {'code': '10', 'name': 'Rural development'}, {'code': '8', 'name': 'Human development'}, {'code': '4', 'name': 'Financial and private sector development'}], [{'code': '11', 'name': 'Environment and natural resources management'}, {'code': '11', 'name': 'Environment and natural resources management'}, {'code': '11', 'name': 'Environment and natural resources management'}, {'code': '11', 'name': 'Environment and natural resources management'}], [{'code': '11', 'name': 'Environment and natural resources management'}, {'code': '7', 'name': 'Social dev/gender/inclusion'}, {'code': '2', 'name': 'Public sector governance'}, {'code': '7', 'name': 'Social dev/gender/inclusion'}, {'code': '10', 'name': 'Rural development'}], [{'code': '7', 'name': 'Social dev/gender/inclusion'}, {'code': '10', 'name': 'Rural development'}, {'code': '11', 'name': 'Environment and natural resources management'}], [{'code': '7', 'name': 'Social dev/gender/inclusion'}, {'code': '10', 'name': 'Rural development'}, {'code': '10', 'name': 'Rural development'}], [{'code': '1', 'name': 'Economic management'}, {'code': '8', 'name': ''}], [{'code': '6', 'name': 'Social protection and risk management'}, {'code': '6', 'name': 'Social protection and risk management'}], [{'code': '2', 'name': 'Public sector governance'}, {'code': '2', 'name': ''}], [{'code': '2', 'name': 'Public sector governance'}, {'code': '7', 'name': ''}], [{'code': '10', 'name': 'Rural development'}, {'code': '7', 'name': 'Social dev/gender/inclusion'}, {'code': '10', 'name': 'Rural development'}, {'code': '10', 'name': 'Rural development'}], [{'code': '8', 'name': 'Human development'}, {'code': '7', 'name': 'Social dev/gender/inclusion'}], [{'code': '11', 'name': 'Environment and natural resources management'}, {'code': '10', 'name': 'Rural development'}, {'code': '7', 'name': 'Social dev/gender/inclusion'}], [{'code': '9', 'name': 'Urban development'}, {'code': '6', 'name': 'Social protection and risk management'}, {'code': '7', 'name': 'Social dev/gender/inclusion'}, {'code': '7', 'name': 'Social dev/gender/inclusion'}], [{'code': '2', 'name': 'Public sector governance'}, {'code': '2', 'name': 'Public sector governance'}, {'code': '2', 'name': 'Public sector governance'}], [{'code': '9', 'name': 'Urban development'}, {'code': '9', 'name': 'Urban development'}, {'code': '9', 'name': 'Urban development'}], [{'code': '6', 'name': 'Social protection and risk management'}, {'code': '8', 'name': 'Human development'}, {'code': '6', 'name': 'Social protection and risk management'}, {'code': '6', 'name': 'Social protection and risk management'}], [{'code': '7', 'name': 'Social dev/gender/inclusion'}, {'code': '8', 'name': 'Human development'}, {'code': '6', 'name': 'Social protection and risk management'}, {'code': '6', 'name': 'Social protection and risk management'}], [{'code': '6', 'name': 'Social protection and risk management'}, {'code': '1', 'name': ''}], [{'code': '6', 'name': 'Social protection and risk management'}, {'code': '6', 'name': 'Social protection and risk management'}, {'code': '10', 'name': 'Rural development'}], [{'code': '7', 'name': 'Social dev/gender/inclusion'}, {'code': '10', 'name': 'Rural development'}, {'code': '8', 'name': 'Human development'}, {'code': '8', 'name': 'Human development'}, {'code': '10', 'name': 'Rural development'}], [{'code': '10', 'name': 'Rural development'}, {'code': '7', 'name': ''}], [{'code': '6', 'name': 'Social protection and risk management'}, {'code': '11', 'name': 'Environment and natural resources management'}], [{'code': '8', 'name': 'Human development'}, {'code': '2', 'name': 'Public sector governance'}], [{'code': '6', 'name': 'Social protection and risk management'}, {'code': '5', 'name': 'Trade and integration'}, {'code': '5', 'name': 'Trade and integration'}, {'code': '5', 'name': 'Trade and integration'}], [{'code': '7', 'name': 'Social dev/gender/inclusion'}, {'code': '10', 'name': 'Rural development'}, {'code': '7', 'name': 'Social dev/gender/inclusion'}, {'code': '10', 'name': 'Rural development'}], [{'code': '7', 'name': 'Social dev/gender/inclusion'}, {'code': '11', 'name': 'Environment and natural resources management'}, {'code': '10', 'name': 'Rural development'}], [{'code': '6', 'name': 'Social protection and risk management'}, {'code': '2', 'name': 'Public sector governance'}, {'code': '2', 'name': 'Public sector governance'}, {'code': '2', 'name': 'Public sector governance'}, {'code': '2', 'name': 'Public sector governance'}], [{'code': '5', 'name': 'Trade and integration'}, {'code': '5', 'name': 'Trade and integration'}, {'code': '4', 'name': 'Financial and private sector development'}, {'code': '10', 'name': 'Rural development'}, {'code': '6', 'name': 'Social protection and risk management'}], [{'code': '8', 'name': 'Human development'}, {'code': '8', 'name': 'Human development'}, {'code': '8', 'name': 'Human development'}, {'code': '8', 'name': 'Human development'}, {'code': '8', 'name': 'Human development'}], [{'code': '6', 'name': 'Social protection and risk management'}, {'code': '10', 'name': 'Rural development'}, {'code': '6', 'name': 'Social protection and risk management'}, {'code': '6', 'name': 'Social protection and risk management'}, {'code': '10', 'name': 'Rural development'}], [{'code': '6', 'name': 'Social protection and risk management'}, {'code': '10', 'name': 'Rural development'}, {'code': '11', 'name': 'Environment and natural resources management'}, {'code': '10', 'name': 'Rural development'}, {'code': '10', 'name': 'Rural development'}], [{'code': '4', 'name': 'Financial and private sector development'}, {'code': '9', 'name': 'Urban development'}], [{'code': '11', 'name': 'Environment and natural resources management'}, {'code': '10', 'name': 'Rural development'}, {'code': '10', 'name': 'Rural development'}, {'code': '11', 'name': 'Environment and natural resources management'}, {'code': '10', 'name': 'Rural development'}], [{'code': '8', 'name': 'Human development'}, {'code': '2', 'name': 'Public sector governance'}, {'code': '6', 'name': 'Social protection and risk management'}, {'code': '4', 'name': 'Financial and private sector development'}, {'code': '8', 'name': 'Human development'}], [{'code': '10', 'name': 'Rural development'}, {'code': '10', 'name': ''}], [{'code': '11', 'name': 'Environment and natural resources management'}, {'code': '11', 'name': 'Environment and natural resources management'}], [{'code': '11', 'name': 'Environment and natural resources management'}, {'code': '10', 'name': 'Rural development'}], [{'code': '4', 'name': 'Financial and private sector development'}, {'code': '5', 'name': 'Trade and integration'}, {'code': '5', 'name': 'Trade and integration'}, {'code': '10', 'name': 'Rural development'}], [{'code': '6', 'name': 'Social protection and risk management'}, {'code': '4', 'name': 'Financial and private sector development'}, {'code': '7', 'name': 'Social dev/gender/inclusion'}, {'code': '7', 'name': 'Social dev/gender/inclusion'}], [{'code': '7', 'name': 'Social dev/gender/inclusion'}, {'code': '2', 'name': 'Public sector governance'}, {'code': '6', 'name': 'Social protection and risk management'}, {'code': '6', 'name': 'Social protection and risk management'}, {'code': '2', 'name': 'Public sector governance'}], [{'code': '4', 'name': 'Financial and private sector development'}, {'code': '7', 'name': 'Social dev/gender/inclusion'}, {'code': '4', 'name': 'Financial and private sector development'}, {'code': '4', 'name': 'Financial and private sector development'}], [{'code': '10', 'name': 'Rural development'}, {'code': '11', 'name': 'Environment and natural resources management'}], [{'code': '7', 'name': 'Social dev/gender/inclusion'}, {'code': '2', 'name': ''}], [{'code': '11', 'name': 'Environment and natural resources management'}, {'code': '6', 'name': 'Social protection and risk management'}, {'code': '1', 'name': 'Economic management'}, {'code': '11', 'name': 'Environment and natural resources management'}], [{'code': '2', 'name': 'Public sector governance'}, {'code': '3', 'name': 'Rule of law'}], [{'code': '4', 'name': 'Financial and private sector development'}, {'code': '4', 'name': 'Financial and private sector development'}, {'code': '1', 'name': 'Economic management'}, {'code': '2', 'name': 'Public sector governance'}], [{'code': '10', 'name': 'Rural development'}, {'code': '10', 'name': 'Rural development'}, {'code': '10', 'name': 'Rural development'}], [{'code': '2', 'name': 'Public sector governance'}, {'code': '1', 'name': 'Economic management'}, {'code': '4', 'name': 'Financial and private sector development'}, {'code': '2', 'name': 'Public sector governance'}], [{'code': '11', 'name': 'Environment and natural resources management'}, {'code': '11', 'name': 'Environment and natural resources management'}], [{'code': '5', 'name': 'Trade and integration'}, {'code': '6', 'name': ''}], [{'code': '11', 'name': 'Environment and natural resources management'}, {'code': '10', 'name': 'Rural development'}, {'code': '11', 'name': 'Environment and natural resources management'}, {'code': '6', 'name': 'Social protection and risk management'}], [{'code': '1', 'name': 'Economic management'}, {'code': '1', 'name': 'Economic management'}, {'code': '2', 'name': 'Public sector governance'}, {'code': '2', 'name': 'Public sector governance'}, {'code': '6', 'name': 'Social protection and risk management'}], [{'code': '2', 'name': 'Public sector governance'}, {'code': '1', 'name': 'Economic management'}, {'code': '6', 'name': 'Social protection and risk management'}], [{'code': '6', 'name': 'Social protection and risk management'}, {'code': '6', 'name': ''}], [{'code': '6', 'name': 'Social protection and risk management'}, {'code': '6', 'name': ''}], [{'code': '11', 'name': 'Environment and natural resources management'}, {'code': '4', 'name': ''}], [{'code': '11', 'name': 'Environment and natural resources management'}, {'code': '6', 'name': ''}], [{'code': '11', 'name': 'Environment and natural resources management'}, {'code': '2', 'name': 'Public sector governance'}, {'code': '8', 'name': 'Human development'}, {'code': '8', 'name': 'Human development'}], [{'code': '10', 'name': 'Rural development'}, {'code': '10', 'name': 'Rural development'}, {'code': '10', 'name': 'Rural development'}, {'code': '6', 'name': 'Social protection and risk management'}], [{'code': '4', 'name': 'Financial and private sector development'}, {'code': '8', 'name': 'Human development'}], [{'code': '8', 'name': 'Human development'}, {'code': '6', 'name': 'Social protection and risk management'}], [{'code': '1', 'name': 'Economic management'}, {'code': '8', 'name': ''}], [{'code': '6', 'name': 'Social protection and risk management'}, {'code': '1', 'name': 'Economic management'}], [{'code': '7', 'name': 'Social dev/gender/inclusion'}, {'code': '8', 'name': 'Human development'}], [{'code': '4', 'name': 'Financial and private sector development'}, {'code': '10', 'name': 'Rural development'}, {'code': '5', 'name': 'Trade and integration'}, {'code': '5', 'name': 'Trade and integration'}], [{'code': '10', 'name': 'Rural development'}, {'code': '2', 'name': ''}], [{'code': '7', 'name': 'Social dev/gender/inclusion'}, {'code': '7', 'name': 'Social dev/gender/inclusion'}, {'code': '10', 'name': 'Rural development'}], [{'code': '8', 'name': 'Human development'}, {'code': '10', 'name': 'Rural development'}, {'code': '2', 'name': 'Public sector governance'}, {'code': '2', 'name': 'Public sector governance'}], [{'code': '4', 'name': 'Financial and private sector development'}, {'code': '4', 'name': ''}], [{'code': '8', 'name': 'Human development'}, {'code': '4', 'name': 'Financial and private sector development'}, {'code': '7', 'name': 'Social dev/gender/inclusion'}], [{'code': '2', 'name': 'Public sector governance'}, {'code': '2', 'name': 'Public sector governance'}], [{'code': '11', 'name': 'Environment and natural resources management'}, {'code': '11', 'name': 'Environment and natural resources management'}], [{'code': '7', 'name': 'Social dev/gender/inclusion'}, {'code': '11', 'name': 'Environment and natural resources management'}, {'code': '3', 'name': 'Rule of law'}], [{'code': '4', 'name': 'Financial and private sector development'}, {'code': '7', 'name': 'Social dev/gender/inclusion'}], [{'code': '9', 'name': 'Urban development'}, {'code': '2', 'name': 'Public sector governance'}], [{'code': '4', 'name': 'Financial and private sector development'}, {'code': '2', 'name': 'Public sector governance'}, {'code': '4', 'name': 'Financial and private sector development'}, {'code': '2', 'name': 'Public sector governance'}], [{'code': '10', 'name': 'Rural development'}, {'code': '7', 'name': 'Social dev/gender/inclusion'}, {'code': '7', 'name': 'Social dev/gender/inclusion'}, {'code': '10', 'name': 'Rural development'}, {'code': '10', 'name': 'Rural development'}], [{'code': '7', 'name': 'Social dev/gender/inclusion'}, {'code': '3', 'name': 'Rule of law'}, {'code': '9', 'name': 'Urban development'}], [{'code': '8', 'name': 'Human development'}, {'code': '8', 'name': 'Human development'}, {'code': '8', 'name': 'Human development'}, {'code': '8', 'name': 'Human development'}, {'code': '8', 'name': 'Human development'}], [{'code': '10', 'name': 'Rural development'}, {'code': '10', 'name': 'Rural development'}], [{'code': '10', 'name': 'Rural development'}, {'code': '4', 'name': 'Financial and private sector development'}, {'code': '8', 'name': 'Human development'}, {'code': '10', 'name': 'Rural development'}, {'code': '10', 'name': 'Rural development'}], [{'code': '3', 'name': 'Rule of law'}, {'code': '7', 'name': 'Social dev/gender/inclusion'}], [{'code': '9', 'name': 'Urban development'}, {'code': '5', 'name': ''}], [{'code': '8', 'name': 'Human development'}, {'code': '11', 'name': 'Environment and natural resources management'}], [{'code': '8', 'name': 'Human development'}, {'code': '7', 'name': 'Social dev/gender/inclusion'}], [{'code': '11', 'name': 'Environment and natural resources management'}, {'code': '11', 'name': 'Environment and natural resources management'}], [{'code': '8', 'name': 'Human development'}, {'code': '7', 'name': 'Social dev/gender/inclusion'}], [{'code': '7', 'name': 'Social dev/gender/inclusion'}, {'code': '4', 'name': ''}], [{'code': '8', 'name': 'Human development'}, {'code': '11', 'name': ''}], [{'code': '10', 'name': 'Rural development'}, {'code': '10', 'name': 'Rural development'}, {'code': '7', 'name': 'Social dev/gender/inclusion'}, {'code': '10', 'name': 'Rural development'}, {'code': '10', 'name': 'Rural development'}], [{'code': '4', 'name': 'Financial and private sector development'}, {'code': '2', 'name': 'Public sector governance'}, {'code': '4', 'name': 'Financial and private sector development'}, {'code': '6', 'name': 'Social protection and risk management'}, {'code': '6', 'name': 'Social protection and risk management'}], [{'code': '9', 'name': 'Urban development'}, {'code': '11', 'name': 'Environment and natural resources management'}, {'code': '10', 'name': 'Rural development'}, {'code': '5', 'name': 'Trade and integration'}], [{'code': '7', 'name': 'Social dev/gender/inclusion'}, {'code': '9', 'name': 'Urban development'}, {'code': '8', 'name': 'Human development'}, {'code': '7', 'name': 'Social dev/gender/inclusion'}], [{'code': '8', 'name': 'Human development'}, {'code': '2', 'name': ''}], [{'code': '10', 'name': 'Rural development'}, {'code': '2', 'name': 'Public sector governance'}, {'code': '7', 'name': 'Social dev/gender/inclusion'}, {'code': '8', 'name': 'Human development'}, {'code': '2', 'name': 'Public sector governance'}], [{'code': '8', 'name': 'Human development'}, {'code': '2', 'name': ''}], [{'code': '8', 'name': 'Human development'}, {'code': '11', 'name': ''}], [{'code': '6', 'name': 'Social protection and risk management'}, {'code': '4', 'name': 'Financial and private sector development'}, {'code': '11', 'name': 'Environment and natural resources management'}, {'code': '10', 'name': 'Rural development'}], [{'code': '6', 'name': 'Social protection and risk management'}, {'code': '8', 'name': 'Human development'}, {'code': '8', 'name': 'Human development'}, {'code': '8', 'name': 'Human development'}], [{'code': '10', 'name': 'Rural development'}, {'code': '2', 'name': 'Public sector governance'}, {'code': '6', 'name': 'Social protection and risk management'}, {'code': '5', 'name': 'Trade and integration'}], [{'code': '10', 'name': 'Rural development'}, {'code': '10', 'name': 'Rural development'}, {'code': '7', 'name': 'Social dev/gender/inclusion'}, {'code': '11', 'name': 'Environment and natural resources management'}], [{'code': '8', 'name': 'Human development'}, {'code': '2', 'name': 'Public sector governance'}, {'code': '2', 'name': 'Public sector governance'}, {'code': '7', 'name': 'Social dev/gender/inclusion'}, {'code': '8', 'name': 'Human development'}], [{'code': '5', 'name': 'Trade and integration'}, {'code': '10', 'name': 'Rural development'}], [{'code': '5', 'name': 'Trade and integration'}, {'code': '4', 'name': 'Financial and private sector development'}, {'code': '10', 'name': 'Rural development'}], [{'code': '11', 'name': 'Environment and natural resources management'}, {'code': '2', 'name': 'Public sector governance'}, {'code': '7', 'name': 'Social dev/gender/inclusion'}, {'code': '11', 'name': 'Environment and natural resources management'}], [{'code': '2', 'name': 'Public sector governance'}, {'code': '6', 'name': 'Social protection and risk management'}, {'code': '10', 'name': 'Rural development'}, {'code': '7', 'name': 'Social dev/gender/inclusion'}, {'code': '2', 'name': 'Public sector governance'}], [{'code': '5', 'name': 'Trade and integration'}, {'code': '8', 'name': 'Human development'}, {'code': '6', 'name': 'Social protection and risk management'}], [{'code': '10', 'name': 'Rural development'}, {'code': '10', 'name': 'Rural development'}, {'code': '7', 'name': 'Social dev/gender/inclusion'}], [{'code': '11', 'name': 'Environment and natural resources management'}, {'code': '6', 'name': 'Social protection and risk management'}, {'code': '11', 'name': 'Environment and natural resources management'}, {'code': '7', 'name': 'Social dev/gender/inclusion'}, {'code': '2', 'name': 'Public sector governance'}], [{'code': '2', 'name': 'Public sector governance'}, {'code': '4', 'name': 'Financial and private sector development'}, {'code': '2', 'name': 'Public sector governance'}, {'code': '6', 'name': 'Social protection and risk management'}, {'code': '3', 'name': 'Rule of law'}], [{'code': '5', 'name': 'Trade and integration'}, {'code': '4', 'name': 'Financial and private sector development'}], [{'code': '11', 'name': ''}], [{'code': '5', 'name': 'Trade and integration'}, {'code': '10', 'name': 'Rural development'}], [{'code': '10', 'name': 'Rural development'}, {'code': '7', 'name': 'Social dev/gender/inclusion'}, {'code': '11', 'name': 'Environment and natural resources management'}, {'code': '7', 'name': 'Social dev/gender/inclusion'}], [{'code': '11', 'name': 'Environment and natural resources management'}, {'code': '11', 'name': ''}], [{'code': '11', 'name': 'Environment and natural resources management'}, {'code': '4', 'name': ''}], [{'code': '9', 'name': 'Urban development'}, {'code': '9', 'name': 'Urban development'}], [{'code': '4', 'name': 'Financial and private sector development'}, {'code': '9', 'name': 'Urban development'}], [{'code': '10', 'name': 'Rural development'}, {'code': '8', 'name': ''}], [{'code': '4', 'name': 'Financial and private sector development'}, {'code': '10', 'name': 'Rural development'}], [{'code': '2', 'name': 'Public sector governance'}, {'code': '3', 'name': 'Rule of law'}, {'code': '11', 'name': 'Environment and natural resources management'}], [{'code': '7', 'name': 'Social dev/gender/inclusion'}, {'code': '1', 'name': ''}], [{'code': '2', 'name': 'Public sector governance'}, {'code': '11', 'name': ''}], [{'code': '8', 'name': 'Human development'}, {'code': '7', 'name': 'Social dev/gender/inclusion'}, {'code': '7', 'name': 'Social dev/gender/inclusion'}, {'code': '8', 'name': 'Human development'}], [{'code': '10', 'name': 'Rural development'}, {'code': '11', 'name': 'Environment and natural resources management'}, {'code': '11', 'name': 'Environment and natural resources management'}, {'code': '10', 'name': 'Rural development'}], [{'code': '11', 'name': 'Environment and natural resources management'}, {'code': '11', 'name': 'Environment and natural resources management'}, {'code': '10', 'name': 'Rural development'}, {'code': '11', 'name': 'Environment and natural resources management'}], [{'code': '10', 'name': 'Rural development'}, {'code': '4', 'name': 'Financial and private sector development'}, {'code': '7', 'name': 'Social dev/gender/inclusion'}, {'code': '10', 'name': 'Rural development'}], [{'code': '8', 'name': 'Human development'}, {'code': '4', 'name': ''}], [{'code': '2', 'name': 'Public sector governance'}, {'code': '6', 'name': 'Social protection and risk management'}, {'code': '6', 'name': 'Social protection and risk management'}, {'code': '6', 'name': 'Social protection and risk management'}], [{'code': '11', 'name': 'Environment and natural resources management'}, {'code': '10', 'name': 'Rural development'}, {'code': '10', 'name': 'Rural development'}, {'code': '11', 'name': 'Environment and natural resources management'}], [{'code': '8', 'name': 'Human development'}, {'code': '2', 'name': 'Public sector governance'}, {'code': '2', 'name': 'Public sector governance'}, {'code': '8', 'name': 'Human development'}], [{'code': '9', 'name': 'Urban development'}, {'code': '6', 'name': 'Social protection and risk management'}, {'code': '6', 'name': 'Social protection and risk management'}, {'code': '9', 'name': 'Urban development'}], [{'code': '2', 'name': 'Public sector governance'}, {'code': '2', 'name': 'Public sector governance'}], [{'code': '10', 'name': 'Rural development'}, {'code': '11', 'name': ''}], [{'code': '8', 'name': 'Human development'}, {'code': '7', 'name': 'Social dev/gender/inclusion'}], [{'code': '11', 'name': 'Environment and natural resources management'}, {'code': '5', 'name': ''}], [{'code': '6', 'name': 'Social protection and risk management'}, {'code': '8', 'name': ''}], [{'code': '4', 'name': 'Financial and private sector development'}, {'code': '7', 'name': 'Social dev/gender/inclusion'}], [{'code': '8', 'name': 'Human development'}, {'code': '5', 'name': 'Trade and integration'}, {'code': '2', 'name': 'Public sector governance'}, {'code': '8', 'name': 'Human development'}], [{'code': '10', 'name': 'Rural development'}, {'code': '6', 'name': ''}], [{'code': '10', 'name': 'Rural development'}, {'code': '10', 'name': 'Rural development'}, {'code': '10', 'name': 'Rural development'}], [{'code': '9', 'name': 'Urban development'}, {'code': '8', 'name': 'Human development'}, {'code': '5', 'name': 'Trade and integration'}, {'code': '4', 'name': 'Financial and private sector development'}]]\n"
     ]
    }
   ],
   "source": [
    "# converting the dataframe series into list\n",
    "mlist = list(mjdata)\n",
    "print(mlist)"
   ]
  },
  {
   "cell_type": "code",
   "execution_count": 11,
   "metadata": {},
   "outputs": [
    {
     "name": "stdout",
     "output_type": "stream",
     "text": [
      "[{'code': '8', 'name': 'Human development'}, {'code': '11', 'name': ''}, {'code': '1', 'name': 'Economic management'}, {'code': '6', 'name': 'Social protection and risk management'}, {'code': '5', 'name': 'Trade and integration'}, {'code': '2', 'name': 'Public sector governance'}, {'code': '11', 'name': 'Environment and natural resources management'}, {'code': '6', 'name': 'Social protection and risk management'}, {'code': '7', 'name': 'Social dev/gender/inclusion'}, {'code': '7', 'name': 'Social dev/gender/inclusion'}, {'code': '5', 'name': 'Trade and integration'}, {'code': '4', 'name': 'Financial and private sector development'}, {'code': '6', 'name': 'Social protection and risk management'}, {'code': '6', 'name': ''}, {'code': '2', 'name': 'Public sector governance'}, {'code': '4', 'name': 'Financial and private sector development'}, {'code': '11', 'name': 'Environment and natural resources management'}, {'code': '8', 'name': ''}, {'code': '10', 'name': 'Rural development'}, {'code': '7', 'name': ''}, {'code': '2', 'name': 'Public sector governance'}, {'code': '2', 'name': 'Public sector governance'}, {'code': '2', 'name': 'Public sector governance'}, {'code': '10', 'name': 'Rural development'}, {'code': '2', 'name': ''}, {'code': '10', 'name': 'Rural development'}, {'code': '6', 'name': 'Social protection and risk management'}, {'code': '6', 'name': 'Social protection and risk management'}, {'code': '11', 'name': 'Environment and natural resources management'}, {'code': '4', 'name': ''}, {'code': '5', 'name': 'Trade and integration'}, {'code': '11', 'name': 'Environment and natural resources management'}, {'code': '10', 'name': 'Rural development'}, {'code': '6', 'name': 'Social protection and risk management'}, {'code': '6', 'name': 'Social protection and risk management'}, {'code': '6', 'name': 'Social protection and risk management'}, {'code': '10', 'name': 'Rural development'}, {'code': '11', 'name': 'Environment and natural resources management'}, {'code': '5', 'name': 'Trade and integration'}, {'code': '10', 'name': 'Rural development'}, {'code': '2', 'name': ''}, {'code': '8', 'name': 'Human development'}, {'code': '7', 'name': ''}, {'code': '8', 'name': 'Human development'}, {'code': '8', 'name': 'Human development'}, {'code': '2', 'name': 'Public sector governance'}, {'code': '7', 'name': 'Social dev/gender/inclusion'}, {'code': '8', 'name': 'Human development'}, {'code': '2', 'name': 'Public sector governance'}, {'code': '2', 'name': 'Public sector governance'}, {'code': '2', 'name': 'Public sector governance'}, {'code': '7', 'name': 'Social dev/gender/inclusion'}, {'code': '7', 'name': 'Social dev/gender/inclusion'}, {'code': '9', 'name': 'Urban development'}, {'code': '7', 'name': 'Social dev/gender/inclusion'}, {'code': '7', 'name': 'Social dev/gender/inclusion'}, {'code': '7', 'name': 'Social dev/gender/inclusion'}, {'code': '8', 'name': 'Human development'}, {'code': '8', 'name': 'Human development'}, {'code': '10', 'name': 'Rural development'}, {'code': '10', 'name': 'Rural development'}, {'code': '10', 'name': 'Rural development'}, {'code': '6', 'name': 'Social protection and risk management'}, {'code': '11', 'name': 'Environment and natural resources management'}, {'code': '11', 'name': 'Environment and natural resources management'}, {'code': '11', 'name': 'Environment and natural resources management'}, {'code': '4', 'name': 'Financial and private sector development'}, {'code': '5', 'name': 'Trade and integration'}, {'code': '2', 'name': 'Public sector governance'}, {'code': '8', 'name': 'Human development'}, {'code': '11', 'name': 'Environment and natural resources management'}, {'code': '2', 'name': 'Public sector governance'}, {'code': '5', 'name': 'Trade and integration'}, {'code': '6', 'name': 'Social protection and risk management'}, {'code': '10', 'name': 'Rural development'}, {'code': '10', 'name': 'Rural development'}, {'code': '7', 'name': 'Social dev/gender/inclusion'}, {'code': '7', 'name': 'Social dev/gender/inclusion'}, {'code': '11', 'name': 'Environment and natural resources management'}, {'code': '8', 'name': 'Human development'}, {'code': '4', 'name': ''}, {'code': '11', 'name': 'Environment and natural resources management'}, {'code': '11', 'name': 'Environment and natural resources management'}, {'code': '11', 'name': 'Environment and natural resources management'}, {'code': '11', 'name': 'Environment and natural resources management'}, {'code': '11', 'name': 'Environment and natural resources management'}, {'code': '4', 'name': 'Financial and private sector development'}, {'code': '6', 'name': 'Social protection and risk management'}, {'code': '1', 'name': 'Economic management'}, {'code': '4', 'name': 'Financial and private sector development'}, {'code': '2', 'name': 'Public sector governance'}, {'code': '8', 'name': 'Human development'}, {'code': '5', 'name': 'Trade and integration'}, {'code': '5', 'name': 'Trade and integration'}, {'code': '7', 'name': 'Social dev/gender/inclusion'}, {'code': '10', 'name': 'Rural development'}, {'code': '4', 'name': 'Financial and private sector development'}, {'code': '10', 'name': 'Rural development'}, {'code': '11', 'name': ''}, {'code': '6', 'name': 'Social protection and risk management'}, {'code': '7', 'name': ''}, {'code': '11', 'name': 'Environment and natural resources management'}, {'code': '11', 'name': 'Environment and natural resources management'}, {'code': '6', 'name': 'Social protection and risk management'}, {'code': '11', 'name': 'Environment and natural resources management'}, {'code': '11', 'name': 'Environment and natural resources management'}, {'code': '2', 'name': 'Public sector governance'}, {'code': '4', 'name': ''}, {'code': '11', 'name': 'Environment and natural resources management'}, {'code': '6', 'name': 'Social protection and risk management'}, {'code': '11', 'name': 'Environment and natural resources management'}, {'code': '11', 'name': 'Environment and natural resources management'}, {'code': '4', 'name': 'Financial and private sector development'}, {'code': '8', 'name': 'Human development'}, {'code': '2', 'name': 'Public sector governance'}, {'code': '2', 'name': 'Public sector governance'}, {'code': '2', 'name': 'Public sector governance'}, {'code': '8', 'name': ''}, {'code': '11', 'name': 'Environment and natural resources management'}, {'code': '7', 'name': ''}, {'code': '8', 'name': 'Human development'}, {'code': '10', 'name': ''}, {'code': '2', 'name': 'Public sector governance'}, {'code': '10', 'name': 'Rural development'}, {'code': '4', 'name': 'Financial and private sector development'}, {'code': '4', 'name': 'Financial and private sector development'}, {'code': '11', 'name': 'Environment and natural resources management'}, {'code': '11', 'name': ''}, {'code': '4', 'name': 'Financial and private sector development'}, {'code': '4', 'name': 'Financial and private sector development'}, {'code': '7', 'name': 'Social dev/gender/inclusion'}, {'code': '6', 'name': 'Social protection and risk management'}, {'code': '2', 'name': 'Public sector governance'}, {'code': '11', 'name': 'Environment and natural resources management'}, {'code': '4', 'name': ''}, {'code': '11', 'name': 'Environment and natural resources management'}, {'code': '11', 'name': 'Environment and natural resources management'}, {'code': '11', 'name': 'Environment and natural resources management'}, {'code': '11', 'name': 'Environment and natural resources management'}, {'code': '11', 'name': 'Environment and natural resources management'}, {'code': '11', 'name': 'Environment and natural resources management'}, {'code': '11', 'name': 'Environment and natural resources management'}, {'code': '10', 'name': 'Rural development'}, {'code': '2', 'name': 'Public sector governance'}, {'code': '5', 'name': 'Trade and integration'}, {'code': '2', 'name': 'Public sector governance'}, {'code': '8', 'name': 'Human development'}, {'code': '8', 'name': 'Human development'}, {'code': '8', 'name': 'Human development'}, {'code': '11', 'name': 'Environment and natural resources management'}, {'code': '7', 'name': 'Social dev/gender/inclusion'}, {'code': '11', 'name': 'Environment and natural resources management'}, {'code': '11', 'name': 'Environment and natural resources management'}, {'code': '11', 'name': 'Environment and natural resources management'}, {'code': '4', 'name': 'Financial and private sector development'}, {'code': '4', 'name': 'Financial and private sector development'}, {'code': '11', 'name': 'Environment and natural resources management'}, {'code': '2', 'name': 'Public sector governance'}, {'code': '10', 'name': 'Rural development'}, {'code': '10', 'name': 'Rural development'}, {'code': '11', 'name': 'Environment and natural resources management'}, {'code': '11', 'name': 'Environment and natural resources management'}, {'code': '2', 'name': 'Public sector governance'}, {'code': '7', 'name': 'Social dev/gender/inclusion'}, {'code': '2', 'name': 'Public sector governance'}, {'code': '10', 'name': ''}, {'code': '5', 'name': 'Trade and integration'}, {'code': '6', 'name': 'Social protection and risk management'}, {'code': '10', 'name': 'Rural development'}, {'code': '10', 'name': 'Rural development'}, {'code': '11', 'name': 'Environment and natural resources management'}, {'code': '4', 'name': ''}, {'code': '6', 'name': 'Social protection and risk management'}, {'code': '2', 'name': ''}, {'code': '6', 'name': 'Social protection and risk management'}, {'code': '1', 'name': 'Economic management'}, {'code': '2', 'name': 'Public sector governance'}, {'code': '11', 'name': 'Environment and natural resources management'}, {'code': '2', 'name': 'Public sector governance'}, {'code': '4', 'name': 'Financial and private sector development'}, {'code': '7', 'name': 'Social dev/gender/inclusion'}, {'code': '10', 'name': 'Rural development'}, {'code': '5', 'name': 'Trade and integration'}, {'code': '9', 'name': 'Urban development'}, {'code': '11', 'name': 'Environment and natural resources management'}, {'code': '7', 'name': ''}, {'code': '8', 'name': 'Human development'}, {'code': '11', 'name': ''}, {'code': '7', 'name': 'Social dev/gender/inclusion'}, {'code': '6', 'name': 'Social protection and risk management'}, {'code': '8', 'name': 'Human development'}, {'code': '8', 'name': 'Human development'}, {'code': '8', 'name': 'Human development'}, {'code': '4', 'name': 'Financial and private sector development'}, {'code': '9', 'name': 'Urban development'}, {'code': '10', 'name': 'Rural development'}, {'code': '11', 'name': 'Environment and natural resources management'}, {'code': '4', 'name': ''}, {'code': '4', 'name': 'Financial and private sector development'}, {'code': '4', 'name': 'Financial and private sector development'}, {'code': '9', 'name': 'Urban development'}, {'code': '5', 'name': ''}, {'code': '2', 'name': 'Public sector governance'}, {'code': '5', 'name': 'Trade and integration'}, {'code': '1', 'name': 'Economic management'}, {'code': '1', 'name': 'Economic management'}, {'code': '8', 'name': 'Human development'}, {'code': '4', 'name': 'Financial and private sector development'}, {'code': '4', 'name': 'Financial and private sector development'}, {'code': '11', 'name': 'Environment and natural resources management'}, {'code': '11', 'name': ''}, {'code': '2', 'name': 'Public sector governance'}, {'code': '1', 'name': ''}, {'code': '6', 'name': 'Social protection and risk management'}, {'code': '6', 'name': 'Social protection and risk management'}, {'code': '6', 'name': 'Social protection and risk management'}, {'code': '2', 'name': 'Public sector governance'}, {'code': '10', 'name': ''}, {'code': '2', 'name': 'Public sector governance'}, {'code': '4', 'name': 'Financial and private sector development'}, {'code': '1', 'name': 'Economic management'}, {'code': '6', 'name': 'Social protection and risk management'}, {'code': '1', 'name': 'Economic management'}, {'code': '1', 'name': 'Economic management'}, {'code': '7', 'name': 'Social dev/gender/inclusion'}, {'code': '5', 'name': 'Trade and integration'}, {'code': '2', 'name': 'Public sector governance'}, {'code': '2', 'name': 'Public sector governance'}, {'code': '8', 'name': 'Human development'}, {'code': '8', 'name': 'Human development'}, {'code': '4', 'name': ''}, {'code': '2', 'name': 'Public sector governance'}, {'code': '6', 'name': ''}, {'code': '11', 'name': ''}, {'code': '2', 'name': 'Public sector governance'}, {'code': '4', 'name': ''}, {'code': '7', 'name': 'Social dev/gender/inclusion'}, {'code': '8', 'name': 'Human development'}, {'code': '8', 'name': 'Human development'}, {'code': '8', 'name': 'Human development'}, {'code': '8', 'name': ''}, {'code': '4', 'name': 'Financial and private sector development'}, {'code': '11', 'name': ''}, {'code': '11', 'name': 'Environment and natural resources management'}, {'code': '4', 'name': 'Financial and private sector development'}, {'code': '8', 'name': 'Human development'}, {'code': '5', 'name': 'Trade and integration'}, {'code': '4', 'name': 'Financial and private sector development'}, {'code': '7', 'name': 'Social dev/gender/inclusion'}, {'code': '1', 'name': 'Economic management'}, {'code': '6', 'name': 'Social protection and risk management'}, {'code': '4', 'name': 'Financial and private sector development'}, {'code': '3', 'name': 'Rule of law'}, {'code': '4', 'name': 'Financial and private sector development'}, {'code': '4', 'name': 'Financial and private sector development'}, {'code': '10', 'name': 'Rural development'}, {'code': '10', 'name': 'Rural development'}, {'code': '10', 'name': 'Rural development'}, {'code': '10', 'name': 'Rural development'}, {'code': '10', 'name': 'Rural development'}, {'code': '7', 'name': 'Social dev/gender/inclusion'}, {'code': '10', 'name': 'Rural development'}, {'code': '10', 'name': 'Rural development'}, {'code': '5', 'name': 'Trade and integration'}, {'code': '4', 'name': 'Financial and private sector development'}, {'code': '5', 'name': 'Trade and integration'}, {'code': '5', 'name': 'Trade and integration'}, {'code': '5', 'name': 'Trade and integration'}, {'code': '2', 'name': 'Public sector governance'}, {'code': '10', 'name': 'Rural development'}, {'code': '11', 'name': 'Environment and natural resources management'}, {'code': '10', 'name': 'Rural development'}, {'code': '10', 'name': 'Rural development'}, {'code': '10', 'name': 'Rural development'}, {'code': '4', 'name': 'Financial and private sector development'}, {'code': '10', 'name': ''}, {'code': '2', 'name': ''}, {'code': '11', 'name': ''}, {'code': '8', 'name': 'Human development'}, {'code': '8', 'name': 'Human development'}, {'code': '2', 'name': 'Public sector governance'}, {'code': '5', 'name': 'Trade and integration'}, {'code': '6', 'name': 'Social protection and risk management'}, {'code': '11', 'name': 'Environment and natural resources management'}, {'code': '11', 'name': 'Environment and natural resources management'}, {'code': '4', 'name': 'Financial and private sector development'}, {'code': '5', 'name': 'Trade and integration'}, {'code': '11', 'name': 'Environment and natural resources management'}, {'code': '2', 'name': 'Public sector governance'}, {'code': '2', 'name': 'Public sector governance'}, {'code': '2', 'name': 'Public sector governance'}, {'code': '11', 'name': 'Environment and natural resources management'}, {'code': '6', 'name': 'Social protection and risk management'}, {'code': '7', 'name': 'Social dev/gender/inclusion'}, {'code': '11', 'name': 'Environment and natural resources management'}, {'code': '7', 'name': 'Social dev/gender/inclusion'}, {'code': '4', 'name': 'Financial and private sector development'}, {'code': '2', 'name': ''}, {'code': '7', 'name': 'Social dev/gender/inclusion'}, {'code': '6', 'name': 'Social protection and risk management'}, {'code': '6', 'name': 'Social protection and risk management'}, {'code': '2', 'name': 'Public sector governance'}, {'code': '8', 'name': 'Human development'}, {'code': '10', 'name': 'Rural development'}, {'code': '7', 'name': 'Social dev/gender/inclusion'}, {'code': '8', 'name': 'Human development'}, {'code': '2', 'name': 'Public sector governance'}, {'code': '8', 'name': 'Human development'}, {'code': '6', 'name': 'Social protection and risk management'}, {'code': '7', 'name': 'Social dev/gender/inclusion'}, {'code': '2', 'name': 'Public sector governance'}, {'code': '6', 'name': 'Social protection and risk management'}, {'code': '2', 'name': 'Public sector governance'}, {'code': '4', 'name': 'Financial and private sector development'}, {'code': '10', 'name': 'Rural development'}, {'code': '8', 'name': 'Human development'}, {'code': '4', 'name': 'Financial and private sector development'}, {'code': '5', 'name': 'Trade and integration'}, {'code': '9', 'name': 'Urban development'}, {'code': '2', 'name': 'Public sector governance'}, {'code': '9', 'name': 'Urban development'}, {'code': '6', 'name': 'Social protection and risk management'}, {'code': '6', 'name': 'Social protection and risk management'}, {'code': '8', 'name': 'Human development'}, {'code': '8', 'name': 'Human development'}, {'code': '7', 'name': 'Social dev/gender/inclusion'}, {'code': '6', 'name': 'Social protection and risk management'}, {'code': '6', 'name': 'Social protection and risk management'}, {'code': '6', 'name': 'Social protection and risk management'}, {'code': '6', 'name': 'Social protection and risk management'}, {'code': '6', 'name': 'Social protection and risk management'}, {'code': '4', 'name': 'Financial and private sector development'}, {'code': '2', 'name': ''}, {'code': '9', 'name': ''}, {'code': '6', 'name': 'Social protection and risk management'}, {'code': '10', 'name': 'Rural development'}, {'code': '10', 'name': 'Rural development'}, {'code': '10', 'name': 'Rural development'}, {'code': '11', 'name': 'Environment and natural resources management'}, {'code': '2', 'name': 'Public sector governance'}, {'code': '2', 'name': 'Public sector governance'}, {'code': '9', 'name': 'Urban development'}, {'code': '6', 'name': 'Social protection and risk management'}, {'code': '11', 'name': 'Environment and natural resources management'}, {'code': '10', 'name': 'Rural development'}, {'code': '2', 'name': 'Public sector governance'}, {'code': '2', 'name': 'Public sector governance'}, {'code': '6', 'name': 'Social protection and risk management'}, {'code': '10', 'name': 'Rural development'}, {'code': '2', 'name': 'Public sector governance'}, {'code': '2', 'name': 'Public sector governance'}, {'code': '2', 'name': 'Public sector governance'}, {'code': '2', 'name': 'Public sector governance'}, {'code': '10', 'name': 'Rural development'}, {'code': '9', 'name': 'Urban development'}, {'code': '2', 'name': 'Public sector governance'}, {'code': '9', 'name': 'Urban development'}, {'code': '1', 'name': 'Economic management'}, {'code': '2', 'name': 'Public sector governance'}, {'code': '3', 'name': 'Rule of law'}, {'code': '6', 'name': 'Social protection and risk management'}, {'code': '6', 'name': 'Social protection and risk management'}, {'code': '4', 'name': 'Financial and private sector development'}, {'code': '1', 'name': ''}, {'code': '4', 'name': 'Financial and private sector development'}, {'code': '7', 'name': ''}, {'code': '6', 'name': 'Social protection and risk management'}, {'code': '2', 'name': 'Public sector governance'}, {'code': '11', 'name': 'Environment and natural resources management'}, {'code': '9', 'name': 'Urban development'}, {'code': '2', 'name': 'Public sector governance'}, {'code': '8', 'name': 'Human development'}, {'code': '2', 'name': 'Public sector governance'}, {'code': '8', 'name': 'Human development'}, {'code': '11', 'name': 'Environment and natural resources management'}, {'code': '11', 'name': 'Environment and natural resources management'}, {'code': '5', 'name': 'Trade and integration'}, {'code': '11', 'name': 'Environment and natural resources management'}, {'code': '4', 'name': 'Financial and private sector development'}, {'code': '6', 'name': 'Social protection and risk management'}, {'code': '2', 'name': 'Public sector governance'}, {'code': '7', 'name': 'Social dev/gender/inclusion'}, {'code': '2', 'name': 'Public sector governance'}, {'code': '2', 'name': 'Public sector governance'}, {'code': '6', 'name': 'Social protection and risk management'}, {'code': '6', 'name': 'Social protection and risk management'}, {'code': '8', 'name': 'Human development'}, {'code': '8', 'name': 'Human development'}, {'code': '2', 'name': 'Public sector governance'}, {'code': '11', 'name': ''}, {'code': '4', 'name': 'Financial and private sector development'}, {'code': '10', 'name': ''}, {'code': '10', 'name': 'Rural development'}, {'code': '5', 'name': 'Trade and integration'}, {'code': '4', 'name': 'Financial and private sector development'}, {'code': '4', 'name': 'Financial and private sector development'}, {'code': '5', 'name': 'Trade and integration'}, {'code': '5', 'name': 'Trade and integration'}, {'code': '4', 'name': 'Financial and private sector development'}, {'code': '4', 'name': 'Financial and private sector development'}, {'code': '2', 'name': 'Public sector governance'}, {'code': '6', 'name': 'Social protection and risk management'}, {'code': '10', 'name': 'Rural development'}, {'code': '11', 'name': 'Environment and natural resources management'}, {'code': '2', 'name': 'Public sector governance'}, {'code': '4', 'name': ''}, {'code': '4', 'name': 'Financial and private sector development'}, {'code': '11', 'name': ''}, {'code': '11', 'name': 'Environment and natural resources management'}, {'code': '7', 'name': 'Social dev/gender/inclusion'}, {'code': '11', 'name': 'Environment and natural resources management'}, {'code': '11', 'name': 'Environment and natural resources management'}, {'code': '11', 'name': 'Environment and natural resources management'}, {'code': '8', 'name': 'Human development'}, {'code': '9', 'name': 'Urban development'}, {'code': '3', 'name': 'Rule of law'}, {'code': '5', 'name': 'Trade and integration'}, {'code': '4', 'name': 'Financial and private sector development'}, {'code': '6', 'name': 'Social protection and risk management'}, {'code': '11', 'name': 'Environment and natural resources management'}, {'code': '2', 'name': 'Public sector governance'}, {'code': '11', 'name': 'Environment and natural resources management'}, {'code': '11', 'name': 'Environment and natural resources management'}, {'code': '11', 'name': 'Environment and natural resources management'}, {'code': '10', 'name': ''}, {'code': '4', 'name': 'Financial and private sector development'}, {'code': '7', 'name': 'Social dev/gender/inclusion'}, {'code': '4', 'name': 'Financial and private sector development'}, {'code': '6', 'name': 'Social protection and risk management'}, {'code': '6', 'name': 'Social protection and risk management'}, {'code': '6', 'name': 'Social protection and risk management'}, {'code': '2', 'name': 'Public sector governance'}, {'code': '11', 'name': 'Environment and natural resources management'}, {'code': '8', 'name': ''}, {'code': '11', 'name': 'Environment and natural resources management'}, {'code': '10', 'name': ''}, {'code': '6', 'name': 'Social protection and risk management'}, {'code': '10', 'name': 'Rural development'}, {'code': '10', 'name': 'Rural development'}, {'code': '7', 'name': 'Social dev/gender/inclusion'}, {'code': '10', 'name': 'Rural development'}, {'code': '7', 'name': 'Social dev/gender/inclusion'}, {'code': '4', 'name': 'Financial and private sector development'}, {'code': '11', 'name': 'Environment and natural resources management'}, {'code': '10', 'name': 'Rural development'}, {'code': '11', 'name': 'Environment and natural resources management'}, {'code': '11', 'name': ''}, {'code': '9', 'name': 'Urban development'}, {'code': '4', 'name': 'Financial and private sector development'}, {'code': '11', 'name': 'Environment and natural resources management'}, {'code': '6', 'name': 'Social protection and risk management'}, {'code': '2', 'name': 'Public sector governance'}, {'code': '4', 'name': 'Financial and private sector development'}, {'code': '1', 'name': 'Economic management'}, {'code': '1', 'name': 'Economic management'}, {'code': '4', 'name': 'Financial and private sector development'}, {'code': '2', 'name': 'Public sector governance'}, {'code': '10', 'name': 'Rural development'}, {'code': '1', 'name': 'Economic management'}, {'code': '8', 'name': 'Human development'}, {'code': '9', 'name': ''}, {'code': '8', 'name': 'Human development'}, {'code': '2', 'name': ''}, {'code': '11', 'name': 'Environment and natural resources management'}, {'code': '11', 'name': 'Environment and natural resources management'}, {'code': '8', 'name': 'Human development'}, {'code': '8', 'name': 'Human development'}, {'code': '8', 'name': 'Human development'}, {'code': '8', 'name': 'Human development'}, {'code': '8', 'name': 'Human development'}, {'code': '11', 'name': 'Environment and natural resources management'}, {'code': '9', 'name': ''}, {'code': '11', 'name': 'Environment and natural resources management'}, {'code': '11', 'name': 'Environment and natural resources management'}, {'code': '11', 'name': 'Environment and natural resources management'}, {'code': '2', 'name': 'Public sector governance'}, {'code': '11', 'name': 'Environment and natural resources management'}, {'code': '11', 'name': 'Environment and natural resources management'}, {'code': '10', 'name': 'Rural development'}, {'code': '10', 'name': 'Rural development'}, {'code': '5', 'name': 'Trade and integration'}, {'code': '4', 'name': 'Financial and private sector development'}, {'code': '4', 'name': 'Financial and private sector development'}, {'code': '5', 'name': 'Trade and integration'}, {'code': '8', 'name': 'Human development'}, {'code': '8', 'name': 'Human development'}, {'code': '2', 'name': ''}, {'code': '5', 'name': 'Trade and integration'}, {'code': '4', 'name': 'Financial and private sector development'}, {'code': '2', 'name': 'Public sector governance'}, {'code': '8', 'name': 'Human development'}, {'code': '2', 'name': 'Public sector governance'}, {'code': '7', 'name': 'Social dev/gender/inclusion'}, {'code': '3', 'name': ''}, {'code': '4', 'name': 'Financial and private sector development'}, {'code': '6', 'name': 'Social protection and risk management'}, {'code': '2', 'name': 'Public sector governance'}, {'code': '1', 'name': 'Economic management'}, {'code': '5', 'name': 'Trade and integration'}, {'code': '6', 'name': 'Social protection and risk management'}, {'code': '2', 'name': 'Public sector governance'}, {'code': '2', 'name': 'Public sector governance'}, {'code': '2', 'name': 'Public sector governance'}, {'code': '11', 'name': 'Environment and natural resources management'}, {'code': '11', 'name': 'Environment and natural resources management'}, {'code': '10', 'name': 'Rural development'}, {'code': '10', 'name': 'Rural development'}, {'code': '2', 'name': 'Public sector governance'}, {'code': '3', 'name': 'Rule of law'}, {'code': '3', 'name': 'Rule of law'}, {'code': '7', 'name': 'Social dev/gender/inclusion'}, {'code': '11', 'name': 'Environment and natural resources management'}, {'code': '9', 'name': 'Urban development'}, {'code': '9', 'name': 'Urban development'}, {'code': '8', 'name': 'Human development'}, {'code': '6', 'name': 'Social protection and risk management'}, {'code': '2', 'name': 'Public sector governance'}, {'code': '2', 'name': 'Public sector governance'}, {'code': '2', 'name': 'Public sector governance'}, {'code': '11', 'name': 'Environment and natural resources management'}, {'code': '11', 'name': 'Environment and natural resources management'}, {'code': '11', 'name': 'Environment and natural resources management'}, {'code': '10', 'name': 'Rural development'}, {'code': '11', 'name': 'Environment and natural resources management'}, {'code': '6', 'name': 'Social protection and risk management'}, {'code': '8', 'name': 'Human development'}, {'code': '10', 'name': 'Rural development'}, {'code': '10', 'name': 'Rural development'}, {'code': '11', 'name': 'Environment and natural resources management'}, {'code': '4', 'name': 'Financial and private sector development'}, {'code': '11', 'name': 'Environment and natural resources management'}, {'code': '10', 'name': 'Rural development'}, {'code': '4', 'name': ''}, {'code': '5', 'name': 'Trade and integration'}, {'code': '5', 'name': 'Trade and integration'}, {'code': '9', 'name': 'Urban development'}, {'code': '8', 'name': 'Human development'}, {'code': '6', 'name': 'Social protection and risk management'}, {'code': '8', 'name': 'Human development'}, {'code': '6', 'name': 'Social protection and risk management'}, {'code': '8', 'name': 'Human development'}, {'code': '8', 'name': 'Human development'}, {'code': '6', 'name': 'Social protection and risk management'}, {'code': '4', 'name': 'Financial and private sector development'}, {'code': '4', 'name': 'Financial and private sector development'}, {'code': '7', 'name': 'Social dev/gender/inclusion'}, {'code': '2', 'name': 'Public sector governance'}, {'code': '8', 'name': 'Human development'}, {'code': '10', 'name': 'Rural development'}, {'code': '8', 'name': 'Human development'}, {'code': '6', 'name': 'Social protection and risk management'}, {'code': '8', 'name': 'Human development'}, {'code': '6', 'name': 'Social protection and risk management'}, {'code': '6', 'name': 'Social protection and risk management'}, {'code': '6', 'name': 'Social protection and risk management'}, {'code': '6', 'name': 'Social protection and risk management'}, {'code': '2', 'name': 'Public sector governance'}, {'code': '2', 'name': 'Public sector governance'}, {'code': '2', 'name': 'Public sector governance'}, {'code': '4', 'name': 'Financial and private sector development'}, {'code': '5', 'name': 'Trade and integration'}, {'code': '8', 'name': 'Human development'}, {'code': '11', 'name': ''}, {'code': '11', 'name': 'Environment and natural resources management'}, {'code': '7', 'name': 'Social dev/gender/inclusion'}, {'code': '11', 'name': 'Environment and natural resources management'}, {'code': '11', 'name': 'Environment and natural resources management'}, {'code': '11', 'name': 'Environment and natural resources management'}, {'code': '11', 'name': 'Environment and natural resources management'}, {'code': '11', 'name': 'Environment and natural resources management'}, {'code': '9', 'name': 'Urban development'}, {'code': '2', 'name': 'Public sector governance'}, {'code': '4', 'name': 'Financial and private sector development'}, {'code': '10', 'name': 'Rural development'}, {'code': '8', 'name': 'Human development'}, {'code': '8', 'name': 'Human development'}, {'code': '8', 'name': 'Human development'}, {'code': '2', 'name': 'Public sector governance'}, {'code': '2', 'name': 'Public sector governance'}, {'code': '2', 'name': 'Public sector governance'}, {'code': '7', 'name': 'Social dev/gender/inclusion'}, {'code': '2', 'name': 'Public sector governance'}, {'code': '4', 'name': 'Financial and private sector development'}, {'code': '5', 'name': 'Trade and integration'}, {'code': '5', 'name': 'Trade and integration'}, {'code': '9', 'name': 'Urban development'}, {'code': '11', 'name': 'Environment and natural resources management'}, {'code': '11', 'name': 'Environment and natural resources management'}, {'code': '11', 'name': 'Environment and natural resources management'}, {'code': '7', 'name': 'Social dev/gender/inclusion'}, {'code': '2', 'name': ''}, {'code': '2', 'name': 'Public sector governance'}, {'code': '2', 'name': 'Public sector governance'}, {'code': '2', 'name': 'Public sector governance'}, {'code': '11', 'name': 'Environment and natural resources management'}, {'code': '6', 'name': 'Social protection and risk management'}, {'code': '6', 'name': 'Social protection and risk management'}, {'code': '9', 'name': 'Urban development'}, {'code': '9', 'name': 'Urban development'}, {'code': '5', 'name': 'Trade and integration'}, {'code': '2', 'name': 'Public sector governance'}, {'code': '5', 'name': 'Trade and integration'}, {'code': '10', 'name': 'Rural development'}, {'code': '11', 'name': 'Environment and natural resources management'}, {'code': '4', 'name': 'Financial and private sector development'}, {'code': '4', 'name': 'Financial and private sector development'}, {'code': '5', 'name': 'Trade and integration'}, {'code': '2', 'name': 'Public sector governance'}, {'code': '2', 'name': 'Public sector governance'}, {'code': '7', 'name': 'Social dev/gender/inclusion'}, {'code': '2', 'name': 'Public sector governance'}, {'code': '6', 'name': ''}, {'code': '8', 'name': 'Human development'}, {'code': '8', 'name': 'Human development'}, {'code': '8', 'name': 'Human development'}, {'code': '8', 'name': 'Human development'}, {'code': '7', 'name': 'Social dev/gender/inclusion'}, {'code': '6', 'name': 'Social protection and risk management'}, {'code': '8', 'name': 'Human development'}, {'code': '6', 'name': 'Social protection and risk management'}, {'code': '8', 'name': 'Human development'}, {'code': '8', 'name': 'Human development'}, {'code': '7', 'name': 'Social dev/gender/inclusion'}, {'code': '10', 'name': 'Rural development'}, {'code': '7', 'name': 'Social dev/gender/inclusion'}, {'code': '8', 'name': 'Human development'}, {'code': '8', 'name': 'Human development'}, {'code': '8', 'name': 'Human development'}, {'code': '6', 'name': 'Social protection and risk management'}, {'code': '8', 'name': 'Human development'}, {'code': '7', 'name': 'Social dev/gender/inclusion'}, {'code': '11', 'name': 'Environment and natural resources management'}, {'code': '11', 'name': 'Environment and natural resources management'}, {'code': '11', 'name': 'Environment and natural resources management'}, {'code': '5', 'name': 'Trade and integration'}, {'code': '11', 'name': 'Environment and natural resources management'}, {'code': '6', 'name': 'Social protection and risk management'}, {'code': '8', 'name': 'Human development'}, {'code': '8', 'name': 'Human development'}, {'code': '6', 'name': 'Social protection and risk management'}, {'code': '8', 'name': 'Human development'}, {'code': '8', 'name': 'Human development'}, {'code': '5', 'name': 'Trade and integration'}, {'code': '2', 'name': 'Public sector governance'}, {'code': '6', 'name': 'Social protection and risk management'}, {'code': '2', 'name': 'Public sector governance'}, {'code': '10', 'name': 'Rural development'}, {'code': '1', 'name': 'Economic management'}, {'code': '1', 'name': 'Economic management'}, {'code': '2', 'name': 'Public sector governance'}, {'code': '9', 'name': 'Urban development'}, {'code': '11', 'name': 'Environment and natural resources management'}, {'code': '11', 'name': 'Environment and natural resources management'}, {'code': '4', 'name': 'Financial and private sector development'}, {'code': '5', 'name': 'Trade and integration'}, {'code': '11', 'name': 'Environment and natural resources management'}, {'code': '11', 'name': 'Environment and natural resources management'}, {'code': '5', 'name': 'Trade and integration'}, {'code': '4', 'name': 'Financial and private sector development'}, {'code': '2', 'name': 'Public sector governance'}, {'code': '2', 'name': 'Public sector governance'}, {'code': '2', 'name': 'Public sector governance'}, {'code': '11', 'name': 'Environment and natural resources management'}, {'code': '10', 'name': ''}, {'code': '11', 'name': 'Environment and natural resources management'}, {'code': '2', 'name': 'Public sector governance'}, {'code': '10', 'name': 'Rural development'}, {'code': '11', 'name': 'Environment and natural resources management'}, {'code': '11', 'name': 'Environment and natural resources management'}, {'code': '9', 'name': 'Urban development'}, {'code': '4', 'name': 'Financial and private sector development'}, {'code': '4', 'name': 'Financial and private sector development'}, {'code': '10', 'name': 'Rural development'}, {'code': '10', 'name': 'Rural development'}, {'code': '4', 'name': 'Financial and private sector development'}, {'code': '10', 'name': 'Rural development'}, {'code': '11', 'name': 'Environment and natural resources management'}, {'code': '6', 'name': 'Social protection and risk management'}, {'code': '2', 'name': ''}, {'code': '7', 'name': 'Social dev/gender/inclusion'}, {'code': '8', 'name': ''}, {'code': '8', 'name': 'Human development'}, {'code': '11', 'name': ''}, {'code': '11', 'name': 'Environment and natural resources management'}, {'code': '7', 'name': ''}, {'code': '11', 'name': 'Environment and natural resources management'}, {'code': '11', 'name': ''}, {'code': '8', 'name': 'Human development'}, {'code': '8', 'name': 'Human development'}, {'code': '8', 'name': 'Human development'}, {'code': '7', 'name': 'Social dev/gender/inclusion'}, {'code': '3', 'name': ''}, {'code': '10', 'name': 'Rural development'}, {'code': '8', 'name': 'Human development'}, {'code': '11', 'name': 'Environment and natural resources management'}, {'code': '10', 'name': ''}, {'code': '8', 'name': 'Human development'}, {'code': '8', 'name': 'Human development'}, {'code': '8', 'name': 'Human development'}, {'code': '8', 'name': 'Human development'}, {'code': '8', 'name': 'Human development'}, {'code': '11', 'name': ''}, {'code': '7', 'name': 'Social dev/gender/inclusion'}, {'code': '8', 'name': 'Human development'}, {'code': '10', 'name': 'Rural development'}, {'code': '4', 'name': 'Financial and private sector development'}, {'code': '2', 'name': 'Public sector governance'}, {'code': '2', 'name': 'Public sector governance'}, {'code': '10', 'name': 'Rural development'}, {'code': '7', 'name': 'Social dev/gender/inclusion'}, {'code': '10', 'name': 'Rural development'}, {'code': '8', 'name': 'Human development'}, {'code': '7', 'name': 'Social dev/gender/inclusion'}, {'code': '8', 'name': 'Human development'}, {'code': '8', 'name': 'Human development'}, {'code': '8', 'name': 'Human development'}, {'code': '8', 'name': 'Human development'}, {'code': '8', 'name': 'Human development'}, {'code': '6', 'name': 'Social protection and risk management'}, {'code': '7', 'name': 'Social dev/gender/inclusion'}, {'code': '8', 'name': 'Human development'}, {'code': '6', 'name': 'Social protection and risk management'}, {'code': '8', 'name': 'Human development'}, {'code': '7', 'name': 'Social dev/gender/inclusion'}, {'code': '10', 'name': 'Rural development'}, {'code': '11', 'name': 'Environment and natural resources management'}, {'code': '11', 'name': 'Environment and natural resources management'}, {'code': '10', 'name': 'Rural development'}, {'code': '10', 'name': 'Rural development'}, {'code': '11', 'name': 'Environment and natural resources management'}, {'code': '10', 'name': 'Rural development'}, {'code': '10', 'name': 'Rural development'}, {'code': '9', 'name': 'Urban development'}, {'code': '11', 'name': 'Environment and natural resources management'}, {'code': '11', 'name': 'Environment and natural resources management'}, {'code': '8', 'name': 'Human development'}, {'code': '8', 'name': 'Human development'}, {'code': '9', 'name': 'Urban development'}, {'code': '9', 'name': 'Urban development'}, {'code': '9', 'name': 'Urban development'}, {'code': '7', 'name': 'Social dev/gender/inclusion'}, {'code': '7', 'name': 'Social dev/gender/inclusion'}, {'code': '9', 'name': 'Urban development'}, {'code': '6', 'name': 'Social protection and risk management'}, {'code': '10', 'name': 'Rural development'}, {'code': '6', 'name': 'Social protection and risk management'}, {'code': '2', 'name': 'Public sector governance'}, {'code': '10', 'name': 'Rural development'}, {'code': '11', 'name': 'Environment and natural resources management'}, {'code': '10', 'name': 'Rural development'}, {'code': '10', 'name': 'Rural development'}, {'code': '10', 'name': 'Rural development'}, {'code': '10', 'name': 'Rural development'}, {'code': '10', 'name': 'Rural development'}, {'code': '7', 'name': 'Social dev/gender/inclusion'}, {'code': '10', 'name': 'Rural development'}, {'code': '10', 'name': 'Rural development'}, {'code': '6', 'name': 'Social protection and risk management'}, {'code': '8', 'name': 'Human development'}, {'code': '8', 'name': 'Human development'}, {'code': '8', 'name': 'Human development'}, {'code': '8', 'name': 'Human development'}, {'code': '4', 'name': 'Financial and private sector development'}, {'code': '11', 'name': 'Environment and natural resources management'}, {'code': '10', 'name': 'Rural development'}, {'code': '10', 'name': 'Rural development'}, {'code': '10', 'name': 'Rural development'}, {'code': '10', 'name': 'Rural development'}, {'code': '2', 'name': 'Public sector governance'}, {'code': '8', 'name': 'Human development'}, {'code': '5', 'name': 'Trade and integration'}, {'code': '2', 'name': 'Public sector governance'}, {'code': '6', 'name': 'Social protection and risk management'}, {'code': '8', 'name': 'Human development'}, {'code': '8', 'name': 'Human development'}, {'code': '8', 'name': 'Human development'}, {'code': '8', 'name': 'Human development'}, {'code': '4', 'name': 'Financial and private sector development'}, {'code': '11', 'name': 'Environment and natural resources management'}, {'code': '4', 'name': 'Financial and private sector development'}, {'code': '4', 'name': 'Financial and private sector development'}, {'code': '4', 'name': 'Financial and private sector development'}, {'code': '5', 'name': 'Trade and integration'}, {'code': '2', 'name': 'Public sector governance'}, {'code': '1', 'name': 'Economic management'}, {'code': '2', 'name': 'Public sector governance'}, {'code': '6', 'name': 'Social protection and risk management'}, {'code': '7', 'name': 'Social dev/gender/inclusion'}, {'code': '11', 'name': 'Environment and natural resources management'}, {'code': '3', 'name': 'Rule of law'}, {'code': '10', 'name': 'Rural development'}, {'code': '10', 'name': 'Rural development'}, {'code': '8', 'name': 'Human development'}, {'code': '8', 'name': 'Human development'}, {'code': '4', 'name': 'Financial and private sector development'}, {'code': '7', 'name': 'Social dev/gender/inclusion'}, {'code': '11', 'name': 'Environment and natural resources management'}, {'code': '11', 'name': 'Environment and natural resources management'}, {'code': '4', 'name': 'Financial and private sector development'}, {'code': '7', 'name': 'Social dev/gender/inclusion'}, {'code': '6', 'name': 'Social protection and risk management'}, {'code': '6', 'name': 'Social protection and risk management'}, {'code': '6', 'name': 'Social protection and risk management'}, {'code': '1', 'name': 'Economic management'}, {'code': '6', 'name': 'Social protection and risk management'}, {'code': '2', 'name': 'Public sector governance'}, {'code': '6', 'name': 'Social protection and risk management'}, {'code': '2', 'name': 'Public sector governance'}, {'code': '2', 'name': 'Public sector governance'}, {'code': '4', 'name': 'Financial and private sector development'}, {'code': '4', 'name': 'Financial and private sector development'}, {'code': '6', 'name': 'Social protection and risk management'}, {'code': '7', 'name': 'Social dev/gender/inclusion'}, {'code': '6', 'name': 'Social protection and risk management'}, {'code': '2', 'name': 'Public sector governance'}, {'code': '10', 'name': 'Rural development'}, {'code': '4', 'name': 'Financial and private sector development'}, {'code': '2', 'name': 'Public sector governance'}, {'code': '4', 'name': 'Financial and private sector development'}, {'code': '10', 'name': 'Rural development'}, {'code': '2', 'name': 'Public sector governance'}, {'code': '8', 'name': 'Human development'}, {'code': '9', 'name': 'Urban development'}, {'code': '11', 'name': 'Environment and natural resources management'}, {'code': '10', 'name': ''}, {'code': '11', 'name': 'Environment and natural resources management'}, {'code': '10', 'name': 'Rural development'}, {'code': '11', 'name': 'Environment and natural resources management'}, {'code': '11', 'name': 'Environment and natural resources management'}, {'code': '11', 'name': 'Environment and natural resources management'}, {'code': '7', 'name': ''}, {'code': '11', 'name': 'Environment and natural resources management'}, {'code': '11', 'name': 'Environment and natural resources management'}, {'code': '11', 'name': 'Environment and natural resources management'}, {'code': '6', 'name': 'Social protection and risk management'}, {'code': '4', 'name': 'Financial and private sector development'}, {'code': '6', 'name': ''}, {'code': '4', 'name': 'Financial and private sector development'}, {'code': '2', 'name': 'Public sector governance'}, {'code': '2', 'name': 'Public sector governance'}, {'code': '4', 'name': 'Financial and private sector development'}, {'code': '1', 'name': 'Economic management'}, {'code': '2', 'name': 'Public sector governance'}, {'code': '4', 'name': 'Financial and private sector development'}, {'code': '8', 'name': 'Human development'}, {'code': '8', 'name': 'Human development'}, {'code': '4', 'name': 'Financial and private sector development'}, {'code': '4', 'name': 'Financial and private sector development'}, {'code': '4', 'name': 'Financial and private sector development'}, {'code': '10', 'name': 'Rural development'}, {'code': '8', 'name': 'Human development'}, {'code': '2', 'name': 'Public sector governance'}, {'code': '8', 'name': 'Human development'}, {'code': '6', 'name': 'Social protection and risk management'}, {'code': '10', 'name': 'Rural development'}, {'code': '10', 'name': 'Rural development'}, {'code': '5', 'name': 'Trade and integration'}, {'code': '5', 'name': 'Trade and integration'}, {'code': '2', 'name': 'Public sector governance'}, {'code': '8', 'name': 'Human development'}, {'code': '11', 'name': 'Environment and natural resources management'}, {'code': '11', 'name': 'Environment and natural resources management'}, {'code': '11', 'name': 'Environment and natural resources management'}, {'code': '10', 'name': 'Rural development'}, {'code': '11', 'name': 'Environment and natural resources management'}, {'code': '7', 'name': 'Social dev/gender/inclusion'}, {'code': '6', 'name': 'Social protection and risk management'}, {'code': '6', 'name': 'Social protection and risk management'}, {'code': '6', 'name': 'Social protection and risk management'}, {'code': '6', 'name': 'Social protection and risk management'}, {'code': '11', 'name': 'Environment and natural resources management'}, {'code': '10', 'name': 'Rural development'}, {'code': '11', 'name': 'Environment and natural resources management'}, {'code': '11', 'name': 'Environment and natural resources management'}, {'code': '4', 'name': 'Financial and private sector development'}, {'code': '5', 'name': 'Trade and integration'}, {'code': '2', 'name': 'Public sector governance'}, {'code': '5', 'name': 'Trade and integration'}, {'code': '7', 'name': 'Social dev/gender/inclusion'}, {'code': '10', 'name': 'Rural development'}, {'code': '8', 'name': 'Human development'}, {'code': '8', 'name': 'Human development'}, {'code': '8', 'name': 'Human development'}, {'code': '8', 'name': 'Human development'}, {'code': '8', 'name': 'Human development'}, {'code': '11', 'name': ''}, {'code': '10', 'name': 'Rural development'}, {'code': '8', 'name': 'Human development'}, {'code': '8', 'name': 'Human development'}, {'code': '8', 'name': 'Human development'}, {'code': '7', 'name': 'Social dev/gender/inclusion'}, {'code': '4', 'name': 'Financial and private sector development'}, {'code': '10', 'name': 'Rural development'}, {'code': '7', 'name': 'Social dev/gender/inclusion'}, {'code': '2', 'name': 'Public sector governance'}, {'code': '10', 'name': 'Rural development'}, {'code': '2', 'name': 'Public sector governance'}, {'code': '6', 'name': 'Social protection and risk management'}, {'code': '6', 'name': 'Social protection and risk management'}, {'code': '6', 'name': 'Social protection and risk management'}, {'code': '1', 'name': 'Economic management'}, {'code': '8', 'name': 'Human development'}, {'code': '2', 'name': 'Public sector governance'}, {'code': '2', 'name': 'Public sector governance'}, {'code': '2', 'name': 'Public sector governance'}, {'code': '8', 'name': 'Human development'}, {'code': '5', 'name': ''}, {'code': '8', 'name': 'Human development'}, {'code': '10', 'name': ''}, {'code': '5', 'name': 'Trade and integration'}, {'code': '5', 'name': 'Trade and integration'}, {'code': '8', 'name': 'Human development'}, {'code': '8', 'name': 'Human development'}, {'code': '8', 'name': 'Human development'}, {'code': '8', 'name': 'Human development'}, {'code': '8', 'name': 'Human development'}, {'code': '6', 'name': 'Social protection and risk management'}, {'code': '9', 'name': 'Urban development'}, {'code': '7', 'name': 'Social dev/gender/inclusion'}, {'code': '10', 'name': 'Rural development'}, {'code': '4', 'name': ''}, {'code': '10', 'name': 'Rural development'}, {'code': '7', 'name': ''}, {'code': '10', 'name': 'Rural development'}, {'code': '10', 'name': 'Rural development'}, {'code': '4', 'name': 'Financial and private sector development'}, {'code': '10', 'name': 'Rural development'}, {'code': '11', 'name': 'Environment and natural resources management'}, {'code': '4', 'name': 'Financial and private sector development'}, {'code': '10', 'name': 'Rural development'}, {'code': '9', 'name': 'Urban development'}, {'code': '4', 'name': 'Financial and private sector development'}, {'code': '11', 'name': 'Environment and natural resources management'}, {'code': '10', 'name': 'Rural development'}, {'code': '4', 'name': 'Financial and private sector development'}, {'code': '7', 'name': 'Social dev/gender/inclusion'}, {'code': '10', 'name': 'Rural development'}, {'code': '11', 'name': 'Environment and natural resources management'}, {'code': '6', 'name': 'Social protection and risk management'}, {'code': '11', 'name': 'Environment and natural resources management'}, {'code': '9', 'name': 'Urban development'}, {'code': '11', 'name': 'Environment and natural resources management'}, {'code': '11', 'name': 'Environment and natural resources management'}, {'code': '7', 'name': 'Social dev/gender/inclusion'}, {'code': '7', 'name': 'Social dev/gender/inclusion'}, {'code': '8', 'name': 'Human development'}, {'code': '6', 'name': 'Social protection and risk management'}, {'code': '8', 'name': 'Human development'}, {'code': '8', 'name': 'Human development'}, {'code': '8', 'name': 'Human development'}, {'code': '10', 'name': 'Rural development'}, {'code': '4', 'name': 'Financial and private sector development'}, {'code': '10', 'name': 'Rural development'}, {'code': '8', 'name': 'Human development'}, {'code': '10', 'name': 'Rural development'}, {'code': '10', 'name': 'Rural development'}, {'code': '11', 'name': 'Environment and natural resources management'}, {'code': '11', 'name': 'Environment and natural resources management'}, {'code': '11', 'name': 'Environment and natural resources management'}, {'code': '11', 'name': 'Environment and natural resources management'}, {'code': '11', 'name': 'Environment and natural resources management'}, {'code': '4', 'name': 'Financial and private sector development'}, {'code': '9', 'name': 'Urban development'}, {'code': '8', 'name': 'Human development'}, {'code': '8', 'name': ''}, {'code': '8', 'name': 'Human development'}, {'code': '2', 'name': 'Public sector governance'}, {'code': '2', 'name': 'Public sector governance'}, {'code': '5', 'name': ''}, {'code': '6', 'name': 'Social protection and risk management'}, {'code': '10', 'name': ''}, {'code': '6', 'name': 'Social protection and risk management'}, {'code': '6', 'name': ''}, {'code': '4', 'name': 'Financial and private sector development'}, {'code': '4', 'name': 'Financial and private sector development'}, {'code': '4', 'name': 'Financial and private sector development'}, {'code': '8', 'name': ''}, {'code': '10', 'name': 'Rural development'}, {'code': '10', 'name': 'Rural development'}, {'code': '10', 'name': 'Rural development'}, {'code': '8', 'name': ''}, {'code': '6', 'name': 'Social protection and risk management'}, {'code': '7', 'name': 'Social dev/gender/inclusion'}, {'code': '6', 'name': 'Social protection and risk management'}, {'code': '6', 'name': 'Social protection and risk management'}, {'code': '5', 'name': 'Trade and integration'}, {'code': '10', 'name': 'Rural development'}, {'code': '4', 'name': 'Financial and private sector development'}, {'code': '5', 'name': 'Trade and integration'}, {'code': '11', 'name': 'Environment and natural resources management'}, {'code': '11', 'name': 'Environment and natural resources management'}, {'code': '10', 'name': 'Rural development'}, {'code': '10', 'name': 'Rural development'}, {'code': '11', 'name': 'Environment and natural resources management'}, {'code': '8', 'name': 'Human development'}, {'code': '8', 'name': 'Human development'}, {'code': '8', 'name': 'Human development'}, {'code': '8', 'name': 'Human development'}, {'code': '11', 'name': ''}, {'code': '6', 'name': 'Social protection and risk management'}, {'code': '11', 'name': 'Environment and natural resources management'}, {'code': '2', 'name': 'Public sector governance'}, {'code': '11', 'name': ''}, {'code': '7', 'name': 'Social dev/gender/inclusion'}, {'code': '11', 'name': 'Environment and natural resources management'}, {'code': '11', 'name': 'Environment and natural resources management'}, {'code': '11', 'name': 'Environment and natural resources management'}, {'code': '4', 'name': 'Financial and private sector development'}, {'code': '2', 'name': 'Public sector governance'}, {'code': '5', 'name': 'Trade and integration'}, {'code': '1', 'name': 'Economic management'}, {'code': '4', 'name': 'Financial and private sector development'}, {'code': '2', 'name': 'Public sector governance'}, {'code': '10', 'name': ''}, {'code': '8', 'name': 'Human development'}, {'code': '11', 'name': ''}, {'code': '10', 'name': 'Rural development'}, {'code': '6', 'name': 'Social protection and risk management'}, {'code': '11', 'name': 'Environment and natural resources management'}, {'code': '2', 'name': 'Public sector governance'}, {'code': '10', 'name': 'Rural development'}, {'code': '8', 'name': 'Human development'}, {'code': '11', 'name': ''}, {'code': '2', 'name': 'Public sector governance'}, {'code': '1', 'name': ''}, {'code': '11', 'name': 'Environment and natural resources management'}, {'code': '10', 'name': 'Rural development'}, {'code': '10', 'name': 'Rural development'}, {'code': '2', 'name': 'Public sector governance'}, {'code': '3', 'name': ''}, {'code': '11', 'name': 'Environment and natural resources management'}, {'code': '7', 'name': 'Social dev/gender/inclusion'}, {'code': '10', 'name': 'Rural development'}, {'code': '11', 'name': 'Environment and natural resources management'}, {'code': '11', 'name': 'Environment and natural resources management'}, {'code': '8', 'name': 'Human development'}, {'code': '8', 'name': ''}, {'code': '11', 'name': 'Environment and natural resources management'}, {'code': '6', 'name': 'Social protection and risk management'}, {'code': '6', 'name': 'Social protection and risk management'}, {'code': '11', 'name': 'Environment and natural resources management'}, {'code': '11', 'name': 'Environment and natural resources management'}, {'code': '6', 'name': 'Social protection and risk management'}, {'code': '8', 'name': 'Human development'}, {'code': '2', 'name': 'Public sector governance'}, {'code': '1', 'name': 'Economic management'}, {'code': '11', 'name': 'Environment and natural resources management'}, {'code': '7', 'name': 'Social dev/gender/inclusion'}, {'code': '11', 'name': 'Environment and natural resources management'}, {'code': '6', 'name': 'Social protection and risk management'}, {'code': '11', 'name': 'Environment and natural resources management'}, {'code': '11', 'name': 'Environment and natural resources management'}, {'code': '7', 'name': 'Social dev/gender/inclusion'}, {'code': '11', 'name': ''}, {'code': '11', 'name': 'Environment and natural resources management'}, {'code': '11', 'name': 'Environment and natural resources management'}, {'code': '1', 'name': 'Economic management'}, {'code': '1', 'name': 'Economic management'}, {'code': '2', 'name': 'Public sector governance'}, {'code': '2', 'name': 'Public sector governance'}, {'code': '10', 'name': 'Rural development'}, {'code': '8', 'name': 'Human development'}, {'code': '4', 'name': 'Financial and private sector development'}, {'code': '11', 'name': 'Environment and natural resources management'}, {'code': '11', 'name': 'Environment and natural resources management'}, {'code': '11', 'name': 'Environment and natural resources management'}, {'code': '11', 'name': 'Environment and natural resources management'}, {'code': '11', 'name': 'Environment and natural resources management'}, {'code': '7', 'name': 'Social dev/gender/inclusion'}, {'code': '2', 'name': 'Public sector governance'}, {'code': '7', 'name': 'Social dev/gender/inclusion'}, {'code': '10', 'name': 'Rural development'}, {'code': '7', 'name': 'Social dev/gender/inclusion'}, {'code': '10', 'name': 'Rural development'}, {'code': '11', 'name': 'Environment and natural resources management'}, {'code': '7', 'name': 'Social dev/gender/inclusion'}, {'code': '10', 'name': 'Rural development'}, {'code': '10', 'name': 'Rural development'}, {'code': '1', 'name': 'Economic management'}, {'code': '8', 'name': ''}, {'code': '6', 'name': 'Social protection and risk management'}, {'code': '6', 'name': 'Social protection and risk management'}, {'code': '2', 'name': 'Public sector governance'}, {'code': '2', 'name': ''}, {'code': '2', 'name': 'Public sector governance'}, {'code': '7', 'name': ''}, {'code': '10', 'name': 'Rural development'}, {'code': '7', 'name': 'Social dev/gender/inclusion'}, {'code': '10', 'name': 'Rural development'}, {'code': '10', 'name': 'Rural development'}, {'code': '8', 'name': 'Human development'}, {'code': '7', 'name': 'Social dev/gender/inclusion'}, {'code': '11', 'name': 'Environment and natural resources management'}, {'code': '10', 'name': 'Rural development'}, {'code': '7', 'name': 'Social dev/gender/inclusion'}, {'code': '9', 'name': 'Urban development'}, {'code': '6', 'name': 'Social protection and risk management'}, {'code': '7', 'name': 'Social dev/gender/inclusion'}, {'code': '7', 'name': 'Social dev/gender/inclusion'}, {'code': '2', 'name': 'Public sector governance'}, {'code': '2', 'name': 'Public sector governance'}, {'code': '2', 'name': 'Public sector governance'}, {'code': '9', 'name': 'Urban development'}, {'code': '9', 'name': 'Urban development'}, {'code': '9', 'name': 'Urban development'}, {'code': '6', 'name': 'Social protection and risk management'}, {'code': '8', 'name': 'Human development'}, {'code': '6', 'name': 'Social protection and risk management'}, {'code': '6', 'name': 'Social protection and risk management'}, {'code': '7', 'name': 'Social dev/gender/inclusion'}, {'code': '8', 'name': 'Human development'}, {'code': '6', 'name': 'Social protection and risk management'}, {'code': '6', 'name': 'Social protection and risk management'}, {'code': '6', 'name': 'Social protection and risk management'}, {'code': '1', 'name': ''}, {'code': '6', 'name': 'Social protection and risk management'}, {'code': '6', 'name': 'Social protection and risk management'}, {'code': '10', 'name': 'Rural development'}, {'code': '7', 'name': 'Social dev/gender/inclusion'}, {'code': '10', 'name': 'Rural development'}, {'code': '8', 'name': 'Human development'}, {'code': '8', 'name': 'Human development'}, {'code': '10', 'name': 'Rural development'}, {'code': '10', 'name': 'Rural development'}, {'code': '7', 'name': ''}, {'code': '6', 'name': 'Social protection and risk management'}, {'code': '11', 'name': 'Environment and natural resources management'}, {'code': '8', 'name': 'Human development'}, {'code': '2', 'name': 'Public sector governance'}, {'code': '6', 'name': 'Social protection and risk management'}, {'code': '5', 'name': 'Trade and integration'}, {'code': '5', 'name': 'Trade and integration'}, {'code': '5', 'name': 'Trade and integration'}, {'code': '7', 'name': 'Social dev/gender/inclusion'}, {'code': '10', 'name': 'Rural development'}, {'code': '7', 'name': 'Social dev/gender/inclusion'}, {'code': '10', 'name': 'Rural development'}, {'code': '7', 'name': 'Social dev/gender/inclusion'}, {'code': '11', 'name': 'Environment and natural resources management'}, {'code': '10', 'name': 'Rural development'}, {'code': '6', 'name': 'Social protection and risk management'}, {'code': '2', 'name': 'Public sector governance'}, {'code': '2', 'name': 'Public sector governance'}, {'code': '2', 'name': 'Public sector governance'}, {'code': '2', 'name': 'Public sector governance'}, {'code': '5', 'name': 'Trade and integration'}, {'code': '5', 'name': 'Trade and integration'}, {'code': '4', 'name': 'Financial and private sector development'}, {'code': '10', 'name': 'Rural development'}, {'code': '6', 'name': 'Social protection and risk management'}, {'code': '8', 'name': 'Human development'}, {'code': '8', 'name': 'Human development'}, {'code': '8', 'name': 'Human development'}, {'code': '8', 'name': 'Human development'}, {'code': '8', 'name': 'Human development'}, {'code': '6', 'name': 'Social protection and risk management'}, {'code': '10', 'name': 'Rural development'}, {'code': '6', 'name': 'Social protection and risk management'}, {'code': '6', 'name': 'Social protection and risk management'}, {'code': '10', 'name': 'Rural development'}, {'code': '6', 'name': 'Social protection and risk management'}, {'code': '10', 'name': 'Rural development'}, {'code': '11', 'name': 'Environment and natural resources management'}, {'code': '10', 'name': 'Rural development'}, {'code': '10', 'name': 'Rural development'}, {'code': '4', 'name': 'Financial and private sector development'}, {'code': '9', 'name': 'Urban development'}, {'code': '11', 'name': 'Environment and natural resources management'}, {'code': '10', 'name': 'Rural development'}, {'code': '10', 'name': 'Rural development'}, {'code': '11', 'name': 'Environment and natural resources management'}, {'code': '10', 'name': 'Rural development'}, {'code': '8', 'name': 'Human development'}, {'code': '2', 'name': 'Public sector governance'}, {'code': '6', 'name': 'Social protection and risk management'}, {'code': '4', 'name': 'Financial and private sector development'}, {'code': '8', 'name': 'Human development'}, {'code': '10', 'name': 'Rural development'}, {'code': '10', 'name': ''}, {'code': '11', 'name': 'Environment and natural resources management'}, {'code': '11', 'name': 'Environment and natural resources management'}, {'code': '11', 'name': 'Environment and natural resources management'}, {'code': '10', 'name': 'Rural development'}, {'code': '4', 'name': 'Financial and private sector development'}, {'code': '5', 'name': 'Trade and integration'}, {'code': '5', 'name': 'Trade and integration'}, {'code': '10', 'name': 'Rural development'}, {'code': '6', 'name': 'Social protection and risk management'}, {'code': '4', 'name': 'Financial and private sector development'}, {'code': '7', 'name': 'Social dev/gender/inclusion'}, {'code': '7', 'name': 'Social dev/gender/inclusion'}, {'code': '7', 'name': 'Social dev/gender/inclusion'}, {'code': '2', 'name': 'Public sector governance'}, {'code': '6', 'name': 'Social protection and risk management'}, {'code': '6', 'name': 'Social protection and risk management'}, {'code': '2', 'name': 'Public sector governance'}, {'code': '4', 'name': 'Financial and private sector development'}, {'code': '7', 'name': 'Social dev/gender/inclusion'}, {'code': '4', 'name': 'Financial and private sector development'}, {'code': '4', 'name': 'Financial and private sector development'}, {'code': '10', 'name': 'Rural development'}, {'code': '11', 'name': 'Environment and natural resources management'}, {'code': '7', 'name': 'Social dev/gender/inclusion'}, {'code': '2', 'name': ''}, {'code': '11', 'name': 'Environment and natural resources management'}, {'code': '6', 'name': 'Social protection and risk management'}, {'code': '1', 'name': 'Economic management'}, {'code': '11', 'name': 'Environment and natural resources management'}, {'code': '2', 'name': 'Public sector governance'}, {'code': '3', 'name': 'Rule of law'}, {'code': '4', 'name': 'Financial and private sector development'}, {'code': '4', 'name': 'Financial and private sector development'}, {'code': '1', 'name': 'Economic management'}, {'code': '2', 'name': 'Public sector governance'}, {'code': '10', 'name': 'Rural development'}, {'code': '10', 'name': 'Rural development'}, {'code': '10', 'name': 'Rural development'}, {'code': '2', 'name': 'Public sector governance'}, {'code': '1', 'name': 'Economic management'}, {'code': '4', 'name': 'Financial and private sector development'}, {'code': '2', 'name': 'Public sector governance'}, {'code': '11', 'name': 'Environment and natural resources management'}, {'code': '11', 'name': 'Environment and natural resources management'}, {'code': '5', 'name': 'Trade and integration'}, {'code': '6', 'name': ''}, {'code': '11', 'name': 'Environment and natural resources management'}, {'code': '10', 'name': 'Rural development'}, {'code': '11', 'name': 'Environment and natural resources management'}, {'code': '6', 'name': 'Social protection and risk management'}, {'code': '1', 'name': 'Economic management'}, {'code': '1', 'name': 'Economic management'}, {'code': '2', 'name': 'Public sector governance'}, {'code': '2', 'name': 'Public sector governance'}, {'code': '6', 'name': 'Social protection and risk management'}, {'code': '2', 'name': 'Public sector governance'}, {'code': '1', 'name': 'Economic management'}, {'code': '6', 'name': 'Social protection and risk management'}, {'code': '6', 'name': 'Social protection and risk management'}, {'code': '6', 'name': ''}, {'code': '6', 'name': 'Social protection and risk management'}, {'code': '6', 'name': ''}, {'code': '11', 'name': 'Environment and natural resources management'}, {'code': '4', 'name': ''}, {'code': '11', 'name': 'Environment and natural resources management'}, {'code': '6', 'name': ''}, {'code': '11', 'name': 'Environment and natural resources management'}, {'code': '2', 'name': 'Public sector governance'}, {'code': '8', 'name': 'Human development'}, {'code': '8', 'name': 'Human development'}, {'code': '10', 'name': 'Rural development'}, {'code': '10', 'name': 'Rural development'}, {'code': '10', 'name': 'Rural development'}, {'code': '6', 'name': 'Social protection and risk management'}, {'code': '4', 'name': 'Financial and private sector development'}, {'code': '8', 'name': 'Human development'}, {'code': '8', 'name': 'Human development'}, {'code': '6', 'name': 'Social protection and risk management'}, {'code': '1', 'name': 'Economic management'}, {'code': '8', 'name': ''}, {'code': '6', 'name': 'Social protection and risk management'}, {'code': '1', 'name': 'Economic management'}, {'code': '7', 'name': 'Social dev/gender/inclusion'}, {'code': '8', 'name': 'Human development'}, {'code': '4', 'name': 'Financial and private sector development'}, {'code': '10', 'name': 'Rural development'}, {'code': '5', 'name': 'Trade and integration'}, {'code': '5', 'name': 'Trade and integration'}, {'code': '10', 'name': 'Rural development'}, {'code': '2', 'name': ''}, {'code': '7', 'name': 'Social dev/gender/inclusion'}, {'code': '7', 'name': 'Social dev/gender/inclusion'}, {'code': '10', 'name': 'Rural development'}, {'code': '8', 'name': 'Human development'}, {'code': '10', 'name': 'Rural development'}, {'code': '2', 'name': 'Public sector governance'}, {'code': '2', 'name': 'Public sector governance'}, {'code': '4', 'name': 'Financial and private sector development'}, {'code': '4', 'name': ''}, {'code': '8', 'name': 'Human development'}, {'code': '4', 'name': 'Financial and private sector development'}, {'code': '7', 'name': 'Social dev/gender/inclusion'}, {'code': '2', 'name': 'Public sector governance'}, {'code': '2', 'name': 'Public sector governance'}, {'code': '11', 'name': 'Environment and natural resources management'}, {'code': '11', 'name': 'Environment and natural resources management'}, {'code': '7', 'name': 'Social dev/gender/inclusion'}, {'code': '11', 'name': 'Environment and natural resources management'}, {'code': '3', 'name': 'Rule of law'}, {'code': '4', 'name': 'Financial and private sector development'}, {'code': '7', 'name': 'Social dev/gender/inclusion'}, {'code': '9', 'name': 'Urban development'}, {'code': '2', 'name': 'Public sector governance'}, {'code': '4', 'name': 'Financial and private sector development'}, {'code': '2', 'name': 'Public sector governance'}, {'code': '4', 'name': 'Financial and private sector development'}, {'code': '2', 'name': 'Public sector governance'}, {'code': '10', 'name': 'Rural development'}, {'code': '7', 'name': 'Social dev/gender/inclusion'}, {'code': '7', 'name': 'Social dev/gender/inclusion'}, {'code': '10', 'name': 'Rural development'}, {'code': '10', 'name': 'Rural development'}, {'code': '7', 'name': 'Social dev/gender/inclusion'}, {'code': '3', 'name': 'Rule of law'}, {'code': '9', 'name': 'Urban development'}, {'code': '8', 'name': 'Human development'}, {'code': '8', 'name': 'Human development'}, {'code': '8', 'name': 'Human development'}, {'code': '8', 'name': 'Human development'}, {'code': '8', 'name': 'Human development'}, {'code': '10', 'name': 'Rural development'}, {'code': '10', 'name': 'Rural development'}, {'code': '10', 'name': 'Rural development'}, {'code': '4', 'name': 'Financial and private sector development'}, {'code': '8', 'name': 'Human development'}, {'code': '10', 'name': 'Rural development'}, {'code': '10', 'name': 'Rural development'}, {'code': '3', 'name': 'Rule of law'}, {'code': '7', 'name': 'Social dev/gender/inclusion'}, {'code': '9', 'name': 'Urban development'}, {'code': '5', 'name': ''}, {'code': '8', 'name': 'Human development'}, {'code': '11', 'name': 'Environment and natural resources management'}, {'code': '8', 'name': 'Human development'}, {'code': '7', 'name': 'Social dev/gender/inclusion'}, {'code': '11', 'name': 'Environment and natural resources management'}, {'code': '11', 'name': 'Environment and natural resources management'}, {'code': '8', 'name': 'Human development'}, {'code': '7', 'name': 'Social dev/gender/inclusion'}, {'code': '7', 'name': 'Social dev/gender/inclusion'}, {'code': '4', 'name': ''}, {'code': '8', 'name': 'Human development'}, {'code': '11', 'name': ''}, {'code': '10', 'name': 'Rural development'}, {'code': '10', 'name': 'Rural development'}, {'code': '7', 'name': 'Social dev/gender/inclusion'}, {'code': '10', 'name': 'Rural development'}, {'code': '10', 'name': 'Rural development'}, {'code': '4', 'name': 'Financial and private sector development'}, {'code': '2', 'name': 'Public sector governance'}, {'code': '4', 'name': 'Financial and private sector development'}, {'code': '6', 'name': 'Social protection and risk management'}, {'code': '6', 'name': 'Social protection and risk management'}, {'code': '9', 'name': 'Urban development'}, {'code': '11', 'name': 'Environment and natural resources management'}, {'code': '10', 'name': 'Rural development'}, {'code': '5', 'name': 'Trade and integration'}, {'code': '7', 'name': 'Social dev/gender/inclusion'}, {'code': '9', 'name': 'Urban development'}, {'code': '8', 'name': 'Human development'}, {'code': '7', 'name': 'Social dev/gender/inclusion'}, {'code': '8', 'name': 'Human development'}, {'code': '2', 'name': ''}, {'code': '10', 'name': 'Rural development'}, {'code': '2', 'name': 'Public sector governance'}, {'code': '7', 'name': 'Social dev/gender/inclusion'}, {'code': '8', 'name': 'Human development'}, {'code': '2', 'name': 'Public sector governance'}, {'code': '8', 'name': 'Human development'}, {'code': '2', 'name': ''}, {'code': '8', 'name': 'Human development'}, {'code': '11', 'name': ''}, {'code': '6', 'name': 'Social protection and risk management'}, {'code': '4', 'name': 'Financial and private sector development'}, {'code': '11', 'name': 'Environment and natural resources management'}, {'code': '10', 'name': 'Rural development'}, {'code': '6', 'name': 'Social protection and risk management'}, {'code': '8', 'name': 'Human development'}, {'code': '8', 'name': 'Human development'}, {'code': '8', 'name': 'Human development'}, {'code': '10', 'name': 'Rural development'}, {'code': '2', 'name': 'Public sector governance'}, {'code': '6', 'name': 'Social protection and risk management'}, {'code': '5', 'name': 'Trade and integration'}, {'code': '10', 'name': 'Rural development'}, {'code': '10', 'name': 'Rural development'}, {'code': '7', 'name': 'Social dev/gender/inclusion'}, {'code': '11', 'name': 'Environment and natural resources management'}, {'code': '8', 'name': 'Human development'}, {'code': '2', 'name': 'Public sector governance'}, {'code': '2', 'name': 'Public sector governance'}, {'code': '7', 'name': 'Social dev/gender/inclusion'}, {'code': '8', 'name': 'Human development'}, {'code': '5', 'name': 'Trade and integration'}, {'code': '10', 'name': 'Rural development'}, {'code': '5', 'name': 'Trade and integration'}, {'code': '4', 'name': 'Financial and private sector development'}, {'code': '10', 'name': 'Rural development'}, {'code': '11', 'name': 'Environment and natural resources management'}, {'code': '2', 'name': 'Public sector governance'}, {'code': '7', 'name': 'Social dev/gender/inclusion'}, {'code': '11', 'name': 'Environment and natural resources management'}, {'code': '2', 'name': 'Public sector governance'}, {'code': '6', 'name': 'Social protection and risk management'}, {'code': '10', 'name': 'Rural development'}, {'code': '7', 'name': 'Social dev/gender/inclusion'}, {'code': '2', 'name': 'Public sector governance'}, {'code': '5', 'name': 'Trade and integration'}, {'code': '8', 'name': 'Human development'}, {'code': '6', 'name': 'Social protection and risk management'}, {'code': '10', 'name': 'Rural development'}, {'code': '10', 'name': 'Rural development'}, {'code': '7', 'name': 'Social dev/gender/inclusion'}, {'code': '11', 'name': 'Environment and natural resources management'}, {'code': '6', 'name': 'Social protection and risk management'}, {'code': '11', 'name': 'Environment and natural resources management'}, {'code': '7', 'name': 'Social dev/gender/inclusion'}, {'code': '2', 'name': 'Public sector governance'}, {'code': '2', 'name': 'Public sector governance'}, {'code': '4', 'name': 'Financial and private sector development'}, {'code': '2', 'name': 'Public sector governance'}, {'code': '6', 'name': 'Social protection and risk management'}, {'code': '3', 'name': 'Rule of law'}, {'code': '5', 'name': 'Trade and integration'}, {'code': '4', 'name': 'Financial and private sector development'}, {'code': '11', 'name': ''}, {'code': '5', 'name': 'Trade and integration'}, {'code': '10', 'name': 'Rural development'}, {'code': '10', 'name': 'Rural development'}, {'code': '7', 'name': 'Social dev/gender/inclusion'}, {'code': '11', 'name': 'Environment and natural resources management'}, {'code': '7', 'name': 'Social dev/gender/inclusion'}, {'code': '11', 'name': 'Environment and natural resources management'}, {'code': '11', 'name': ''}, {'code': '11', 'name': 'Environment and natural resources management'}, {'code': '4', 'name': ''}, {'code': '9', 'name': 'Urban development'}, {'code': '9', 'name': 'Urban development'}, {'code': '4', 'name': 'Financial and private sector development'}, {'code': '9', 'name': 'Urban development'}, {'code': '10', 'name': 'Rural development'}, {'code': '8', 'name': ''}, {'code': '4', 'name': 'Financial and private sector development'}, {'code': '10', 'name': 'Rural development'}, {'code': '2', 'name': 'Public sector governance'}, {'code': '3', 'name': 'Rule of law'}, {'code': '11', 'name': 'Environment and natural resources management'}, {'code': '7', 'name': 'Social dev/gender/inclusion'}, {'code': '1', 'name': ''}, {'code': '2', 'name': 'Public sector governance'}, {'code': '11', 'name': ''}, {'code': '8', 'name': 'Human development'}, {'code': '7', 'name': 'Social dev/gender/inclusion'}, {'code': '7', 'name': 'Social dev/gender/inclusion'}, {'code': '8', 'name': 'Human development'}, {'code': '10', 'name': 'Rural development'}, {'code': '11', 'name': 'Environment and natural resources management'}, {'code': '11', 'name': 'Environment and natural resources management'}, {'code': '10', 'name': 'Rural development'}, {'code': '11', 'name': 'Environment and natural resources management'}, {'code': '11', 'name': 'Environment and natural resources management'}, {'code': '10', 'name': 'Rural development'}, {'code': '11', 'name': 'Environment and natural resources management'}, {'code': '10', 'name': 'Rural development'}, {'code': '4', 'name': 'Financial and private sector development'}, {'code': '7', 'name': 'Social dev/gender/inclusion'}, {'code': '10', 'name': 'Rural development'}, {'code': '8', 'name': 'Human development'}, {'code': '4', 'name': ''}, {'code': '2', 'name': 'Public sector governance'}, {'code': '6', 'name': 'Social protection and risk management'}, {'code': '6', 'name': 'Social protection and risk management'}, {'code': '6', 'name': 'Social protection and risk management'}, {'code': '11', 'name': 'Environment and natural resources management'}, {'code': '10', 'name': 'Rural development'}, {'code': '10', 'name': 'Rural development'}, {'code': '11', 'name': 'Environment and natural resources management'}, {'code': '8', 'name': 'Human development'}, {'code': '2', 'name': 'Public sector governance'}, {'code': '2', 'name': 'Public sector governance'}, {'code': '8', 'name': 'Human development'}, {'code': '9', 'name': 'Urban development'}, {'code': '6', 'name': 'Social protection and risk management'}, {'code': '6', 'name': 'Social protection and risk management'}, {'code': '9', 'name': 'Urban development'}, {'code': '2', 'name': 'Public sector governance'}, {'code': '2', 'name': 'Public sector governance'}, {'code': '10', 'name': 'Rural development'}, {'code': '11', 'name': ''}, {'code': '8', 'name': 'Human development'}, {'code': '7', 'name': 'Social dev/gender/inclusion'}, {'code': '11', 'name': 'Environment and natural resources management'}, {'code': '5', 'name': ''}, {'code': '6', 'name': 'Social protection and risk management'}, {'code': '8', 'name': ''}, {'code': '4', 'name': 'Financial and private sector development'}, {'code': '7', 'name': 'Social dev/gender/inclusion'}, {'code': '8', 'name': 'Human development'}, {'code': '5', 'name': 'Trade and integration'}, {'code': '2', 'name': 'Public sector governance'}, {'code': '8', 'name': 'Human development'}, {'code': '10', 'name': 'Rural development'}, {'code': '6', 'name': ''}, {'code': '10', 'name': 'Rural development'}, {'code': '10', 'name': 'Rural development'}, {'code': '10', 'name': 'Rural development'}, {'code': '9', 'name': 'Urban development'}, {'code': '8', 'name': 'Human development'}, {'code': '5', 'name': 'Trade and integration'}, {'code': '4', 'name': 'Financial and private sector development'}]\n"
     ]
    }
   ],
   "source": [
    "# creating a newlist by taking each item of the nested list into a simple list\n",
    "newlist = []\n",
    "for ilist in mlist:\n",
    "    for i in ilist:\n",
    "        newlist.append(i)\n",
    "\n",
    "print(newlist)"
   ]
  },
  {
   "cell_type": "code",
   "execution_count": 13,
   "metadata": {
    "collapsed": true
   },
   "outputs": [],
   "source": [
    "#creating a data frame from the simple new list using json_normalize function\n",
    "df_mlist = json_normalize(newlist)"
   ]
  },
  {
   "cell_type": "code",
   "execution_count": 14,
   "metadata": {},
   "outputs": [
    {
     "data": {
      "text/html": [
       "<div>\n",
       "<style>\n",
       "    .dataframe thead tr:only-child th {\n",
       "        text-align: right;\n",
       "    }\n",
       "\n",
       "    .dataframe thead th {\n",
       "        text-align: left;\n",
       "    }\n",
       "\n",
       "    .dataframe tbody tr th {\n",
       "        vertical-align: top;\n",
       "    }\n",
       "</style>\n",
       "<table border=\"1\" class=\"dataframe\">\n",
       "  <thead>\n",
       "    <tr style=\"text-align: right;\">\n",
       "      <th></th>\n",
       "      <th>code</th>\n",
       "      <th>name</th>\n",
       "    </tr>\n",
       "  </thead>\n",
       "  <tbody>\n",
       "    <tr>\n",
       "      <th>0</th>\n",
       "      <td>8</td>\n",
       "      <td>Human development</td>\n",
       "    </tr>\n",
       "    <tr>\n",
       "      <th>1</th>\n",
       "      <td>11</td>\n",
       "      <td></td>\n",
       "    </tr>\n",
       "    <tr>\n",
       "      <th>2</th>\n",
       "      <td>1</td>\n",
       "      <td>Economic management</td>\n",
       "    </tr>\n",
       "    <tr>\n",
       "      <th>3</th>\n",
       "      <td>6</td>\n",
       "      <td>Social protection and risk management</td>\n",
       "    </tr>\n",
       "    <tr>\n",
       "      <th>4</th>\n",
       "      <td>5</td>\n",
       "      <td>Trade and integration</td>\n",
       "    </tr>\n",
       "  </tbody>\n",
       "</table>\n",
       "</div>"
      ],
      "text/plain": [
       "  code                                   name\n",
       "0    8                      Human development\n",
       "1   11                                       \n",
       "2    1                    Economic management\n",
       "3    6  Social protection and risk management\n",
       "4    5                  Trade and integration"
      ]
     },
     "execution_count": 14,
     "metadata": {},
     "output_type": "execute_result"
    }
   ],
   "source": [
    "# alook to the new dataframe\n",
    "df_mlist.head()\n",
    "\n",
    "# Note: There are missing values under name column."
   ]
  },
  {
   "cell_type": "code",
   "execution_count": 16,
   "metadata": {},
   "outputs": [
    {
     "name": "stdout",
     "output_type": "stream",
     "text": [
      "List of top 10 major project themes.\n",
      "------------------------------------\n",
      "1. Environment and natural resources management = 223 as project theme\n",
      "2. Rural development = 202 as project theme\n",
      "3. Human development = 197 as project theme\n",
      "4. Public sector governance = 184 as project theme\n",
      "5. Social protection and risk management = 158 as project theme\n",
      "6. Financial and private sector development = 130 as project theme\n",
      "7. Social dev/gender/inclusion = 119 as project theme\n",
      "8. Trade and integration = 72 as project theme\n",
      "9. Urban development = 47 as project theme\n",
      "10. Economic management = 33 as project theme\n"
     ]
    }
   ],
   "source": [
    "# create an empty dictionary major_proj_area to hold the project theme and their count.\n",
    "major_proj_area = {}\n",
    "for index, row in df_mlist.iterrows():\n",
    "    if row['name'] != '': #removing rows where project name is missing.\n",
    "        major_proj_area[row['name']] = major_proj_area.get(row['name'], 0) + 1\n",
    "        \n",
    "# creating sorted dictionary using lambda function in descending order    \n",
    "major10project = sorted(major_proj_area.items(), reverse = True, key=lambda r: r[1])\n",
    "\n",
    "# variable to hold only top 10 from the list\n",
    "top10mj = major10project[:10]\n",
    "\n",
    "# printing the list of top 10 major project theme.\n",
    "print('List of top 10 major project themes.')\n",
    "print('------------------------------------')\n",
    "for i, (n, c) in enumerate(top10mj):\n",
    "    print( \"%d. %s = %d as project theme\" % (i+1, n, c))"
   ]
  },
  {
   "cell_type": "markdown",
   "metadata": {},
   "source": [
    "### 3. In 2. above you will notice that some entries have only the code and the name is missing. Create a dataframe with the missing names filled in. ###"
   ]
  },
  {
   "cell_type": "code",
   "execution_count": 17,
   "metadata": {},
   "outputs": [
    {
     "name": "stdout",
     "output_type": "stream",
     "text": [
      "<class 'pandas.core.frame.DataFrame'>\n",
      "RangeIndex: 1499 entries, 0 to 1498\n",
      "Data columns (total 2 columns):\n",
      "code    1499 non-null object\n",
      "name    1499 non-null object\n",
      "dtypes: object(2)\n",
      "memory usage: 23.5+ KB\n"
     ]
    }
   ],
   "source": [
    "# the dataframe created for problem 2 is not showing any null or nan value because there are missing values\n",
    "# with ''(empty string) values. \n",
    "df_mlist.info()"
   ]
  },
  {
   "cell_type": "code",
   "execution_count": 19,
   "metadata": {
    "collapsed": true
   },
   "outputs": [],
   "source": [
    "# Thought of having two list of unique values from the dataframe 2 columns but this idea could not work as there\n",
    "# was an empty string('') in the dataframe name column. Once I remove the '' from the list the code and respective\n",
    "# name order was lost else it would be easier to create key-value pair.\n",
    "a=list(df_mlist.code.unique())\n",
    "b=list(df_mlist.name.unique())\n",
    "# To address this manually created the the dictinary mj_dict"
   ]
  },
  {
   "cell_type": "code",
   "execution_count": 20,
   "metadata": {
    "collapsed": true
   },
   "outputs": [],
   "source": [
    "# created mj_dict manually with the matching code by getting the names where respective code was not empty string''\n",
    "# dictionary with code and value.\n",
    "mj_dict = {'1': 'Economic management',\n",
    "           '2': 'Public sector governance',\n",
    "           '3': 'Rule of law',\n",
    "           '4': 'Financial and private sector development',\n",
    "           '5': 'Trade and integration',\n",
    "           '6': 'Social protection and risk management',\n",
    "           '7': 'Social dev/gender/inclusion',\n",
    "           '8': 'Human development',\n",
    "           '9': 'Urban development',\n",
    "          '10': 'Rural development',\n",
    "          '11': 'Environment and natural resources management'}"
   ]
  },
  {
   "cell_type": "code",
   "execution_count": 21,
   "metadata": {
    "collapsed": true
   },
   "outputs": [],
   "source": [
    "# creaing a seperate dataframe to work with missing(empty string) issue.\n",
    "df_missing = df_mlist.copy()"
   ]
  },
  {
   "cell_type": "code",
   "execution_count": 22,
   "metadata": {},
   "outputs": [
    {
     "data": {
      "text/html": [
       "<div>\n",
       "<style>\n",
       "    .dataframe thead tr:only-child th {\n",
       "        text-align: right;\n",
       "    }\n",
       "\n",
       "    .dataframe thead th {\n",
       "        text-align: left;\n",
       "    }\n",
       "\n",
       "    .dataframe tbody tr th {\n",
       "        vertical-align: top;\n",
       "    }\n",
       "</style>\n",
       "<table border=\"1\" class=\"dataframe\">\n",
       "  <thead>\n",
       "    <tr style=\"text-align: right;\">\n",
       "      <th></th>\n",
       "      <th>code</th>\n",
       "      <th>name</th>\n",
       "    </tr>\n",
       "  </thead>\n",
       "  <tbody>\n",
       "    <tr>\n",
       "      <th>0</th>\n",
       "      <td>8</td>\n",
       "      <td>Human development</td>\n",
       "    </tr>\n",
       "    <tr>\n",
       "      <th>1</th>\n",
       "      <td>11</td>\n",
       "      <td></td>\n",
       "    </tr>\n",
       "    <tr>\n",
       "      <th>2</th>\n",
       "      <td>1</td>\n",
       "      <td>Economic management</td>\n",
       "    </tr>\n",
       "    <tr>\n",
       "      <th>3</th>\n",
       "      <td>6</td>\n",
       "      <td>Social protection and risk management</td>\n",
       "    </tr>\n",
       "    <tr>\n",
       "      <th>4</th>\n",
       "      <td>5</td>\n",
       "      <td>Trade and integration</td>\n",
       "    </tr>\n",
       "  </tbody>\n",
       "</table>\n",
       "</div>"
      ],
      "text/plain": [
       "  code                                   name\n",
       "0    8                      Human development\n",
       "1   11                                       \n",
       "2    1                    Economic management\n",
       "3    6  Social protection and risk management\n",
       "4    5                  Trade and integration"
      ]
     },
     "execution_count": 22,
     "metadata": {},
     "output_type": "execute_result"
    }
   ],
   "source": [
    "# a look into the new dataframe\n",
    "df_missing.head()"
   ]
  },
  {
   "cell_type": "code",
   "execution_count": 24,
   "metadata": {},
   "outputs": [],
   "source": [
    "# filling the dataframe value of empty string('') with the code values as defined in the mj_dict variable above.\n",
    "for ind, row in df_missing.iterrows():\n",
    "    #print(row['code'], row['name'])\n",
    "    if row['name'] == '':\n",
    "        row['name']= mj_dict[row['code']]\n",
    "    else:\n",
    "        row['name'] = row['name']\n",
    "    #print(row['code'], row['name']) # not required here as directly updating the dataframe.\n",
    "    \n",
    "    "
   ]
  },
  {
   "cell_type": "code",
   "execution_count": 25,
   "metadata": {},
   "outputs": [
    {
     "data": {
      "text/html": [
       "<div>\n",
       "<style>\n",
       "    .dataframe thead tr:only-child th {\n",
       "        text-align: right;\n",
       "    }\n",
       "\n",
       "    .dataframe thead th {\n",
       "        text-align: left;\n",
       "    }\n",
       "\n",
       "    .dataframe tbody tr th {\n",
       "        vertical-align: top;\n",
       "    }\n",
       "</style>\n",
       "<table border=\"1\" class=\"dataframe\">\n",
       "  <thead>\n",
       "    <tr style=\"text-align: right;\">\n",
       "      <th></th>\n",
       "      <th>code</th>\n",
       "      <th>name</th>\n",
       "    </tr>\n",
       "  </thead>\n",
       "  <tbody>\n",
       "    <tr>\n",
       "      <th>0</th>\n",
       "      <td>8</td>\n",
       "      <td>Human development</td>\n",
       "    </tr>\n",
       "    <tr>\n",
       "      <th>1</th>\n",
       "      <td>11</td>\n",
       "      <td>Environment and natural resources management</td>\n",
       "    </tr>\n",
       "    <tr>\n",
       "      <th>2</th>\n",
       "      <td>1</td>\n",
       "      <td>Economic management</td>\n",
       "    </tr>\n",
       "    <tr>\n",
       "      <th>3</th>\n",
       "      <td>6</td>\n",
       "      <td>Social protection and risk management</td>\n",
       "    </tr>\n",
       "    <tr>\n",
       "      <th>4</th>\n",
       "      <td>5</td>\n",
       "      <td>Trade and integration</td>\n",
       "    </tr>\n",
       "  </tbody>\n",
       "</table>\n",
       "</div>"
      ],
      "text/plain": [
       "  code                                          name\n",
       "0    8                             Human development\n",
       "1   11  Environment and natural resources management\n",
       "2    1                           Economic management\n",
       "3    6         Social protection and risk management\n",
       "4    5                         Trade and integration"
      ]
     },
     "execution_count": 25,
     "metadata": {},
     "output_type": "execute_result"
    }
   ],
   "source": [
    "# look into the updated dataframe with NO empty string('')\n",
    "df_missing.head()"
   ]
  },
  {
   "cell_type": "code",
   "execution_count": 26,
   "metadata": {},
   "outputs": [
    {
     "name": "stdout",
     "output_type": "stream",
     "text": [
      "Empty DataFrame\n",
      "Columns: [code, name]\n",
      "Index: []\n"
     ]
    }
   ],
   "source": [
    "# checking if there is any row with empty string('')\n",
    "print(df_missing[df_missing['name']==''])"
   ]
  },
  {
   "cell_type": "code",
   "execution_count": 28,
   "metadata": {},
   "outputs": [
    {
     "name": "stdout",
     "output_type": "stream",
     "text": [
      "   code                   name\n",
      "4     5  Trade and integration\n",
      "10    5  Trade and integration\n",
      "30    5  Trade and integration\n",
      "38    5  Trade and integration\n",
      "67    5  Trade and integration\n"
     ]
    }
   ],
   "source": [
    "# checking with some name just to make sure the dataframe is not empty.\n",
    "print(df_missing[df_missing['name']=='Trade and integration'].head())"
   ]
  }
 ],
 "metadata": {
  "kernelspec": {
   "display_name": "Python 3",
   "language": "python",
   "name": "python3"
  },
  "language_info": {
   "codemirror_mode": {
    "name": "ipython",
    "version": 3
   },
   "file_extension": ".py",
   "mimetype": "text/x-python",
   "name": "python",
   "nbconvert_exporter": "python",
   "pygments_lexer": "ipython3",
   "version": "3.6.1"
  }
 },
 "nbformat": 4,
 "nbformat_minor": 2
}
